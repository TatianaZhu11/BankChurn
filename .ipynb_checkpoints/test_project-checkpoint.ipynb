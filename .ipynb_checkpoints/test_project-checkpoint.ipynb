{
 "cells": [
  {
   "cell_type": "markdown",
   "metadata": {
    "toc": true
   },
   "source": [
    "<h1>Содержание<span class=\"tocSkip\"></span></h1>\n",
    "<div class=\"toc\"><ul class=\"toc-item\"><li><span><a href=\"#Подготовка-данных\" data-toc-modified-id=\"Подготовка-данных-1\"><span class=\"toc-item-num\">1&nbsp;&nbsp;</span>Подготовка данных</a></span></li><li><span><a href=\"#Исследование-задачи\" data-toc-modified-id=\"Исследование-задачи-2\"><span class=\"toc-item-num\">2&nbsp;&nbsp;</span>Исследование задачи</a></span></li><li><span><a href=\"#Борьба-с-дисбалансом\" data-toc-modified-id=\"Борьба-с-дисбалансом-3\"><span class=\"toc-item-num\">3&nbsp;&nbsp;</span>Борьба с дисбалансом</a></span><ul class=\"toc-item\"><li><span><a href=\"#Взвешивание-классов\" data-toc-modified-id=\"Взвешивание-классов-3.1\"><span class=\"toc-item-num\">3.1&nbsp;&nbsp;</span>Взвешивание классов</a></span></li><li><span><a href=\"#Увеличение-выборки\" data-toc-modified-id=\"Увеличение-выборки-3.2\"><span class=\"toc-item-num\">3.2&nbsp;&nbsp;</span>Увеличение выборки</a></span></li><li><span><a href=\"#Уменьшениие-выборки\" data-toc-modified-id=\"Уменьшениие-выборки-3.3\"><span class=\"toc-item-num\">3.3&nbsp;&nbsp;</span>Уменьшениие выборки</a></span></li><li><span><a href=\"#Изменение-порога-классификации\" data-toc-modified-id=\"Изменение-порога-классификации-3.4\"><span class=\"toc-item-num\">3.4&nbsp;&nbsp;</span>Изменение порога классификации</a></span></li></ul></li><li><span><a href=\"#Тестирование-модели\" data-toc-modified-id=\"Тестирование-модели-4\"><span class=\"toc-item-num\">4&nbsp;&nbsp;</span>Тестирование модели</a></span></li><li><span><a href=\"#Выводы\" data-toc-modified-id=\"Выводы-5\"><span class=\"toc-item-num\">5&nbsp;&nbsp;</span>Выводы</a></span></li><li><span><a href=\"#Чек-лист-готовности-проекта\" data-toc-modified-id=\"Чек-лист-готовности-проекта-6\"><span class=\"toc-item-num\">6&nbsp;&nbsp;</span>Чек-лист готовности проекта</a></span></li></ul></div>"
   ]
  },
  {
   "cell_type": "markdown",
   "metadata": {},
   "source": [
    "# Отток клиентов"
   ]
  },
  {
   "cell_type": "markdown",
   "metadata": {},
   "source": [
    "Из «Бета-Банка» стали уходить клиенты. Каждый месяц. Немного, но заметно. Банковские маркетологи посчитали: сохранять текущих клиентов дешевле, чем привлекать новых.\n",
    "\n",
    "Нужно спрогнозировать, уйдёт клиент из банка в ближайшее время или нет. Вам предоставлены исторические данные о поведении клиентов и расторжении договоров с банком. \n",
    "\n",
    "Постройте модель с предельно большим значением *F1*-меры. Чтобы сдать проект успешно, нужно довести метрику до 0.59. Проверьте *F1*-меру на тестовой выборке самостоятельно.\n",
    "\n",
    "Дополнительно измеряйте *AUC-ROC*, сравнивайте её значение с *F1*-мерой.\n",
    "\n",
    "Источник данных: [https://www.kaggle.com/barelydedicated/bank-customer-churn-modeling](https://www.kaggle.com/barelydedicated/bank-customer-churn-modeling)\n",
    "\n",
    "**Целью** настоящей работы является выявление модели, позволяющей прогнозировать отток клиентов банка со значением f1-меры не менее 0.59%.\n",
    "\n",
    "**Описание данных**:\n",
    "\n",
    "Признаки\n",
    " - RowNumber — индекс строки в данных\n",
    " - CustomerId — уникальный идентификатор клиента\n",
    " - Surname — фамилия\n",
    " - CreditScore — кредитный рейтинг\n",
    " - Geography — страна проживания\n",
    " - Gender — пол\n",
    " - Age — возраст\n",
    " - Tenure — сколько лет человек является клиентом банка\n",
    " - Balance — баланс на счёте\n",
    " - NumOfProducts — количество продуктов банка, используемых клиентом\n",
    " - HasCrCard — наличие кредитной карты\n",
    " - IsActiveMember — активность клиента\n",
    " - EstimatedSalary — предполагаемая зарплата\n",
    " \n",
    "Целевой признак\n",
    " - Exited — факт ухода клиента"
   ]
  },
  {
   "cell_type": "markdown",
   "metadata": {},
   "source": [
    "## Подготовка данных"
   ]
  },
  {
   "cell_type": "code",
   "execution_count": 1,
   "metadata": {},
   "outputs": [],
   "source": [
    "import pandas as pd\n",
    "from sklearn.model_selection import train_test_split\n",
    "from sklearn.tree import DecisionTreeClassifier\n",
    "from sklearn.ensemble import RandomForestClassifier\n",
    "from sklearn.metrics import f1_score\n",
    "from sklearn.metrics import roc_auc_score\n",
    "from sklearn.preprocessing import OrdinalEncoder\n",
    "from sklearn.preprocessing import StandardScaler\n",
    "from sklearn.utils import shuffle\n",
    "from sklearn.metrics import roc_curve\n",
    "import matplotlib.pyplot as plt\n",
    "#v2: from sklearn.linear_model import LogisticRegression\n",
    "#v2: from sklearn.metrics import precision_recall_curve\n",
    "import numpy as np\n",
    "from sklearn.metrics import confusion_matrix\n",
    "#v2: from sklearn.metrics import precision_score\n",
    "#v2: from sklearn.metrics import recall_score"
   ]
  },
  {
   "cell_type": "code",
   "execution_count": 2,
   "metadata": {
    "scrolled": false
   },
   "outputs": [
    {
     "name": "stdout",
     "output_type": "stream",
     "text": [
      "<class 'pandas.core.frame.DataFrame'>\n",
      "RangeIndex: 10000 entries, 0 to 9999\n",
      "Data columns (total 14 columns):\n",
      " #   Column           Non-Null Count  Dtype  \n",
      "---  ------           --------------  -----  \n",
      " 0   RowNumber        10000 non-null  int64  \n",
      " 1   CustomerId       10000 non-null  int64  \n",
      " 2   Surname          10000 non-null  object \n",
      " 3   CreditScore      10000 non-null  int64  \n",
      " 4   Geography        10000 non-null  object \n",
      " 5   Gender           10000 non-null  object \n",
      " 6   Age              10000 non-null  int64  \n",
      " 7   Tenure           9091 non-null   float64\n",
      " 8   Balance          10000 non-null  float64\n",
      " 9   NumOfProducts    10000 non-null  int64  \n",
      " 10  HasCrCard        10000 non-null  int64  \n",
      " 11  IsActiveMember   10000 non-null  int64  \n",
      " 12  EstimatedSalary  10000 non-null  float64\n",
      " 13  Exited           10000 non-null  int64  \n",
      "dtypes: float64(3), int64(8), object(3)\n",
      "memory usage: 1.1+ MB\n"
     ]
    }
   ],
   "source": [
    "data = pd.read_csv('/datasets/Churn.csv')\n",
    "data.info()"
   ]
  },
  {
   "cell_type": "markdown",
   "metadata": {},
   "source": [
    "Пропуски присутствуют только в данных о продолжительности сотрудничества клиента с банком. \n",
    "\n",
    "Типы переменных корректировать не требуется."
   ]
  },
  {
   "cell_type": "code",
   "execution_count": 3,
   "metadata": {},
   "outputs": [
    {
     "data": {
      "text/html": [
       "<div>\n",
       "<style scoped>\n",
       "    .dataframe tbody tr th:only-of-type {\n",
       "        vertical-align: middle;\n",
       "    }\n",
       "\n",
       "    .dataframe tbody tr th {\n",
       "        vertical-align: top;\n",
       "    }\n",
       "\n",
       "    .dataframe thead th {\n",
       "        text-align: right;\n",
       "    }\n",
       "</style>\n",
       "<table border=\"1\" class=\"dataframe\">\n",
       "  <thead>\n",
       "    <tr style=\"text-align: right;\">\n",
       "      <th></th>\n",
       "      <th>RowNumber</th>\n",
       "      <th>CustomerId</th>\n",
       "      <th>CreditScore</th>\n",
       "      <th>Age</th>\n",
       "      <th>Tenure</th>\n",
       "      <th>Balance</th>\n",
       "      <th>NumOfProducts</th>\n",
       "      <th>HasCrCard</th>\n",
       "      <th>IsActiveMember</th>\n",
       "      <th>EstimatedSalary</th>\n",
       "      <th>Exited</th>\n",
       "    </tr>\n",
       "  </thead>\n",
       "  <tbody>\n",
       "    <tr>\n",
       "      <th>count</th>\n",
       "      <td>10000.00000</td>\n",
       "      <td>1.000000e+04</td>\n",
       "      <td>10000.000000</td>\n",
       "      <td>10000.000000</td>\n",
       "      <td>9091.000000</td>\n",
       "      <td>10000.000000</td>\n",
       "      <td>10000.000000</td>\n",
       "      <td>10000.00000</td>\n",
       "      <td>10000.000000</td>\n",
       "      <td>10000.000000</td>\n",
       "      <td>10000.000000</td>\n",
       "    </tr>\n",
       "    <tr>\n",
       "      <th>mean</th>\n",
       "      <td>5000.50000</td>\n",
       "      <td>1.569094e+07</td>\n",
       "      <td>650.528800</td>\n",
       "      <td>38.921800</td>\n",
       "      <td>4.997690</td>\n",
       "      <td>76485.889288</td>\n",
       "      <td>1.530200</td>\n",
       "      <td>0.70550</td>\n",
       "      <td>0.515100</td>\n",
       "      <td>100090.239881</td>\n",
       "      <td>0.203700</td>\n",
       "    </tr>\n",
       "    <tr>\n",
       "      <th>std</th>\n",
       "      <td>2886.89568</td>\n",
       "      <td>7.193619e+04</td>\n",
       "      <td>96.653299</td>\n",
       "      <td>10.487806</td>\n",
       "      <td>2.894723</td>\n",
       "      <td>62397.405202</td>\n",
       "      <td>0.581654</td>\n",
       "      <td>0.45584</td>\n",
       "      <td>0.499797</td>\n",
       "      <td>57510.492818</td>\n",
       "      <td>0.402769</td>\n",
       "    </tr>\n",
       "    <tr>\n",
       "      <th>min</th>\n",
       "      <td>1.00000</td>\n",
       "      <td>1.556570e+07</td>\n",
       "      <td>350.000000</td>\n",
       "      <td>18.000000</td>\n",
       "      <td>0.000000</td>\n",
       "      <td>0.000000</td>\n",
       "      <td>1.000000</td>\n",
       "      <td>0.00000</td>\n",
       "      <td>0.000000</td>\n",
       "      <td>11.580000</td>\n",
       "      <td>0.000000</td>\n",
       "    </tr>\n",
       "    <tr>\n",
       "      <th>25%</th>\n",
       "      <td>2500.75000</td>\n",
       "      <td>1.562853e+07</td>\n",
       "      <td>584.000000</td>\n",
       "      <td>32.000000</td>\n",
       "      <td>2.000000</td>\n",
       "      <td>0.000000</td>\n",
       "      <td>1.000000</td>\n",
       "      <td>0.00000</td>\n",
       "      <td>0.000000</td>\n",
       "      <td>51002.110000</td>\n",
       "      <td>0.000000</td>\n",
       "    </tr>\n",
       "    <tr>\n",
       "      <th>50%</th>\n",
       "      <td>5000.50000</td>\n",
       "      <td>1.569074e+07</td>\n",
       "      <td>652.000000</td>\n",
       "      <td>37.000000</td>\n",
       "      <td>5.000000</td>\n",
       "      <td>97198.540000</td>\n",
       "      <td>1.000000</td>\n",
       "      <td>1.00000</td>\n",
       "      <td>1.000000</td>\n",
       "      <td>100193.915000</td>\n",
       "      <td>0.000000</td>\n",
       "    </tr>\n",
       "    <tr>\n",
       "      <th>75%</th>\n",
       "      <td>7500.25000</td>\n",
       "      <td>1.575323e+07</td>\n",
       "      <td>718.000000</td>\n",
       "      <td>44.000000</td>\n",
       "      <td>7.000000</td>\n",
       "      <td>127644.240000</td>\n",
       "      <td>2.000000</td>\n",
       "      <td>1.00000</td>\n",
       "      <td>1.000000</td>\n",
       "      <td>149388.247500</td>\n",
       "      <td>0.000000</td>\n",
       "    </tr>\n",
       "    <tr>\n",
       "      <th>max</th>\n",
       "      <td>10000.00000</td>\n",
       "      <td>1.581569e+07</td>\n",
       "      <td>850.000000</td>\n",
       "      <td>92.000000</td>\n",
       "      <td>10.000000</td>\n",
       "      <td>250898.090000</td>\n",
       "      <td>4.000000</td>\n",
       "      <td>1.00000</td>\n",
       "      <td>1.000000</td>\n",
       "      <td>199992.480000</td>\n",
       "      <td>1.000000</td>\n",
       "    </tr>\n",
       "  </tbody>\n",
       "</table>\n",
       "</div>"
      ],
      "text/plain": [
       "         RowNumber    CustomerId   CreditScore           Age       Tenure  \\\n",
       "count  10000.00000  1.000000e+04  10000.000000  10000.000000  9091.000000   \n",
       "mean    5000.50000  1.569094e+07    650.528800     38.921800     4.997690   \n",
       "std     2886.89568  7.193619e+04     96.653299     10.487806     2.894723   \n",
       "min        1.00000  1.556570e+07    350.000000     18.000000     0.000000   \n",
       "25%     2500.75000  1.562853e+07    584.000000     32.000000     2.000000   \n",
       "50%     5000.50000  1.569074e+07    652.000000     37.000000     5.000000   \n",
       "75%     7500.25000  1.575323e+07    718.000000     44.000000     7.000000   \n",
       "max    10000.00000  1.581569e+07    850.000000     92.000000    10.000000   \n",
       "\n",
       "             Balance  NumOfProducts    HasCrCard  IsActiveMember  \\\n",
       "count   10000.000000   10000.000000  10000.00000    10000.000000   \n",
       "mean    76485.889288       1.530200      0.70550        0.515100   \n",
       "std     62397.405202       0.581654      0.45584        0.499797   \n",
       "min         0.000000       1.000000      0.00000        0.000000   \n",
       "25%         0.000000       1.000000      0.00000        0.000000   \n",
       "50%     97198.540000       1.000000      1.00000        1.000000   \n",
       "75%    127644.240000       2.000000      1.00000        1.000000   \n",
       "max    250898.090000       4.000000      1.00000        1.000000   \n",
       "\n",
       "       EstimatedSalary        Exited  \n",
       "count     10000.000000  10000.000000  \n",
       "mean     100090.239881      0.203700  \n",
       "std       57510.492818      0.402769  \n",
       "min          11.580000      0.000000  \n",
       "25%       51002.110000      0.000000  \n",
       "50%      100193.915000      0.000000  \n",
       "75%      149388.247500      0.000000  \n",
       "max      199992.480000      1.000000  "
      ]
     },
     "execution_count": 3,
     "metadata": {},
     "output_type": "execute_result"
    }
   ],
   "source": [
    "data.describe()"
   ]
  },
  {
   "cell_type": "markdown",
   "metadata": {},
   "source": [
    "Рассмотрим подробнее признаки с большим диапазоном данных:"
   ]
  },
  {
   "cell_type": "code",
   "execution_count": 4,
   "metadata": {},
   "outputs": [
    {
     "data": {
      "image/png": "[encoded data removed]",
      "text/plain": [
       "<Figure size 432x288 with 1 Axes>"
      ]
     },
     "metadata": {
      "needs_background": "light"
     },
     "output_type": "display_data"
    }
   ],
   "source": [
    "data['Balance'].plot(kind='hist', title='Распределение данных о балансе').set(\n",
    "xlabel='Баланс на счёте', ylabel='Частота в выборке');"
   ]
  },
  {
   "cell_type": "code",
   "execution_count": 5,
   "metadata": {},
   "outputs": [
    {
     "data": {
      "image/png": "[encoded data removed]",
      "text/plain": [
       "<Figure size 432x288 with 1 Axes>"
      ]
     },
     "metadata": {
      "needs_background": "light"
     },
     "output_type": "display_data"
    }
   ],
   "source": [
    "data['Balance'].plot.box(title='Диаграмма размаха для баланса на счете');"
   ]
  },
  {
   "cell_type": "code",
   "execution_count": 6,
   "metadata": {},
   "outputs": [
    {
     "data": {
      "image/png": "[encoded data removed]",
      "text/plain": [
       "<Figure size 432x288 with 1 Axes>"
      ]
     },
     "metadata": {
      "needs_background": "light"
     },
     "output_type": "display_data"
    }
   ],
   "source": [
    "data['EstimatedSalary'].plot(kind='hist', title='Распределение данных о зарплате').set(\n",
    "xlabel='Предполагаемая зарплата', ylabel='Частота в выборке');"
   ]
  },
  {
   "cell_type": "code",
   "execution_count": 7,
   "metadata": {},
   "outputs": [
    {
     "data": {
      "image/png": "[encoded data removed]",
      "text/plain": [
       "<Figure size 432x288 with 1 Axes>"
      ]
     },
     "metadata": {
      "needs_background": "light"
     },
     "output_type": "display_data"
    }
   ],
   "source": [
    "data['EstimatedSalary'].plot.box(title='Диаграмма размаха для данных о зарплате');"
   ]
  },
  {
   "cell_type": "markdown",
   "metadata": {},
   "source": [
    "Выбросов в данных нет."
   ]
  },
  {
   "cell_type": "code",
   "execution_count": 8,
   "metadata": {},
   "outputs": [
    {
     "data": {
      "text/html": [
       "<div>\n",
       "<style scoped>\n",
       "    .dataframe tbody tr th:only-of-type {\n",
       "        vertical-align: middle;\n",
       "    }\n",
       "\n",
       "    .dataframe tbody tr th {\n",
       "        vertical-align: top;\n",
       "    }\n",
       "\n",
       "    .dataframe thead th {\n",
       "        text-align: right;\n",
       "    }\n",
       "</style>\n",
       "<table border=\"1\" class=\"dataframe\">\n",
       "  <thead>\n",
       "    <tr style=\"text-align: right;\">\n",
       "      <th></th>\n",
       "      <th>RowNumber</th>\n",
       "      <th>CustomerId</th>\n",
       "      <th>Surname</th>\n",
       "      <th>CreditScore</th>\n",
       "      <th>Geography</th>\n",
       "      <th>Gender</th>\n",
       "      <th>Age</th>\n",
       "      <th>Tenure</th>\n",
       "      <th>Balance</th>\n",
       "      <th>NumOfProducts</th>\n",
       "      <th>HasCrCard</th>\n",
       "      <th>IsActiveMember</th>\n",
       "      <th>EstimatedSalary</th>\n",
       "      <th>Exited</th>\n",
       "    </tr>\n",
       "  </thead>\n",
       "  <tbody>\n",
       "    <tr>\n",
       "      <th>0</th>\n",
       "      <td>1</td>\n",
       "      <td>15634602</td>\n",
       "      <td>Hargrave</td>\n",
       "      <td>619</td>\n",
       "      <td>France</td>\n",
       "      <td>Female</td>\n",
       "      <td>42</td>\n",
       "      <td>2.0</td>\n",
       "      <td>0.00</td>\n",
       "      <td>1</td>\n",
       "      <td>1</td>\n",
       "      <td>1</td>\n",
       "      <td>101348.88</td>\n",
       "      <td>1</td>\n",
       "    </tr>\n",
       "    <tr>\n",
       "      <th>1</th>\n",
       "      <td>2</td>\n",
       "      <td>15647311</td>\n",
       "      <td>Hill</td>\n",
       "      <td>608</td>\n",
       "      <td>Spain</td>\n",
       "      <td>Female</td>\n",
       "      <td>41</td>\n",
       "      <td>1.0</td>\n",
       "      <td>83807.86</td>\n",
       "      <td>1</td>\n",
       "      <td>0</td>\n",
       "      <td>1</td>\n",
       "      <td>112542.58</td>\n",
       "      <td>0</td>\n",
       "    </tr>\n",
       "    <tr>\n",
       "      <th>2</th>\n",
       "      <td>3</td>\n",
       "      <td>15619304</td>\n",
       "      <td>Onio</td>\n",
       "      <td>502</td>\n",
       "      <td>France</td>\n",
       "      <td>Female</td>\n",
       "      <td>42</td>\n",
       "      <td>8.0</td>\n",
       "      <td>159660.80</td>\n",
       "      <td>3</td>\n",
       "      <td>1</td>\n",
       "      <td>0</td>\n",
       "      <td>113931.57</td>\n",
       "      <td>1</td>\n",
       "    </tr>\n",
       "    <tr>\n",
       "      <th>3</th>\n",
       "      <td>4</td>\n",
       "      <td>15701354</td>\n",
       "      <td>Boni</td>\n",
       "      <td>699</td>\n",
       "      <td>France</td>\n",
       "      <td>Female</td>\n",
       "      <td>39</td>\n",
       "      <td>1.0</td>\n",
       "      <td>0.00</td>\n",
       "      <td>2</td>\n",
       "      <td>0</td>\n",
       "      <td>0</td>\n",
       "      <td>93826.63</td>\n",
       "      <td>0</td>\n",
       "    </tr>\n",
       "    <tr>\n",
       "      <th>4</th>\n",
       "      <td>5</td>\n",
       "      <td>15737888</td>\n",
       "      <td>Mitchell</td>\n",
       "      <td>850</td>\n",
       "      <td>Spain</td>\n",
       "      <td>Female</td>\n",
       "      <td>43</td>\n",
       "      <td>2.0</td>\n",
       "      <td>125510.82</td>\n",
       "      <td>1</td>\n",
       "      <td>1</td>\n",
       "      <td>1</td>\n",
       "      <td>79084.10</td>\n",
       "      <td>0</td>\n",
       "    </tr>\n",
       "  </tbody>\n",
       "</table>\n",
       "</div>"
      ],
      "text/plain": [
       "   RowNumber  CustomerId   Surname  CreditScore Geography  Gender  Age  \\\n",
       "0          1    15634602  Hargrave          619    France  Female   42   \n",
       "1          2    15647311      Hill          608     Spain  Female   41   \n",
       "2          3    15619304      Onio          502    France  Female   42   \n",
       "3          4    15701354      Boni          699    France  Female   39   \n",
       "4          5    15737888  Mitchell          850     Spain  Female   43   \n",
       "\n",
       "   Tenure    Balance  NumOfProducts  HasCrCard  IsActiveMember  \\\n",
       "0     2.0       0.00              1          1               1   \n",
       "1     1.0   83807.86              1          0               1   \n",
       "2     8.0  159660.80              3          1               0   \n",
       "3     1.0       0.00              2          0               0   \n",
       "4     2.0  125510.82              1          1               1   \n",
       "\n",
       "   EstimatedSalary  Exited  \n",
       "0        101348.88       1  \n",
       "1        112542.58       0  \n",
       "2        113931.57       1  \n",
       "3         93826.63       0  \n",
       "4         79084.10       0  "
      ]
     },
     "execution_count": 8,
     "metadata": {},
     "output_type": "execute_result"
    }
   ],
   "source": [
    "data.head()"
   ]
  },
  {
   "cell_type": "code",
   "execution_count": 9,
   "metadata": {},
   "outputs": [
    {
     "data": {
      "text/plain": [
       "0"
      ]
     },
     "execution_count": 9,
     "metadata": {},
     "output_type": "execute_result"
    }
   ],
   "source": [
    "data.duplicated().sum()"
   ]
  },
  {
   "cell_type": "markdown",
   "metadata": {},
   "source": [
    "Дубликаты в данных отсутствуют."
   ]
  },
  {
   "cell_type": "markdown",
   "metadata": {},
   "source": [
    "Самостоятельно заполнить пропуски с данными о том, как долго человек является клиентом банка, невозможно. Поэтому избавимся от строк с пропусками."
   ]
  },
  {
   "cell_type": "code",
   "execution_count": 10,
   "metadata": {},
   "outputs": [
    {
     "name": "stdout",
     "output_type": "stream",
     "text": [
      "<class 'pandas.core.frame.DataFrame'>\n",
      "Int64Index: 9091 entries, 0 to 9998\n",
      "Data columns (total 14 columns):\n",
      " #   Column           Non-Null Count  Dtype  \n",
      "---  ------           --------------  -----  \n",
      " 0   RowNumber        9091 non-null   int64  \n",
      " 1   CustomerId       9091 non-null   int64  \n",
      " 2   Surname          9091 non-null   object \n",
      " 3   CreditScore      9091 non-null   int64  \n",
      " 4   Geography        9091 non-null   object \n",
      " 5   Gender           9091 non-null   object \n",
      " 6   Age              9091 non-null   int64  \n",
      " 7   Tenure           9091 non-null   float64\n",
      " 8   Balance          9091 non-null   float64\n",
      " 9   NumOfProducts    9091 non-null   int64  \n",
      " 10  HasCrCard        9091 non-null   int64  \n",
      " 11  IsActiveMember   9091 non-null   int64  \n",
      " 12  EstimatedSalary  9091 non-null   float64\n",
      " 13  Exited           9091 non-null   int64  \n",
      "dtypes: float64(3), int64(8), object(3)\n",
      "memory usage: 1.0+ MB\n"
     ]
    }
   ],
   "source": [
    "data = data.dropna(subset=['Tenure'])\n",
    "data.info()"
   ]
  },
  {
   "cell_type": "markdown",
   "metadata": {},
   "source": [
    "Также удалим столбцы с неинформативными признаками. К ним относятся RowNumber (индекс строки в данных), CustomerId (уникальный идентификатор клиента) и Surname (фамилия)."
   ]
  },
  {
   "cell_type": "code",
   "execution_count": 11,
   "metadata": {},
   "outputs": [
    {
     "name": "stdout",
     "output_type": "stream",
     "text": [
      "<class 'pandas.core.frame.DataFrame'>\n",
      "Int64Index: 9091 entries, 0 to 9998\n",
      "Data columns (total 11 columns):\n",
      " #   Column           Non-Null Count  Dtype  \n",
      "---  ------           --------------  -----  \n",
      " 0   CreditScore      9091 non-null   int64  \n",
      " 1   Geography        9091 non-null   object \n",
      " 2   Gender           9091 non-null   object \n",
      " 3   Age              9091 non-null   int64  \n",
      " 4   Tenure           9091 non-null   float64\n",
      " 5   Balance          9091 non-null   float64\n",
      " 6   NumOfProducts    9091 non-null   int64  \n",
      " 7   HasCrCard        9091 non-null   int64  \n",
      " 8   IsActiveMember   9091 non-null   int64  \n",
      " 9   EstimatedSalary  9091 non-null   float64\n",
      " 10  Exited           9091 non-null   int64  \n",
      "dtypes: float64(3), int64(6), object(2)\n",
      "memory usage: 852.3+ KB\n"
     ]
    }
   ],
   "source": [
    "#v2:\n",
    "data = data.drop(columns=['RowNumber', 'CustomerId','Surname'])\n",
    "data.info()"
   ]
  },
  {
   "cell_type": "markdown",
   "metadata": {},
   "source": [
    "Разделим выборку на обучающую, тестовую и валидационную и проверим размеры получившихся датасетов:"
   ]
  },
  {
   "cell_type": "code",
   "execution_count": 12,
   "metadata": {},
   "outputs": [
    {
     "name": "stdout",
     "output_type": "stream",
     "text": [
      "Размер обучающих выборок: признаки - (5454, 10), таргет - (5454,)\n",
      "Размер тестовых выборок: признаки - (1818, 10), таргет - (1818,)\n",
      "Размер валидационных выборок: признаки - (1819, 10), таргет - (1819,)\n"
     ]
    }
   ],
   "source": [
    "#v2:\n",
    "features = data.drop('Exited', axis=1)\n",
    "target = data['Exited']\n",
    "\n",
    "features_train, features_test, target_train, target_test = train_test_split(\n",
    "    features, target, test_size=0.40, random_state=12345)\n",
    "features_test, features_valid, target_test, target_valid = train_test_split(\n",
    "    features_test, target_test, test_size=0.50, random_state=12345)\n",
    "\n",
    "print(f'Размер обучающих выборок: признаки - {features_train.shape}, таргет - {target_train.shape}')\n",
    "print(f'Размер тестовых выборок: признаки - {features_test.shape}, таргет - {target_test.shape}') \n",
    "print(f'Размер валидационных выборок: признаки - {features_valid.shape}, таргет - {target_valid.shape}')\n",
    "                     \n",
    "#v1:\n",
    "#train_df, test_df = train_test_split(data, test_size=0.25, random_state=12345)\n",
    "#train_df, validation_df = train_test_split(data, test_size=0.25, random_state=12345)\n",
    "#print(f'Размер обучающей выборки: {train_df.shape}')\n",
    "#print(f'Размер тестовой выборки: {test_df.shape}') \n",
    "#print(f'Размер валидационной выборки: {validation_df.shape}')"
   ]
  },
  {
   "cell_type": "code",
   "execution_count": 13,
   "metadata": {
    "scrolled": false
   },
   "outputs": [
    {
     "name": "stderr",
     "output_type": "stream",
     "text": [
      "/tmp/ipykernel_79/407881685.py:5: SettingWithCopyWarning: \n",
      "A value is trying to be set on a copy of a slice from a DataFrame.\n",
      "Try using .loc[row_indexer,col_indexer] = value instead\n",
      "\n",
      "See the caveats in the documentation: https://pandas.pydata.org/pandas-docs/stable/user_guide/indexing.html#returning-a-view-versus-a-copy\n",
      "  features_train[['Geography','Gender']] = encoder.transform(features_train[['Geography','Gender']])\n",
      "/opt/conda/lib/python3.9/site-packages/pandas/core/indexing.py:1738: SettingWithCopyWarning: \n",
      "A value is trying to be set on a copy of a slice from a DataFrame.\n",
      "Try using .loc[row_indexer,col_indexer] = value instead\n",
      "\n",
      "See the caveats in the documentation: https://pandas.pydata.org/pandas-docs/stable/user_guide/indexing.html#returning-a-view-versus-a-copy\n",
      "  self._setitem_single_column(loc, value[:, i].tolist(), pi)\n"
     ]
    },
    {
     "data": {
      "text/html": [
       "<div>\n",
       "<style scoped>\n",
       "    .dataframe tbody tr th:only-of-type {\n",
       "        vertical-align: middle;\n",
       "    }\n",
       "\n",
       "    .dataframe tbody tr th {\n",
       "        vertical-align: top;\n",
       "    }\n",
       "\n",
       "    .dataframe thead th {\n",
       "        text-align: right;\n",
       "    }\n",
       "</style>\n",
       "<table border=\"1\" class=\"dataframe\">\n",
       "  <thead>\n",
       "    <tr style=\"text-align: right;\">\n",
       "      <th></th>\n",
       "      <th>CreditScore</th>\n",
       "      <th>Geography</th>\n",
       "      <th>Gender</th>\n",
       "      <th>Age</th>\n",
       "      <th>Tenure</th>\n",
       "      <th>Balance</th>\n",
       "      <th>NumOfProducts</th>\n",
       "      <th>HasCrCard</th>\n",
       "      <th>IsActiveMember</th>\n",
       "      <th>EstimatedSalary</th>\n",
       "    </tr>\n",
       "  </thead>\n",
       "  <tbody>\n",
       "    <tr>\n",
       "      <th>9344</th>\n",
       "      <td>727</td>\n",
       "      <td>0.0</td>\n",
       "      <td>0.0</td>\n",
       "      <td>28</td>\n",
       "      <td>2.0</td>\n",
       "      <td>110997.76</td>\n",
       "      <td>1</td>\n",
       "      <td>1</td>\n",
       "      <td>0</td>\n",
       "      <td>101433.76</td>\n",
       "    </tr>\n",
       "    <tr>\n",
       "      <th>3796</th>\n",
       "      <td>537</td>\n",
       "      <td>0.0</td>\n",
       "      <td>1.0</td>\n",
       "      <td>26</td>\n",
       "      <td>7.0</td>\n",
       "      <td>106397.75</td>\n",
       "      <td>1</td>\n",
       "      <td>0</td>\n",
       "      <td>0</td>\n",
       "      <td>103563.23</td>\n",
       "    </tr>\n",
       "    <tr>\n",
       "      <th>7462</th>\n",
       "      <td>610</td>\n",
       "      <td>0.0</td>\n",
       "      <td>1.0</td>\n",
       "      <td>40</td>\n",
       "      <td>9.0</td>\n",
       "      <td>0.00</td>\n",
       "      <td>1</td>\n",
       "      <td>1</td>\n",
       "      <td>1</td>\n",
       "      <td>149602.54</td>\n",
       "    </tr>\n",
       "    <tr>\n",
       "      <th>1508</th>\n",
       "      <td>576</td>\n",
       "      <td>0.0</td>\n",
       "      <td>1.0</td>\n",
       "      <td>36</td>\n",
       "      <td>6.0</td>\n",
       "      <td>0.00</td>\n",
       "      <td>2</td>\n",
       "      <td>1</td>\n",
       "      <td>1</td>\n",
       "      <td>48314.00</td>\n",
       "    </tr>\n",
       "    <tr>\n",
       "      <th>4478</th>\n",
       "      <td>549</td>\n",
       "      <td>0.0</td>\n",
       "      <td>1.0</td>\n",
       "      <td>31</td>\n",
       "      <td>4.0</td>\n",
       "      <td>0.00</td>\n",
       "      <td>2</td>\n",
       "      <td>0</td>\n",
       "      <td>1</td>\n",
       "      <td>25684.85</td>\n",
       "    </tr>\n",
       "  </tbody>\n",
       "</table>\n",
       "</div>"
      ],
      "text/plain": [
       "      CreditScore  Geography  Gender  Age  Tenure    Balance  NumOfProducts  \\\n",
       "9344          727        0.0     0.0   28     2.0  110997.76              1   \n",
       "3796          537        0.0     1.0   26     7.0  106397.75              1   \n",
       "7462          610        0.0     1.0   40     9.0       0.00              1   \n",
       "1508          576        0.0     1.0   36     6.0       0.00              2   \n",
       "4478          549        0.0     1.0   31     4.0       0.00              2   \n",
       "\n",
       "      HasCrCard  IsActiveMember  EstimatedSalary  \n",
       "9344          1               0        101433.76  \n",
       "3796          0               0        103563.23  \n",
       "7462          1               1        149602.54  \n",
       "1508          1               1         48314.00  \n",
       "4478          0               1         25684.85  "
      ]
     },
     "execution_count": 13,
     "metadata": {},
     "output_type": "execute_result"
    }
   ],
   "source": [
    "encoder = OrdinalEncoder()\n",
    "\n",
    "#v2:\n",
    "encoder.fit(features_train[['Geography','Gender']])\n",
    "features_train[['Geography','Gender']] = encoder.transform(features_train[['Geography','Gender']])\n",
    "features_test[['Geography','Gender']] = encoder.transform(features_test[['Geography','Gender']])\n",
    "features_valid[['Geography','Gender']] = encoder.transform(features_valid[['Geography','Gender']])\n",
    "\n",
    "\n",
    "#v1 - data = pd.DataFrame(encoder.fit_transform(data, columns=data.columns)\n",
    "features_train.head()"
   ]
  },
  {
   "cell_type": "markdown",
   "metadata": {},
   "source": [
    "Стандартизируем признаки, чтобы привести их к одному масштабу:"
   ]
  },
  {
   "cell_type": "code",
   "execution_count": 14,
   "metadata": {},
   "outputs": [],
   "source": [
    "scaler = StandardScaler()\n",
    "scaler.fit(features_train.values)\n",
    "sc_features_train = scaler.transform(features_train)\n",
    "sc_features_valid = scaler.transform(features_valid)\n",
    "sc_features_test = scaler.transform(features_test)"
   ]
  },
  {
   "cell_type": "code",
   "execution_count": 15,
   "metadata": {},
   "outputs": [
    {
     "data": {
      "text/html": [
       "<div>\n",
       "<style scoped>\n",
       "    .dataframe tbody tr th:only-of-type {\n",
       "        vertical-align: middle;\n",
       "    }\n",
       "\n",
       "    .dataframe tbody tr th {\n",
       "        vertical-align: top;\n",
       "    }\n",
       "\n",
       "    .dataframe thead th {\n",
       "        text-align: right;\n",
       "    }\n",
       "</style>\n",
       "<table border=\"1\" class=\"dataframe\">\n",
       "  <thead>\n",
       "    <tr style=\"text-align: right;\">\n",
       "      <th></th>\n",
       "      <th>CreditScore</th>\n",
       "      <th>Geography</th>\n",
       "      <th>Gender</th>\n",
       "      <th>Age</th>\n",
       "      <th>Tenure</th>\n",
       "      <th>Balance</th>\n",
       "      <th>NumOfProducts</th>\n",
       "      <th>HasCrCard</th>\n",
       "      <th>IsActiveMember</th>\n",
       "      <th>EstimatedSalary</th>\n",
       "    </tr>\n",
       "  </thead>\n",
       "  <tbody>\n",
       "    <tr>\n",
       "      <th>9344</th>\n",
       "      <td>0.809075</td>\n",
       "      <td>-0.90352</td>\n",
       "      <td>-1.107304</td>\n",
       "      <td>-1.039327</td>\n",
       "      <td>-1.025995</td>\n",
       "      <td>0.554904</td>\n",
       "      <td>-0.908179</td>\n",
       "      <td>0.663468</td>\n",
       "      <td>-1.024127</td>\n",
       "      <td>0.019508</td>\n",
       "    </tr>\n",
       "    <tr>\n",
       "      <th>3796</th>\n",
       "      <td>-1.152518</td>\n",
       "      <td>-0.90352</td>\n",
       "      <td>0.903094</td>\n",
       "      <td>-1.227561</td>\n",
       "      <td>0.696524</td>\n",
       "      <td>0.480609</td>\n",
       "      <td>-0.908179</td>\n",
       "      <td>-1.507231</td>\n",
       "      <td>-1.024127</td>\n",
       "      <td>0.056167</td>\n",
       "    </tr>\n",
       "    <tr>\n",
       "      <th>7462</th>\n",
       "      <td>-0.398853</td>\n",
       "      <td>-0.90352</td>\n",
       "      <td>0.903094</td>\n",
       "      <td>0.090079</td>\n",
       "      <td>1.385532</td>\n",
       "      <td>-1.237830</td>\n",
       "      <td>-0.908179</td>\n",
       "      <td>0.663468</td>\n",
       "      <td>0.976442</td>\n",
       "      <td>0.848738</td>\n",
       "    </tr>\n",
       "    <tr>\n",
       "      <th>1508</th>\n",
       "      <td>-0.749875</td>\n",
       "      <td>-0.90352</td>\n",
       "      <td>0.903094</td>\n",
       "      <td>-0.286389</td>\n",
       "      <td>0.352020</td>\n",
       "      <td>-1.237830</td>\n",
       "      <td>0.809300</td>\n",
       "      <td>0.663468</td>\n",
       "      <td>0.976442</td>\n",
       "      <td>-0.894953</td>\n",
       "    </tr>\n",
       "    <tr>\n",
       "      <th>4478</th>\n",
       "      <td>-1.028628</td>\n",
       "      <td>-0.90352</td>\n",
       "      <td>0.903094</td>\n",
       "      <td>-0.756975</td>\n",
       "      <td>-0.336987</td>\n",
       "      <td>-1.237830</td>\n",
       "      <td>0.809300</td>\n",
       "      <td>-1.507231</td>\n",
       "      <td>0.976442</td>\n",
       "      <td>-1.284516</td>\n",
       "    </tr>\n",
       "  </tbody>\n",
       "</table>\n",
       "</div>"
      ],
      "text/plain": [
       "      CreditScore  Geography    Gender       Age    Tenure   Balance  \\\n",
       "9344     0.809075   -0.90352 -1.107304 -1.039327 -1.025995  0.554904   \n",
       "3796    -1.152518   -0.90352  0.903094 -1.227561  0.696524  0.480609   \n",
       "7462    -0.398853   -0.90352  0.903094  0.090079  1.385532 -1.237830   \n",
       "1508    -0.749875   -0.90352  0.903094 -0.286389  0.352020 -1.237830   \n",
       "4478    -1.028628   -0.90352  0.903094 -0.756975 -0.336987 -1.237830   \n",
       "\n",
       "      NumOfProducts  HasCrCard  IsActiveMember  EstimatedSalary  \n",
       "9344      -0.908179   0.663468       -1.024127         0.019508  \n",
       "3796      -0.908179  -1.507231       -1.024127         0.056167  \n",
       "7462      -0.908179   0.663468        0.976442         0.848738  \n",
       "1508       0.809300   0.663468        0.976442        -0.894953  \n",
       "4478       0.809300  -1.507231        0.976442        -1.284516  "
      ]
     },
     "execution_count": 15,
     "metadata": {},
     "output_type": "execute_result"
    }
   ],
   "source": [
    "sc_features_train = pd.DataFrame(sc_features_train, index=features_train.index, columns = features_train.columns)\n",
    "sc_features_train.head()"
   ]
  },
  {
   "cell_type": "code",
   "execution_count": 16,
   "metadata": {},
   "outputs": [
    {
     "data": {
      "text/html": [
       "<div>\n",
       "<style scoped>\n",
       "    .dataframe tbody tr th:only-of-type {\n",
       "        vertical-align: middle;\n",
       "    }\n",
       "\n",
       "    .dataframe tbody tr th {\n",
       "        vertical-align: top;\n",
       "    }\n",
       "\n",
       "    .dataframe thead th {\n",
       "        text-align: right;\n",
       "    }\n",
       "</style>\n",
       "<table border=\"1\" class=\"dataframe\">\n",
       "  <thead>\n",
       "    <tr style=\"text-align: right;\">\n",
       "      <th></th>\n",
       "      <th>CreditScore</th>\n",
       "      <th>Geography</th>\n",
       "      <th>Gender</th>\n",
       "      <th>Age</th>\n",
       "      <th>Tenure</th>\n",
       "      <th>Balance</th>\n",
       "      <th>NumOfProducts</th>\n",
       "      <th>HasCrCard</th>\n",
       "      <th>IsActiveMember</th>\n",
       "      <th>EstimatedSalary</th>\n",
       "    </tr>\n",
       "  </thead>\n",
       "  <tbody>\n",
       "    <tr>\n",
       "      <th>5170</th>\n",
       "      <td>1.707279</td>\n",
       "      <td>-0.903520</td>\n",
       "      <td>-1.107304</td>\n",
       "      <td>-0.756975</td>\n",
       "      <td>-0.336987</td>\n",
       "      <td>-1.237830</td>\n",
       "      <td>0.809300</td>\n",
       "      <td>0.663468</td>\n",
       "      <td>0.976442</td>\n",
       "      <td>0.718362</td>\n",
       "    </tr>\n",
       "    <tr>\n",
       "      <th>4180</th>\n",
       "      <td>-0.429826</td>\n",
       "      <td>0.306944</td>\n",
       "      <td>0.903094</td>\n",
       "      <td>-0.286389</td>\n",
       "      <td>1.730036</td>\n",
       "      <td>0.485538</td>\n",
       "      <td>0.809300</td>\n",
       "      <td>-1.507231</td>\n",
       "      <td>-1.024127</td>\n",
       "      <td>1.687305</td>\n",
       "    </tr>\n",
       "    <tr>\n",
       "      <th>7349</th>\n",
       "      <td>-0.171721</td>\n",
       "      <td>0.306944</td>\n",
       "      <td>0.903094</td>\n",
       "      <td>0.278313</td>\n",
       "      <td>0.352020</td>\n",
       "      <td>-0.269213</td>\n",
       "      <td>0.809300</td>\n",
       "      <td>-1.507231</td>\n",
       "      <td>0.976442</td>\n",
       "      <td>0.824128</td>\n",
       "    </tr>\n",
       "    <tr>\n",
       "      <th>7469</th>\n",
       "      <td>0.385784</td>\n",
       "      <td>-0.903520</td>\n",
       "      <td>-1.107304</td>\n",
       "      <td>-0.380507</td>\n",
       "      <td>1.041028</td>\n",
       "      <td>0.464813</td>\n",
       "      <td>-0.908179</td>\n",
       "      <td>0.663468</td>\n",
       "      <td>-1.024127</td>\n",
       "      <td>-1.118018</td>\n",
       "    </tr>\n",
       "    <tr>\n",
       "      <th>3467</th>\n",
       "      <td>-1.142194</td>\n",
       "      <td>0.306944</td>\n",
       "      <td>-1.107304</td>\n",
       "      <td>0.278313</td>\n",
       "      <td>-1.370498</td>\n",
       "      <td>0.353837</td>\n",
       "      <td>0.809300</td>\n",
       "      <td>-1.507231</td>\n",
       "      <td>0.976442</td>\n",
       "      <td>-0.107642</td>\n",
       "    </tr>\n",
       "  </tbody>\n",
       "</table>\n",
       "</div>"
      ],
      "text/plain": [
       "      CreditScore  Geography    Gender       Age    Tenure   Balance  \\\n",
       "5170     1.707279  -0.903520 -1.107304 -0.756975 -0.336987 -1.237830   \n",
       "4180    -0.429826   0.306944  0.903094 -0.286389  1.730036  0.485538   \n",
       "7349    -0.171721   0.306944  0.903094  0.278313  0.352020 -0.269213   \n",
       "7469     0.385784  -0.903520 -1.107304 -0.380507  1.041028  0.464813   \n",
       "3467    -1.142194   0.306944 -1.107304  0.278313 -1.370498  0.353837   \n",
       "\n",
       "      NumOfProducts  HasCrCard  IsActiveMember  EstimatedSalary  \n",
       "5170       0.809300   0.663468        0.976442         0.718362  \n",
       "4180       0.809300  -1.507231       -1.024127         1.687305  \n",
       "7349       0.809300  -1.507231        0.976442         0.824128  \n",
       "7469      -0.908179   0.663468       -1.024127        -1.118018  \n",
       "3467       0.809300  -1.507231        0.976442        -0.107642  "
      ]
     },
     "execution_count": 16,
     "metadata": {},
     "output_type": "execute_result"
    }
   ],
   "source": [
    "sc_features_valid = pd.DataFrame(sc_features_valid, index=features_valid.index, columns = features_valid.columns)\n",
    "sc_features_valid.head()"
   ]
  },
  {
   "cell_type": "code",
   "execution_count": 17,
   "metadata": {},
   "outputs": [
    {
     "name": "stdout",
     "output_type": "stream",
     "text": [
      "(5454, 10) (1819, 10) (1818, 10)\n",
      "(5454,) (1819,) (1818,)\n"
     ]
    }
   ],
   "source": [
    "print(sc_features_train.shape, sc_features_valid.shape, sc_features_test.shape)\n",
    "print(target_train.shape, target_valid.shape, target_test.shape)"
   ]
  },
  {
   "cell_type": "markdown",
   "metadata": {},
   "source": [
    "## Исследование задачи"
   ]
  },
  {
   "cell_type": "markdown",
   "metadata": {},
   "source": [
    "Рассмотрим, насколько сбалансированы данные:"
   ]
  },
  {
   "cell_type": "code",
   "execution_count": 18,
   "metadata": {},
   "outputs": [
    {
     "data": {
      "text/plain": [
       "0    7237\n",
       "1    1854\n",
       "Name: Exited, dtype: int64"
      ]
     },
     "execution_count": 18,
     "metadata": {},
     "output_type": "execute_result"
    }
   ],
   "source": [
    "data['Exited'].value_counts()"
   ]
  },
  {
   "cell_type": "markdown",
   "metadata": {},
   "source": [
    "Строк с данными о клиентах, не ушедших из банках почти в 4 раза больше."
   ]
  },
  {
   "cell_type": "markdown",
   "metadata": {},
   "source": [
    "Обучим модели на несбалансированных данных:"
   ]
  },
  {
   "cell_type": "code",
   "execution_count": null,
   "metadata": {},
   "outputs": [],
   "source": [
    "#v2:\n",
    "fin_depth = 0\n",
    "fin_features = 0\n",
    "fin_nodes = 0\n",
    "f1_fin = 0\n",
    "auc_roc_fin = 0\n",
    "\n",
    "for depth in range(1,6):\n",
    "    for feature in range(1,11):\n",
    "        for nodes in range(1000,2000,50):\n",
    "            model = DecisionTreeClassifier(max_depth=depth, max_features=feature, max_leaf_nodes=nodes, random_state=12345)\n",
    "            model.fit(sc_features_train, target_train)\n",
    "            probas = model.predict_proba(sc_features_valid)\n",
    "            probas_ones = probas[:,1]\n",
    "            f1 = f1_score(target_valid, model.predict(sc_features_valid))\n",
    "            auc_roc = roc_auc_score(target_valid, probas_ones)\n",
    "            if f1 > f1_fin:\n",
    "                f1_fin = f1\n",
    "                auc_roc_fin = auc_roc\n",
    "                fin_depth = depth\n",
    "                fin_features = feature\n",
    "                fin_nodes = nodes\n",
    "                \n",
    "print(f'F1-мера:', f1_fin.round(4))\n",
    "print('AUC-ROC:', auc_roc_fin.round(4))\n",
    "print(f'Гиперпараметры: max_depth - {fin_depth}, max_features - {fin_features}, max_leaf_nodes - {nodes}')\n",
    "                \n",
    "#v1\n",
    "#print(f'F1-мера:', (f1_score(target_valid, model.predict(sc_features_valid))).round(4))\n",
    "#print('AUC-ROC:', (roc_auc_score(target_valid, probas_ones)).round(4))"
   ]
  },
  {
   "cell_type": "code",
   "execution_count": 20,
   "metadata": {},
   "outputs": [
    {
     "data": {
      "text/plain": [
       "array([[1413,   55],\n",
       "       [ 204,  147]])"
      ]
     },
     "execution_count": 20,
     "metadata": {},
     "output_type": "execute_result"
    }
   ],
   "source": [
    "confusion_matrix(target_valid, model.predict(sc_features_valid))"
   ]
  },
  {
   "cell_type": "code",
   "execution_count": 21,
   "metadata": {},
   "outputs": [
    {
     "name": "stdout",
     "output_type": "stream",
     "text": [
      "F1-мера: 0.5516\n",
      "AUC-ROC: 0.8397\n",
      "Гиперпараметры: max_depth - 4, max_features - 9, n_estimators - 80\n"
     ]
    }
   ],
   "source": [
    "f1_fin = 0\n",
    "auc_roc_fin = 0\n",
    "fin_depth = 0\n",
    "fin_est = 0\n",
    "fin_features = 0\n",
    "\n",
    "for depth in range(1,6):\n",
    "    for est in range(30,101,10):\n",
    "        for feature in range(5,11):\n",
    "            model = RandomForestClassifier(max_depth=depth, n_estimators=est, max_features = feature, random_state=12345)\n",
    "            model.fit(sc_features_train, target_train)\n",
    "            predictions = model.predict(sc_features_valid)\n",
    "                      \n",
    "            f1 = f1_score(target_valid, predictions)\n",
    "            probas = model.predict_proba(sc_features_valid)\n",
    "            probas_ones = probas[:,1]\n",
    "            auc_roc = roc_auc_score(target_valid, probas_ones)\n",
    "        \n",
    "            if f1 > f1_fin:\n",
    "                f1_fin = f1\n",
    "                auc_roc_fin = auc_roc\n",
    "                fin_depth = depth\n",
    "                fin_est = est\n",
    "                fin_features = feature\n",
    "\n",
    "print(f'F1-мера:', f1_fin.round(4))\n",
    "print('AUC-ROC:', auc_roc_fin.round(4))\n",
    "print(f'Гиперпараметры: max_depth - {fin_depth}, max_features - {fin_features}, n_estimators - {fin_est}')\n",
    "\n",
    "#v1:\n",
    "#model = RandomForestClassifier(random_state=12345, n_estimators=10)\n",
    "#model.fit(sc_features_train, target_train)\n",
    "#probas = model.predict_proba(sc_features_valid)\n",
    "#probas_ones = probas[:,1]\n",
    "#print(f'F1-мера:', (f1_score(target_valid, model.predict(sc_features_valid))).round(4))\n",
    "#print('AUC-ROC:', (roc_auc_score(target_valid, probas_ones)).round(4))"
   ]
  },
  {
   "cell_type": "code",
   "execution_count": 22,
   "metadata": {},
   "outputs": [
    {
     "data": {
      "text/plain": [
       "array([[1418,   50],\n",
       "       [ 208,  143]])"
      ]
     },
     "execution_count": 22,
     "metadata": {},
     "output_type": "execute_result"
    }
   ],
   "source": [
    "confusion_matrix(target_valid, model.predict(sc_features_valid))"
   ]
  },
  {
   "cell_type": "markdown",
   "metadata": {},
   "source": [
    "Лучшие значения F1 меры и AUC-ROC показывает модель случайного леса."
   ]
  },
  {
   "cell_type": "markdown",
   "metadata": {},
   "source": [
    "## Борьба с дисбалансом"
   ]
  },
  {
   "cell_type": "markdown",
   "metadata": {},
   "source": [
    "### Взвешивание классов"
   ]
  },
  {
   "cell_type": "code",
   "execution_count": 23,
   "metadata": {},
   "outputs": [
    {
     "name": "stdout",
     "output_type": "stream",
     "text": [
      "F1-мера: 0.5489\n",
      "AUC-ROC: 0.8267\n",
      "Гиперпараметры: max_depth - 5, max_features - 10, max_leaf_nodes - 1950\n"
     ]
    }
   ],
   "source": [
    "fin_depth = 0\n",
    "fin_features = 0\n",
    "fin_nodes = 0\n",
    "f1_fin = 0\n",
    "auc_roc_fin = 0\n",
    "\n",
    "for depth in range(1,6):\n",
    "    for feature in range(1,11):\n",
    "        for nodes in range(1000,2000,50):\n",
    "            model = DecisionTreeClassifier(max_depth=depth, max_features=feature, \n",
    "                                           max_leaf_nodes=nodes,class_weight='balanced', random_state=12345)\n",
    "            model.fit(sc_features_train, target_train)\n",
    "            probas = model.predict_proba(sc_features_valid)\n",
    "            probas_ones = probas[:,1]\n",
    "            f1 = f1_score(target_valid, model.predict(sc_features_valid))\n",
    "            auc_roc = roc_auc_score(target_valid, probas_ones)\n",
    "            if f1 > f1_fin:\n",
    "                f1_fin = f1\n",
    "                auc_roc_fin = auc_roc\n",
    "                fin_depth = depth\n",
    "                fin_features = feature\n",
    "                fin_nodes = nodes\n",
    "                \n",
    "print(f'F1-мера:', f1_fin.round(4))\n",
    "print('AUC-ROC:', auc_roc_fin.round(4))\n",
    "print(f'Гиперпараметры: max_depth - {fin_depth}, max_features - {fin_features}, max_leaf_nodes - {nodes}')\n",
    "\n",
    "\n",
    "#v1:\n",
    "#model = DecisionTreeClassifier(random_state=12345, class_weight='balanced')\n",
    "#model.fit(sc_features_train, target_train)\n",
    "#probas = model.predict_proba(sc_features_valid)\n",
    "#probas_ones = probas[:,1]\n",
    "#print(f'F1-мера:', (f1_score(target_valid, model.predict(sc_features_valid))).round(4))\n",
    "#print('AUC-ROC:', (roc_auc_score(target_valid, probas_ones)).round(4))"
   ]
  },
  {
   "cell_type": "code",
   "execution_count": 24,
   "metadata": {},
   "outputs": [
    {
     "data": {
      "text/plain": [
       "array([[1203,  265],\n",
       "       [ 118,  233]])"
      ]
     },
     "execution_count": 24,
     "metadata": {},
     "output_type": "execute_result"
    }
   ],
   "source": [
    "confusion_matrix(target_valid, model.predict(sc_features_valid))"
   ]
  },
  {
   "cell_type": "code",
   "execution_count": 25,
   "metadata": {
    "scrolled": true
   },
   "outputs": [
    {
     "data": {
      "image/png": "[encoded data removed]",
      "text/plain": [
       "<Figure size 432x288 with 1 Axes>"
      ]
     },
     "metadata": {
      "needs_background": "light"
     },
     "output_type": "display_data"
    }
   ],
   "source": [
    "probas = model.predict_proba(sc_features_valid)\n",
    "probas_ones_valid = probas[:,1]\n",
    "fpr, tpr, thresholds = roc_curve(target_valid, probas_ones_valid)\n",
    "\n",
    "plt.figure()\n",
    "plt.plot(fpr, tpr)\n",
    "plt.plot([0,1], [0,1])\n",
    "plt.xlabel('FPR')\n",
    "plt.ylabel('TPR')\n",
    "plt.title('ROC-кривая');"
   ]
  },
  {
   "cell_type": "markdown",
   "metadata": {},
   "source": [
    "При балансировке классов значение f1-меры снижается для модели дерева решений (по сравнению с результатам не несбалансированных данных). Однако модель стала находить больше истинно положительных значений  (что релевантно для нашей задачи, где требуется выявить именно тех, кто прекращает сотрудничать с банком)."
   ]
  },
  {
   "cell_type": "code",
   "execution_count": 26,
   "metadata": {},
   "outputs": [
    {
     "name": "stdout",
     "output_type": "stream",
     "text": [
      "F1-мера: 0.5698\n",
      "AUC-ROC: 0.8508\n",
      "Гиперпараметры: max_depth - 5, max_features - 5, n_estimators - 60\n"
     ]
    }
   ],
   "source": [
    "#v2:\n",
    "f1_fin = 0\n",
    "auc_roc_fin = 0\n",
    "fin_depth = 0\n",
    "fin_est = 0\n",
    "fin_features = 0\n",
    "\n",
    "for depth in range(1,6):\n",
    "    for est in range(30,101,10):\n",
    "        for feature in range(5,11):\n",
    "            model = RandomForestClassifier(max_depth=depth, n_estimators=est, \n",
    "                                           max_features = feature, class_weight='balanced', random_state=12345)\n",
    "            model.fit(sc_features_train, target_train)\n",
    "            predictions = model.predict(sc_features_valid)\n",
    "                      \n",
    "            f1 = f1_score(target_valid, predictions)\n",
    "            probas = model.predict_proba(sc_features_valid)\n",
    "            probas_ones = probas[:,1]\n",
    "            auc_roc = roc_auc_score(target_valid, probas_ones)\n",
    "        \n",
    "            if f1 > f1_fin:\n",
    "                f1_fin = f1\n",
    "                auc_roc_fin = auc_roc\n",
    "                fin_depth = depth\n",
    "                fin_est = est\n",
    "                fin_features = feature\n",
    "\n",
    "print(f'F1-мера:', f1_fin.round(4))\n",
    "print('AUC-ROC:', auc_roc_fin.round(4))\n",
    "print(f'Гиперпараметры: max_depth - {fin_depth}, max_features - {fin_features}, n_estimators - {fin_est}')\n",
    "\n",
    "#v1:\n",
    "#model = RandomForestClassifier(random_state=12345, n_estimators=10, class_weight='balanced')\n",
    "#model.fit(sc_features_train, target_train)\n",
    "#probas = model.predict_proba(sc_features_valid)\n",
    "#probas_ones = probas[:,1]\n",
    "#print(f'F1-мера:', (f1_score(target_valid, model.predict(sc_features_valid))).round(4))\n",
    "#print('AUC-ROC:', (roc_auc_score(target_valid, probas_ones)).round(4))"
   ]
  },
  {
   "cell_type": "code",
   "execution_count": 27,
   "metadata": {
    "scrolled": true
   },
   "outputs": [
    {
     "data": {
      "text/plain": [
       "array([[1218,  250],\n",
       "       [ 116,  235]])"
      ]
     },
     "execution_count": 27,
     "metadata": {},
     "output_type": "execute_result"
    }
   ],
   "source": [
    "confusion_matrix(target_valid, model.predict(sc_features_valid))"
   ]
  },
  {
   "cell_type": "code",
   "execution_count": 28,
   "metadata": {},
   "outputs": [
    {
     "data": {
      "image/png": "[encoded data removed]",
      "text/plain": [
       "<Figure size 432x288 with 1 Axes>"
      ]
     },
     "metadata": {
      "needs_background": "light"
     },
     "output_type": "display_data"
    }
   ],
   "source": [
    "probas = model.predict_proba(sc_features_valid)\n",
    "probas_ones_valid = probas[:,1]\n",
    "fpr, tpr, thresholds = roc_curve(target_valid, probas_ones_valid)\n",
    "\n",
    "plt.figure()\n",
    "plt.plot(fpr, tpr)\n",
    "plt.plot([0,1], [0,1])\n",
    "plt.xlabel('FPR')\n",
    "plt.ylabel('TPR')\n",
    "plt.title('ROC-кривая');"
   ]
  },
  {
   "cell_type": "markdown",
   "metadata": {},
   "source": [
    "Модель случайного леса имеет более высокие значения метрик F1 мера и AUC-ROC, чем модель решающего дерева. \n",
    "F1 мера и AUC-ROC случайного леса выше с использование балансировки классов, чем без нее. Кроме того, на 60% выросло количество истинно положительных предсказаний.\n",
    "\n",
    "Невысокое значение F1 при высокой AUC-ROC могут говорить о том, что с подбором порога классификации качество модели может повыситься.\n",
    "\n",
    "\n",
    "Таким образом, при использовании сбалансированных весов классов значения F1 мера и AUC-ROC снижаются у дерева решений и повышаются у случайного леса относительно значений метрик моделей, построенных без учета дисбаланса.\n",
    "\n"
   ]
  },
  {
   "cell_type": "markdown",
   "metadata": {},
   "source": [
    "### Увеличение выборки"
   ]
  },
  {
   "cell_type": "code",
   "execution_count": 29,
   "metadata": {},
   "outputs": [],
   "source": [
    "def upsample(features, target, repeat):\n",
    "    features_zeros = features[target==0]\n",
    "    features_ones = features[target==1]\n",
    "    target_zeros = target[target==0]\n",
    "    target_ones = target[target==1]\n",
    "    \n",
    "    features_fin = pd.concat([features_zeros] + [features_ones]*repeat)\n",
    "    target_fin = pd.concat([target_zeros] + [target_ones]*repeat)\n",
    "    \n",
    "    features_fin, target_fin = shuffle(features_fin, target_fin, random_state=12345)\n",
    "    \n",
    "    return features_fin, target_fin"
   ]
  },
  {
   "cell_type": "code",
   "execution_count": 30,
   "metadata": {},
   "outputs": [
    {
     "name": "stdout",
     "output_type": "stream",
     "text": [
      "(8832, 10)\n",
      "(8832,)\n"
     ]
    }
   ],
   "source": [
    "features_upsampled, target_upsampled = upsample(sc_features_train, target_train, 4)\n",
    "print(features_upsampled.shape)\n",
    "print(target_upsampled.shape)"
   ]
  },
  {
   "cell_type": "markdown",
   "metadata": {},
   "source": [
    "Проверим сбалансированность классов на увеличенной выборке:"
   ]
  },
  {
   "cell_type": "code",
   "execution_count": 31,
   "metadata": {},
   "outputs": [
    {
     "data": {
      "text/plain": [
       "1    4504\n",
       "0    4328\n",
       "Name: Exited, dtype: int64"
      ]
     },
     "execution_count": 31,
     "metadata": {},
     "output_type": "execute_result"
    }
   ],
   "source": [
    "target_upsampled.value_counts()"
   ]
  },
  {
   "cell_type": "code",
   "execution_count": 32,
   "metadata": {},
   "outputs": [
    {
     "name": "stdout",
     "output_type": "stream",
     "text": [
      "F1-мера: 0.5489\n",
      "AUC-ROC: 0.8268\n",
      "Гиперпараметры: max_depth - 5, max_features - 10, max_leaf_nodes - 1950\n"
     ]
    }
   ],
   "source": [
    "#v2:\n",
    "fin_depth = 0\n",
    "fin_features = 0\n",
    "fin_nodes = 0\n",
    "f1_fin = 0\n",
    "auc_roc_fin = 0\n",
    "\n",
    "for depth in range(1,6):\n",
    "    for feature in range(1,11):\n",
    "        for nodes in range(1000,2000,50):\n",
    "            model = DecisionTreeClassifier(max_depth=depth, max_features=feature, max_leaf_nodes=nodes, random_state=12345)\n",
    "            model.fit(features_upsampled, target_upsampled)\n",
    "            probas = model.predict_proba(sc_features_valid)\n",
    "            probas_ones = probas[:,1]\n",
    "            f1 = f1_score(target_valid, model.predict(sc_features_valid))\n",
    "            auc_roc = roc_auc_score(target_valid, probas_ones)\n",
    "            if f1 > f1_fin:\n",
    "                f1_fin = f1\n",
    "                auc_roc_fin = auc_roc\n",
    "                fin_depth = depth\n",
    "                fin_features = feature\n",
    "                fin_nodes = nodes\n",
    "                \n",
    "print(f'F1-мера:', f1_fin.round(4))\n",
    "print('AUC-ROC:', auc_roc_fin.round(4))\n",
    "print(f'Гиперпараметры: max_depth - {fin_depth}, max_features - {fin_features}, max_leaf_nodes - {nodes}')\n",
    "\n",
    "#v1:\n",
    "#model = DecisionTreeClassifier(random_state=12345)\n",
    "#model.fit(features_upsampled, target_upsampled)\n",
    "#probas = model.predict_proba(sc_features_valid)\n",
    "#probas_ones = probas[:,1]\n",
    "#print(f'F1-мера:', (f1_score(target_valid, model.predict(sc_features_valid))).round(4))\n",
    "#print('AUC-ROC:', (roc_auc_score(target_valid, probas_ones)).round(4))"
   ]
  },
  {
   "cell_type": "code",
   "execution_count": 33,
   "metadata": {},
   "outputs": [
    {
     "data": {
      "text/plain": [
       "array([[1203,  265],\n",
       "       [ 118,  233]])"
      ]
     },
     "execution_count": 33,
     "metadata": {},
     "output_type": "execute_result"
    }
   ],
   "source": [
    "confusion_matrix(target_valid, model.predict(sc_features_valid))"
   ]
  },
  {
   "cell_type": "code",
   "execution_count": 34,
   "metadata": {},
   "outputs": [
    {
     "data": {
      "image/png": "[encoded data removed]",
      "text/plain": [
       "<Figure size 432x288 with 1 Axes>"
      ]
     },
     "metadata": {
      "needs_background": "light"
     },
     "output_type": "display_data"
    }
   ],
   "source": [
    "probas = model.predict_proba(sc_features_valid)\n",
    "probas_ones_valid = probas[:,1]\n",
    "fpr, tpr, thresholds = roc_curve(target_valid, probas_ones_valid)\n",
    "\n",
    "plt.figure()\n",
    "plt.plot(fpr, tpr)\n",
    "plt.plot([0,1], [0,1])\n",
    "plt.xlabel('FPR')\n",
    "plt.ylabel('TPR')\n",
    "plt.title('ROC-кривая');"
   ]
  },
  {
   "cell_type": "markdown",
   "metadata": {},
   "source": [
    "Увеличение выборки позволяет достичь такого же уровня f1-меры, как балансировка классов. "
   ]
  },
  {
   "cell_type": "code",
   "execution_count": 35,
   "metadata": {},
   "outputs": [
    {
     "name": "stdout",
     "output_type": "stream",
     "text": [
      "F1-мера: 0.5646\n",
      "AUC-ROC: 0.8535\n",
      "Гиперпараметры: max_depth - 5, max_features - 3, n_estimators - 90\n"
     ]
    }
   ],
   "source": [
    "#v2:\n",
    "f1_fin = 0\n",
    "auc_roc_fin = 0\n",
    "fin_depth = 0\n",
    "fin_est = 0\n",
    "fin_features = 0\n",
    "\n",
    "for depth in range(1,6):\n",
    "    for est in range(30,101,10):\n",
    "        for feature in range(1,11):\n",
    "            model = RandomForestClassifier(max_depth=depth, n_estimators=est, max_features = feature, random_state=12345)\n",
    "            model.fit(features_upsampled, target_upsampled)\n",
    "            predictions = model.predict(sc_features_valid)\n",
    "                      \n",
    "            f1 = f1_score(target_valid, predictions)\n",
    "            probas = model.predict_proba(sc_features_valid)\n",
    "            probas_ones = probas[:,1]\n",
    "            auc_roc = roc_auc_score(target_valid, probas_ones)\n",
    "        \n",
    "            if f1 > f1_fin:\n",
    "                f1_fin = f1\n",
    "                auc_roc_fin = auc_roc\n",
    "                fin_depth = depth\n",
    "                fin_est = est\n",
    "                fin_features = feature\n",
    "\n",
    "print(f'F1-мера:', f1_fin.round(4))\n",
    "print('AUC-ROC:', auc_roc_fin.round(4))\n",
    "print(f'Гиперпараметры: max_depth - {fin_depth}, max_features - {fin_features}, n_estimators - {fin_est}')\n",
    "\n",
    "#v1:\n",
    "#model = RandomForestClassifier(random_state=12345)\n",
    "#model.fit(features_upsampled, target_upsampled)\n",
    "#probas = model.predict_proba(sc_features_valid)\n",
    "#probas_ones = probas[:,1]\n",
    "#print(f'F1-мера:', (f1_score(target_valid, model.predict(sc_features_valid))).round(4))\n",
    "#print('AUC-ROC:', (roc_auc_score(target_valid, probas_ones)).round(4))"
   ]
  },
  {
   "cell_type": "code",
   "execution_count": 36,
   "metadata": {},
   "outputs": [
    {
     "data": {
      "text/plain": [
       "array([[1200,  268],\n",
       "       [ 115,  236]])"
      ]
     },
     "execution_count": 36,
     "metadata": {},
     "output_type": "execute_result"
    }
   ],
   "source": [
    "confusion_matrix(target_valid, model.predict(sc_features_valid))"
   ]
  },
  {
   "cell_type": "code",
   "execution_count": 37,
   "metadata": {},
   "outputs": [
    {
     "data": {
      "image/png": "[encoded data removed]",
      "text/plain": [
       "<Figure size 432x288 with 1 Axes>"
      ]
     },
     "metadata": {
      "needs_background": "light"
     },
     "output_type": "display_data"
    }
   ],
   "source": [
    "probas = model.predict_proba(sc_features_valid)\n",
    "probas_ones_valid = probas[:,1]\n",
    "fpr, tpr, thresholds = roc_curve(target_valid, probas_ones_valid)\n",
    "\n",
    "plt.figure()\n",
    "plt.plot(fpr, tpr)\n",
    "plt.plot([0,1], [0,1])\n",
    "plt.xlabel('FPR')\n",
    "plt.ylabel('TPR')\n",
    "plt.title('ROC-кривая');"
   ]
  },
  {
   "cell_type": "markdown",
   "metadata": {},
   "source": [
    "У модели случайного леса метрика f1-мера немного снижается относительно значений, получаемых при балансировке классов (с 0,5698 до 0,5646), а AUC ROC увеличивается (с 0,8508 до 0,8535)."
   ]
  },
  {
   "cell_type": "markdown",
   "metadata": {},
   "source": [
    "### Уменьшениие выборки"
   ]
  },
  {
   "cell_type": "code",
   "execution_count": 38,
   "metadata": {},
   "outputs": [],
   "source": [
    "def downsample(features, target, fraction):\n",
    "    features_zeros = features[target==0]\n",
    "    features_ones = features[target==1]\n",
    "    target_zeros = target[target==0]\n",
    "    target_ones = target[target==1]\n",
    "    \n",
    "    features_fin = pd.concat([features_zeros.sample(frac=fraction, random_state=12345)] + [features_ones])\n",
    "    target_fin = pd.concat([target_zeros.sample(frac=fraction, random_state=12345)] + [target_ones])\n",
    "    \n",
    "    features_fin, target_fin = shuffle(features_fin, target_fin, random_state=12345)\n",
    "    \n",
    "    return features_fin, target_fin    "
   ]
  },
  {
   "cell_type": "code",
   "execution_count": 39,
   "metadata": {
    "scrolled": false
   },
   "outputs": [
    {
     "name": "stdout",
     "output_type": "stream",
     "text": [
      "(2235, 10)\n",
      "(2235,)\n"
     ]
    }
   ],
   "source": [
    "#v2:\n",
    "features_downsampled, target_downsampled = downsample(sc_features_train, target_train, \\\n",
    "     data.loc[data.loc[:,'Exited']==1]['Exited'].count()/data.loc[data.loc[:,'Exited']==0]['Exited'].count())\n",
    "\n",
    "#v1:\n",
    "#features_downsampled, target_downsampled = downsample(sc_features_train, target_train, 0.3)\n",
    "print(features_downsampled.shape)\n",
    "print(target_downsampled.shape)"
   ]
  },
  {
   "cell_type": "markdown",
   "metadata": {},
   "source": [
    "Сбалансированность классов на уменьшенной выборке:"
   ]
  },
  {
   "cell_type": "code",
   "execution_count": 40,
   "metadata": {},
   "outputs": [
    {
     "data": {
      "text/plain": [
       "1    1126\n",
       "0    1109\n",
       "Name: Exited, dtype: int64"
      ]
     },
     "execution_count": 40,
     "metadata": {},
     "output_type": "execute_result"
    }
   ],
   "source": [
    "target_downsampled.value_counts()"
   ]
  },
  {
   "cell_type": "code",
   "execution_count": 41,
   "metadata": {},
   "outputs": [
    {
     "name": "stdout",
     "output_type": "stream",
     "text": [
      "F1-мера: 0.5502\n",
      "AUC-ROC: 0.8285\n",
      "Гиперпараметры: max_depth - 5, max_features - 10, max_leaf_nodes - 1950\n"
     ]
    }
   ],
   "source": [
    "#v2:\n",
    "fin_depth = 0\n",
    "fin_features = 0\n",
    "fin_nodes = 0\n",
    "f1_fin = 0\n",
    "auc_roc_fin = 0\n",
    "\n",
    "for depth in range(1,6):\n",
    "    for feature in range(1,11):\n",
    "        for nodes in range(1000,2000,50):\n",
    "            model = DecisionTreeClassifier(max_depth=depth, max_features=feature, max_leaf_nodes=nodes, random_state=12345)\n",
    "            model.fit(features_downsampled, target_downsampled)\n",
    "            probas = model.predict_proba(sc_features_valid)\n",
    "            probas_ones = probas[:,1]\n",
    "            f1 = f1_score(target_valid, model.predict(sc_features_valid))\n",
    "            auc_roc = roc_auc_score(target_valid, probas_ones)\n",
    "            if f1 > f1_fin:\n",
    "                f1_fin = f1\n",
    "                auc_roc_fin = auc_roc\n",
    "                fin_depth = depth\n",
    "                fin_features = feature\n",
    "                fin_nodes = nodes\n",
    "                \n",
    "print(f'F1-мера:', f1_fin.round(4))\n",
    "print('AUC-ROC:', auc_roc_fin.round(4))\n",
    "print(f'Гиперпараметры: max_depth - {fin_depth}, max_features - {fin_features}, max_leaf_nodes - {nodes}')\n",
    "\n",
    "#v1:\n",
    "#model = DecisionTreeClassifier(random_state=12345)\n",
    "#model.fit(features_downsampled, target_downsampled)\n",
    "#probas = model.predict_proba(sc_features_valid)\n",
    "#probas_ones = probas[:,1]\n",
    "#print(f'F1-мера:', (f1_score(target_valid, model.predict(sc_features_valid))).round(4))\n",
    "#print('AUC-ROC:', (roc_auc_score(target_valid, probas_ones)).round(4))"
   ]
  },
  {
   "cell_type": "code",
   "execution_count": 42,
   "metadata": {},
   "outputs": [
    {
     "data": {
      "text/plain": [
       "array([[1184,  284],\n",
       "       [ 110,  241]])"
      ]
     },
     "execution_count": 42,
     "metadata": {},
     "output_type": "execute_result"
    }
   ],
   "source": [
    "confusion_matrix(target_valid, model.predict(sc_features_valid))"
   ]
  },
  {
   "cell_type": "code",
   "execution_count": 43,
   "metadata": {
    "scrolled": true
   },
   "outputs": [
    {
     "data": {
      "image/png": "[encoded data removed]",
      "text/plain": [
       "<Figure size 432x288 with 1 Axes>"
      ]
     },
     "metadata": {
      "needs_background": "light"
     },
     "output_type": "display_data"
    }
   ],
   "source": [
    "probas = model.predict_proba(sc_features_valid)\n",
    "probas_ones_valid = probas[:,1]\n",
    "fpr, tpr, thresholds = roc_curve(target_valid, probas_ones_valid)\n",
    "\n",
    "plt.figure()\n",
    "plt.plot(fpr, tpr)\n",
    "plt.plot([0,1], [0,1])\n",
    "plt.xlabel('FPR')\n",
    "plt.ylabel('TPR')\n",
    "plt.title('ROC-кривая');"
   ]
  },
  {
   "cell_type": "markdown",
   "metadata": {},
   "source": [
    "На уменьшенной выборке значение f1-мера и ROC AUC с модели решающего дерева получается самое высокое, а также самое большое количество истинно положительных предсказаний (однако и самое большое ложноположительных). "
   ]
  },
  {
   "cell_type": "code",
   "execution_count": 44,
   "metadata": {},
   "outputs": [
    {
     "name": "stdout",
     "output_type": "stream",
     "text": [
      "F1-мера: 0.5651\n",
      "AUC-ROC: 0.8524\n",
      "Гиперпараметры: max_depth - 5, max_features - 9, n_estimators - 100\n"
     ]
    }
   ],
   "source": [
    "#v2:\n",
    "f1_fin = 0\n",
    "auc_roc_fin = 0\n",
    "fin_depth = 0\n",
    "fin_est = 0\n",
    "fin_features = 0\n",
    "\n",
    "for depth in range(1,6):\n",
    "    for est in range(30,101,10):\n",
    "        for feature in range(5,11):\n",
    "            model = RandomForestClassifier(max_depth=depth, n_estimators=est, max_features = feature, random_state=12345)\n",
    "            model.fit(features_downsampled, target_downsampled)\n",
    "            predictions = model.predict(sc_features_valid)\n",
    "                      \n",
    "            f1 = f1_score(target_valid, predictions)\n",
    "            probas = model.predict_proba(sc_features_valid)\n",
    "            probas_ones = probas[:,1]\n",
    "            auc_roc = roc_auc_score(target_valid, probas_ones)\n",
    "        \n",
    "            if f1 > f1_fin:\n",
    "                f1_fin = f1\n",
    "                auc_roc_fin = auc_roc\n",
    "                fin_depth = depth\n",
    "                fin_est = est\n",
    "                fin_features = feature\n",
    "\n",
    "print(f'F1-мера:', f1_fin.round(4))\n",
    "print('AUC-ROC:', auc_roc_fin.round(4))\n",
    "print(f'Гиперпараметры: max_depth - {fin_depth}, max_features - {fin_features}, n_estimators - {fin_est}')\n",
    "\n",
    "#v1:\n",
    "#model = RandomForestClassifier(random_state=12345)\n",
    "#model.fit(features_downsampled, target_downsampled)\n",
    "#probas = model.predict_proba(sc_features_valid)\n",
    "#probas_ones = probas[:,1]\n",
    "#print(f'F1-мера:', (f1_score(target_valid, model.predict(sc_features_valid))).round(4))\n",
    "#print('AUC-ROC:', (roc_auc_score(target_valid, probas_ones)).round(4))"
   ]
  },
  {
   "cell_type": "code",
   "execution_count": 45,
   "metadata": {},
   "outputs": [
    {
     "data": {
      "text/plain": [
       "array([[1122,  346],\n",
       "       [  82,  269]])"
      ]
     },
     "execution_count": 45,
     "metadata": {},
     "output_type": "execute_result"
    }
   ],
   "source": [
    "confusion_matrix(target_valid, model.predict(sc_features_valid))"
   ]
  },
  {
   "cell_type": "code",
   "execution_count": 46,
   "metadata": {},
   "outputs": [
    {
     "data": {
      "image/png": "[encoded data removed]",
      "text/plain": [
       "<Figure size 432x288 with 1 Axes>"
      ]
     },
     "metadata": {
      "needs_background": "light"
     },
     "output_type": "display_data"
    }
   ],
   "source": [
    "probas = model.predict_proba(sc_features_valid)\n",
    "probas_ones_valid = probas[:,1]\n",
    "fpr, tpr, thresholds = roc_curve(target_valid, probas_ones_valid)\n",
    "\n",
    "plt.figure()\n",
    "plt.plot(fpr, tpr)\n",
    "plt.plot([0,1], [0,1])\n",
    "plt.xlabel('FPR')\n",
    "plt.ylabel('TPR')\n",
    "plt.title('ROC-кривая');"
   ]
  },
  {
   "cell_type": "markdown",
   "metadata": {},
   "source": [
    "F1-мера алгоритма случайного леса на уменьшенной выборке выше, чем на увеличенной (0,5651 против 0,5646), но ниже, чем при использовании весов классов (0,5698). Высокое значение AUC ROC указывает на то, что f1 мера может быть увеличена подбором порога классификации."
   ]
  },
  {
   "cell_type": "markdown",
   "metadata": {},
   "source": [
    "Таким образом, самые высокие значения f1 меры получились у модели случайного леса при использовании весов классов. Используем ее для дальнейшей донастройки гиперпараметров и подбора порога классификации."
   ]
  },
  {
   "cell_type": "markdown",
   "metadata": {},
   "source": [
    "### Изменение порога классификации"
   ]
  },
  {
   "cell_type": "code",
   "execution_count": 47,
   "metadata": {},
   "outputs": [
    {
     "name": "stdout",
     "output_type": "stream",
     "text": [
      "Параметры итоговой модели: Глубина - 8, Количество деревьев - 60,Количество признаков - 1, F1-мера - 0.5993, AUC_ROC - 0.8526\n",
      "Лучшее значение AUC_ROC - 0.8578\n"
     ]
    }
   ],
   "source": [
    "depth_list = []\n",
    "fin_estimators_list = []\n",
    "f1_list = []\n",
    "auc_roc_list = []\n",
    "f1_fin = 0\n",
    "auc_roc_fin = 0\n",
    "auc_roc_best = 0\n",
    "fin_depth = 0\n",
    "fin_est = 0\n",
    "fin_features = 0\n",
    "fin_model = None\n",
    "\n",
    "for depth in range(4,9):\n",
    "    for est in range(40,91,5):\n",
    "        for feature in range(1,11):\n",
    "            model = RandomForestClassifier(max_depth=depth, n_estimators=est, class_weight='balanced', max_features = feature, random_state=12345)\n",
    "            model.fit(sc_features_train, target_train)\n",
    "            predictions = model.predict(sc_features_valid)\n",
    "                      \n",
    "            f1 = f1_score(target_valid, predictions)\n",
    "            probas = model.predict_proba(sc_features_valid)\n",
    "            probas_ones = probas[:,1]\n",
    "            auc_roc = roc_auc_score(target_valid, probas_ones)\n",
    "            \n",
    "            depth_list.append(depth)\n",
    "            fin_estimators_list.append(est)\n",
    "            f1_list.append(f1)\n",
    "            auc_roc_list.append(auc_roc)\n",
    "        \n",
    "            if f1 > f1_fin:\n",
    "                f1_fin = f1\n",
    "                auc_roc_fin = auc_roc\n",
    "                fin_depth = depth\n",
    "                fin_est = est\n",
    "                fin_features = feature\n",
    "                fin_model = model\n",
    "                \n",
    "            if auc_roc > auc_roc_best:\n",
    "                auc_roc_best = auc_roc\n",
    "    \n",
    "print(f'Параметры итоговой модели: Глубина - {fin_depth}, Количество деревьев - {fin_est},\\\n",
    "Количество признаков - {fin_features}, F1-мера - {f1_fin.round(4)}, AUC_ROC - {auc_roc_fin.round(4)}')\n",
    "print(f'Лучшее значение AUC_ROC - {auc_roc_best.round(4)}') "
   ]
  },
  {
   "cell_type": "code",
   "execution_count": 48,
   "metadata": {},
   "outputs": [],
   "source": [
    "rforest_results = pd.DataFrame({\n",
    "    'depth':depth_list,\n",
    "    'n_estimators':fin_estimators_list,\n",
    "    'f1_score':f1_list,\n",
    "    'auc_roc':auc_roc_list\n",
    "})\n",
    "#rforest_results "
   ]
  },
  {
   "cell_type": "markdown",
   "metadata": {},
   "source": [
    "Гиперпараметры, при которых достигаются самые высокие значения f1-меры:"
   ]
  },
  {
   "cell_type": "code",
   "execution_count": 49,
   "metadata": {},
   "outputs": [
    {
     "data": {
      "text/html": [
       "<div>\n",
       "<style scoped>\n",
       "    .dataframe tbody tr th:only-of-type {\n",
       "        vertical-align: middle;\n",
       "    }\n",
       "\n",
       "    .dataframe tbody tr th {\n",
       "        vertical-align: top;\n",
       "    }\n",
       "\n",
       "    .dataframe thead th {\n",
       "        text-align: right;\n",
       "    }\n",
       "</style>\n",
       "<table border=\"1\" class=\"dataframe\">\n",
       "  <thead>\n",
       "    <tr style=\"text-align: right;\">\n",
       "      <th></th>\n",
       "      <th>depth</th>\n",
       "      <th>n_estimators</th>\n",
       "      <th>f1_score</th>\n",
       "      <th>auc_roc</th>\n",
       "    </tr>\n",
       "  </thead>\n",
       "  <tbody>\n",
       "    <tr>\n",
       "      <th>490</th>\n",
       "      <td>8</td>\n",
       "      <td>65</td>\n",
       "      <td>0.599251</td>\n",
       "      <td>0.853973</td>\n",
       "    </tr>\n",
       "    <tr>\n",
       "      <th>480</th>\n",
       "      <td>8</td>\n",
       "      <td>60</td>\n",
       "      <td>0.599251</td>\n",
       "      <td>0.852593</td>\n",
       "    </tr>\n",
       "    <tr>\n",
       "      <th>500</th>\n",
       "      <td>8</td>\n",
       "      <td>70</td>\n",
       "      <td>0.598504</td>\n",
       "      <td>0.853754</td>\n",
       "    </tr>\n",
       "    <tr>\n",
       "      <th>482</th>\n",
       "      <td>8</td>\n",
       "      <td>60</td>\n",
       "      <td>0.596535</td>\n",
       "      <td>0.855388</td>\n",
       "    </tr>\n",
       "    <tr>\n",
       "      <th>492</th>\n",
       "      <td>8</td>\n",
       "      <td>65</td>\n",
       "      <td>0.594595</td>\n",
       "      <td>0.856098</td>\n",
       "    </tr>\n",
       "  </tbody>\n",
       "</table>\n",
       "</div>"
      ],
      "text/plain": [
       "     depth  n_estimators  f1_score   auc_roc\n",
       "490      8            65  0.599251  0.853973\n",
       "480      8            60  0.599251  0.852593\n",
       "500      8            70  0.598504  0.853754\n",
       "482      8            60  0.596535  0.855388\n",
       "492      8            65  0.594595  0.856098"
      ]
     },
     "execution_count": 49,
     "metadata": {},
     "output_type": "execute_result"
    }
   ],
   "source": [
    "rforest_results.sort_values(by='f1_score', ascending=False).head() "
   ]
  },
  {
   "cell_type": "markdown",
   "metadata": {},
   "source": [
    "Гиперпараметры, при которых достигаются самые высокие значения AUC ROC:"
   ]
  },
  {
   "cell_type": "code",
   "execution_count": 50,
   "metadata": {
    "scrolled": true
   },
   "outputs": [
    {
     "data": {
      "text/html": [
       "<div>\n",
       "<style scoped>\n",
       "    .dataframe tbody tr th:only-of-type {\n",
       "        vertical-align: middle;\n",
       "    }\n",
       "\n",
       "    .dataframe tbody tr th {\n",
       "        vertical-align: top;\n",
       "    }\n",
       "\n",
       "    .dataframe thead th {\n",
       "        text-align: right;\n",
       "    }\n",
       "</style>\n",
       "<table border=\"1\" class=\"dataframe\">\n",
       "  <thead>\n",
       "    <tr style=\"text-align: right;\">\n",
       "      <th></th>\n",
       "      <th>depth</th>\n",
       "      <th>n_estimators</th>\n",
       "      <th>f1_score</th>\n",
       "      <th>auc_roc</th>\n",
       "    </tr>\n",
       "  </thead>\n",
       "  <tbody>\n",
       "    <tr>\n",
       "      <th>432</th>\n",
       "      <td>7</td>\n",
       "      <td>90</td>\n",
       "      <td>0.574822</td>\n",
       "      <td>0.857837</td>\n",
       "    </tr>\n",
       "    <tr>\n",
       "      <th>391</th>\n",
       "      <td>7</td>\n",
       "      <td>70</td>\n",
       "      <td>0.578143</td>\n",
       "      <td>0.857468</td>\n",
       "    </tr>\n",
       "    <tr>\n",
       "      <th>282</th>\n",
       "      <td>6</td>\n",
       "      <td>70</td>\n",
       "      <td>0.569444</td>\n",
       "      <td>0.857449</td>\n",
       "    </tr>\n",
       "    <tr>\n",
       "      <th>302</th>\n",
       "      <td>6</td>\n",
       "      <td>80</td>\n",
       "      <td>0.571098</td>\n",
       "      <td>0.857214</td>\n",
       "    </tr>\n",
       "    <tr>\n",
       "      <th>292</th>\n",
       "      <td>6</td>\n",
       "      <td>75</td>\n",
       "      <td>0.574739</td>\n",
       "      <td>0.857152</td>\n",
       "    </tr>\n",
       "  </tbody>\n",
       "</table>\n",
       "</div>"
      ],
      "text/plain": [
       "     depth  n_estimators  f1_score   auc_roc\n",
       "432      7            90  0.574822  0.857837\n",
       "391      7            70  0.578143  0.857468\n",
       "282      6            70  0.569444  0.857449\n",
       "302      6            80  0.571098  0.857214\n",
       "292      6            75  0.574739  0.857152"
      ]
     },
     "execution_count": 50,
     "metadata": {},
     "output_type": "execute_result"
    }
   ],
   "source": [
    "rforest_results.sort_values(by='auc_roc', ascending=False).head() "
   ]
  },
  {
   "cell_type": "code",
   "execution_count": 55,
   "metadata": {},
   "outputs": [
    {
     "data": {
      "image/png": "[encoded data removed]",
      "text/plain": [
       "<Figure size 432x288 with 1 Axes>"
      ]
     },
     "metadata": {
      "needs_background": "light"
     },
     "output_type": "display_data"
    }
   ],
   "source": [
    "f1_mins = rforest_results.groupby('depth')['f1_score'].min()\n",
    "f1_maxes = rforest_results.groupby('depth')['f1_score'].max()\n",
    "\n",
    "x = range(4,9)\n",
    "y1 = f1_mins\n",
    "y2 = f1_maxes\n",
    "fig, ax = plt.subplots()\n",
    "plt.xlim(4,8)\n",
    "ax.fill_between(x, y1, y2, alpha=.5, linewidth=1)\n",
    "ax.plot(x, (y1 + y2)/2, linewidth=2)\n",
    "ax.set_title('Изменение f1 меры при разной глубине дерева')\n",
    "ax.set_ylabel('F1-мера')\n",
    "ax.set_xlabel('Глубина дерева решений');"
   ]
  },
  {
   "cell_type": "code",
   "execution_count": 56,
   "metadata": {},
   "outputs": [
    {
     "data": {
      "image/png": "[encoded data removed]",
      "text/plain": [
       "<Figure size 432x288 with 1 Axes>"
      ]
     },
     "metadata": {
      "needs_background": "light"
     },
     "output_type": "display_data"
    }
   ],
   "source": [
    "auc_roc_mins = rforest_results.groupby('depth')['auc_roc'].min()\n",
    "auc_roc_maxes = rforest_results.groupby('depth')['auc_roc'].max()\n",
    "x = range(4,9)\n",
    "fig, ax = plt.subplots()\n",
    "plt.xlim(4,8)\n",
    "y1 = auc_roc_mins\n",
    "y2 = auc_roc_maxes\n",
    "ax.fill_between(x, y1, y2, alpha=.5, linewidth=0)\n",
    "ax.plot(x, (y1 + y2)/2, linewidth=2)\n",
    "ax.set_title('Изменение AUC ROC при разной глубине дерева')\n",
    "ax.set_ylabel('AUC ROC')\n",
    "ax.set_xlabel('Глубина дерева решений');"
   ]
  },
  {
   "cell_type": "code",
   "execution_count": 57,
   "metadata": {},
   "outputs": [
    {
     "data": {
      "image/png": "[encoded data removed]",
      "text/plain": [
       "<Figure size 432x288 with 1 Axes>"
      ]
     },
     "metadata": {
      "needs_background": "light"
     },
     "output_type": "display_data"
    }
   ],
   "source": [
    "f1_mins = rforest_results.groupby('n_estimators')['f1_score'].min()\n",
    "f1_maxes = rforest_results.groupby('n_estimators')['f1_score'].max()\n",
    "\n",
    "x = range(40,91,5)\n",
    "y1 = f1_mins\n",
    "y2 = f1_maxes\n",
    "fig, ax = plt.subplots()\n",
    "#plt.xlim(1,10)\n",
    "ax.fill_between(x, y1, y2, alpha=.5, linewidth=1)\n",
    "ax.plot(x, (y1 + y2)/2, linewidth=2)\n",
    "ax.set_title('Изменение f1 меры при разном кол-ве деревьев')\n",
    "ax.set_ylabel('F1 мера')\n",
    "ax.set_xlabel('Количество деревьев');"
   ]
  },
  {
   "cell_type": "code",
   "execution_count": 58,
   "metadata": {
    "scrolled": true
   },
   "outputs": [
    {
     "data": {
      "image/png": "[encoded data removed]",
      "text/plain": [
       "<Figure size 432x288 with 1 Axes>"
      ]
     },
     "metadata": {
      "needs_background": "light"
     },
     "output_type": "display_data"
    }
   ],
   "source": [
    "auc_roc_mins = rforest_results.groupby('n_estimators')['auc_roc'].min()\n",
    "auc_roc_maxes = rforest_results.groupby('n_estimators')['auc_roc'].max()\n",
    "x = range(40,91,5)\n",
    "fig, ax = plt.subplots()\n",
    "#plt.xlim(1,5)\n",
    "y1 = auc_roc_mins\n",
    "y2 = auc_roc_maxes\n",
    "ax.fill_between(x, y1, y2, alpha=.5, linewidth=0)\n",
    "ax.plot(x, (y1 + y2)/2, linewidth=2)\n",
    "ax.set_title('Изменение AUC ROC меры при разном кол-ве деревьев')\n",
    "ax.set_ylabel('AUC ROC')\n",
    "ax.set_xlabel('Количество деревьев');"
   ]
  },
  {
   "cell_type": "markdown",
   "metadata": {},
   "source": [
    "Т.к. интересующая нас метрика - F1-мера, выбираем модель с наивысшим значением данной метрики."
   ]
  },
  {
   "cell_type": "code",
   "execution_count": 59,
   "metadata": {},
   "outputs": [
    {
     "data": {
      "image/png": "[encoded data removed]",
      "text/plain": [
       "<Figure size 432x288 with 1 Axes>"
      ]
     },
     "metadata": {
      "needs_background": "light"
     },
     "output_type": "display_data"
    }
   ],
   "source": [
    "model = RandomForestClassifier(max_depth=8, n_estimators=60, class_weight='balanced', max_features = 1, random_state=12345)\n",
    "model.fit(sc_features_train, target_train)\n",
    "probas = model.predict_proba(sc_features_valid)\n",
    "probas_ones_valid = probas[:,1]\n",
    "fpr, tpr, thresholds = roc_curve(target_valid, probas_ones_valid)\n",
    "\n",
    "plt.figure()\n",
    "plt.plot(fpr, tpr)\n",
    "plt.plot([0,1], [0,1])\n",
    "plt.xlabel('FPR')\n",
    "plt.ylabel('TPR')\n",
    "plt.title('ROC-кривая');"
   ]
  },
  {
   "cell_type": "code",
   "execution_count": 60,
   "metadata": {
    "scrolled": true
   },
   "outputs": [
    {
     "name": "stdout",
     "output_type": "stream",
     "text": [
      "Порог = 0.0,  F1-мера = 0.3235\n",
      "Порог = 0.02,  F1-мера = 0.3235\n",
      "Порог = 0.04,  F1-мера = 0.3235\n",
      "Порог = 0.06,  F1-мера = 0.3235\n",
      "Порог = 0.08,  F1-мера = 0.3235\n",
      "Порог = 0.1,  F1-мера = 0.3237\n",
      "Порог = 0.12,  F1-мера = 0.3241\n",
      "Порог = 0.14,  F1-мера = 0.3273\n",
      "Порог = 0.16,  F1-мера = 0.336\n",
      "Порог = 0.18,  F1-мера = 0.3467\n",
      "Порог = 0.2,  F1-мера = 0.3569\n",
      "Порог = 0.22,  F1-мера = 0.3663\n",
      "Порог = 0.24,  F1-мера = 0.3756\n",
      "Порог = 0.26,  F1-мера = 0.3901\n",
      "Порог = 0.28,  F1-мера = 0.4047\n",
      "Порог = 0.3,  F1-мера = 0.4201\n",
      "Порог = 0.32,  F1-мера = 0.4305\n",
      "Порог = 0.34,  F1-мера = 0.4538\n",
      "Порог = 0.36,  F1-мера = 0.4679\n",
      "Порог = 0.38,  F1-мера = 0.4929\n",
      "Порог = 0.4,  F1-мера = 0.5077\n",
      "Порог = 0.42,  F1-мера = 0.5244\n",
      "Порог = 0.44,  F1-мера = 0.5489\n",
      "Порог = 0.46,  F1-мера = 0.5632\n",
      "Порог = 0.48,  F1-мера = 0.5833\n",
      "Порог = 0.5,  F1-мера = 0.5993\n",
      "Порог = 0.52,  F1-мера = 0.6072\n",
      "Порог = 0.54,  F1-мера = 0.5954\n",
      "Порог = 0.56,  F1-мера = 0.5933\n",
      "Порог = 0.58,  F1-мера = 0.5882\n",
      "Порог = 0.6,  F1-мера = 0.5625\n",
      "Порог = 0.62,  F1-мера = 0.5114\n",
      "Порог = 0.64,  F1-мера = 0.4547\n",
      "Порог = 0.66,  F1-мера = 0.4034\n",
      "Порог = 0.68,  F1-мера = 0.3529\n",
      "Порог = 0.7000000000000001,  F1-мера = 0.3146\n",
      "Порог = 0.72,  F1-мера = 0.2585\n",
      "Порог = 0.74,  F1-мера = 0.1654\n",
      "Порог = 0.76,  F1-мера = 0.1072\n",
      "Порог = 0.78,  F1-мера = 0.0767\n",
      "Порог = 0.8,  F1-мера = 0.0608\n",
      "Порог = 0.8200000000000001,  F1-мера = 0.0391\n",
      "Порог = 0.84,  F1-мера = 0.0225\n",
      "Порог = 0.86,  F1-мера = 0.0057\n",
      "Порог = 0.88,  F1-мера = 0.0057\n",
      "Порог = 0.9,  F1-мера = 0.0\n",
      "Порог = 0.92,  F1-мера = 0.0\n",
      "Порог = 0.9400000000000001,  F1-мера = 0.0\n",
      "Порог = 0.96,  F1-мера = 0.0\n",
      "Порог = 0.98,  F1-мера = 0.0\n"
     ]
    }
   ],
   "source": [
    "threshold_best = 0\n",
    "f1_best = 0\n",
    "\n",
    "for threshold in np.arange(0, 1, 0.02):\n",
    "    probas = model.predict_proba(sc_features_valid)\n",
    "    probas_ones_valid = probas[:,1]\n",
    "    predictions = probas_ones_valid > threshold  \n",
    "    f1 = f1_score(target_valid, predictions)\n",
    "    auc_roc = roc_auc_score(target_valid, probas_ones_valid)\n",
    "    print(f'Порог = {threshold},  F1-мера = {f1.round(4)}')\n",
    "    if f1>f1_best:\n",
    "        f1_best = f1\n",
    "        threshold_best = threshold"
   ]
  },
  {
   "cell_type": "code",
   "execution_count": 61,
   "metadata": {},
   "outputs": [
    {
     "name": "stdout",
     "output_type": "stream",
     "text": [
      "Порог классификации: 0.52\n",
      "f1-мера: 0.6072\n"
     ]
    }
   ],
   "source": [
    "print(f'Порог классификации: {threshold_best}')\n",
    "print(f'f1-мера: {f1_best.round(4)}')"
   ]
  },
  {
   "cell_type": "markdown",
   "metadata": {},
   "source": [
    "Таким образом, лучшие значения f1 меры и AUC ROC позволяет достичь модель случайного леса при глубине дерева - 8, количестве деревьев - 60, количестве признаков для разбиения -1 и пороге классификации - 0,52."
   ]
  },
  {
   "cell_type": "markdown",
   "metadata": {},
   "source": [
    "## Тестирование модели"
   ]
  },
  {
   "cell_type": "code",
   "execution_count": 62,
   "metadata": {},
   "outputs": [
    {
     "name": "stdout",
     "output_type": "stream",
     "text": [
      "F1-мера: 0.6093\n",
      "AUC-ROC: 0.8544\n"
     ]
    }
   ],
   "source": [
    "test_predictions = model.predict(sc_features_test)\n",
    "probas_predictions = model.predict_proba(sc_features_test)\n",
    "probas_ones_valid = probas_predictions[:,1]\n",
    "predictions = probas_ones_valid > threshold_best \n",
    "     \n",
    "f1 = f1_score(target_test, predictions)\n",
    "auc_roc = roc_auc_score(target_test, probas_ones_valid)\n",
    "print(f'F1-мера: {f1.round(4)}')\n",
    "print(f'AUC-ROC: {auc_roc.round(4)}')"
   ]
  },
  {
   "cell_type": "markdown",
   "metadata": {},
   "source": [
    "На тестовой выборке модель показывает даже большие значения f1 меры и AUC ROC, чем на валидационных данных."
   ]
  },
  {
   "cell_type": "markdown",
   "metadata": {},
   "source": [
    "## Выводы\n",
    "\n",
    "В качестве модели для прогноза оттока клиентов лучшие результаты показал алгоритм **случайного леса** с гиперпараметрами:\n",
    "  - глубина дерева - 8, \n",
    "  - вес класса - 'balanced',\n",
    "  - число признаков для разделения - 1,\n",
    "  - количество деревьев - 60 и \n",
    "  - порог классификации - 0,52.\n",
    "\n",
    "Модель позволяет достичь значение f1-меры в **0.5993 на валидационной** выборке и **0.6093 - на тестовой**.\n",
    "\n"
   ]
  },
  {
   "cell_type": "code",
   "execution_count": null,
   "metadata": {},
   "outputs": [],
   "source": []
  }
 ],
 "metadata": {
  "ExecuteTimeLog": [
   {
    "duration": 1255,
    "start_time": "2023-06-17T12:58:19.735Z"
   },
   {
    "duration": 3,
    "start_time": "2023-06-17T12:58:37.636Z"
   },
   {
    "duration": 14,
    "start_time": "2023-06-17T12:59:40.693Z"
   },
   {
    "duration": 96,
    "start_time": "2023-06-17T13:00:13.393Z"
   },
   {
    "duration": 47,
    "start_time": "2023-06-17T13:00:58.887Z"
   },
   {
    "duration": 13,
    "start_time": "2023-06-17T13:01:42.558Z"
   },
   {
    "duration": 13,
    "start_time": "2023-06-17T13:05:23.512Z"
   },
   {
    "duration": 6,
    "start_time": "2023-06-17T13:06:32.182Z"
   },
   {
    "duration": 4,
    "start_time": "2023-06-17T13:09:43.301Z"
   },
   {
    "duration": 10,
    "start_time": "2023-06-17T13:14:15.745Z"
   },
   {
    "duration": 11,
    "start_time": "2023-06-17T13:14:23.356Z"
   },
   {
    "duration": 31,
    "start_time": "2023-06-17T13:21:10.177Z"
   },
   {
    "duration": 3,
    "start_time": "2023-06-17T13:43:57.596Z"
   },
   {
    "duration": 9,
    "start_time": "2023-06-17T13:46:04.670Z"
   },
   {
    "duration": 19,
    "start_time": "2023-06-17T13:46:39.808Z"
   },
   {
    "duration": 18,
    "start_time": "2023-06-17T13:49:30.545Z"
   },
   {
    "duration": 52,
    "start_time": "2023-06-17T13:49:46.501Z"
   },
   {
    "duration": 4,
    "start_time": "2023-06-17T13:50:17.535Z"
   },
   {
    "duration": 6,
    "start_time": "2023-06-17T13:50:18.365Z"
   },
   {
    "duration": 6,
    "start_time": "2023-06-17T13:50:26.604Z"
   },
   {
    "duration": 74,
    "start_time": "2023-06-17T13:50:31.992Z"
   },
   {
    "duration": 64,
    "start_time": "2023-06-17T13:51:27.204Z"
   },
   {
    "duration": 64,
    "start_time": "2023-06-17T13:51:37.265Z"
   },
   {
    "duration": 66,
    "start_time": "2023-06-17T13:52:03.664Z"
   },
   {
    "duration": 1113,
    "start_time": "2023-06-17T20:19:25.484Z"
   },
   {
    "duration": 89,
    "start_time": "2023-06-17T20:19:26.599Z"
   },
   {
    "duration": 24,
    "start_time": "2023-06-17T20:19:26.690Z"
   },
   {
    "duration": 16,
    "start_time": "2023-06-17T20:19:26.717Z"
   },
   {
    "duration": 22,
    "start_time": "2023-06-17T20:19:26.735Z"
   },
   {
    "duration": 60,
    "start_time": "2023-06-17T20:19:26.759Z"
   },
   {
    "duration": 4,
    "start_time": "2023-06-17T20:19:26.820Z"
   },
   {
    "duration": 26,
    "start_time": "2023-06-17T20:19:26.826Z"
   },
   {
    "duration": 109,
    "start_time": "2023-06-17T20:19:26.854Z"
   },
   {
    "duration": 0,
    "start_time": "2023-06-17T20:19:26.965Z"
   },
   {
    "duration": 0,
    "start_time": "2023-06-17T20:19:26.966Z"
   },
   {
    "duration": 4,
    "start_time": "2023-06-17T20:22:24.452Z"
   },
   {
    "duration": 4,
    "start_time": "2023-06-17T20:22:28.955Z"
   },
   {
    "duration": 48,
    "start_time": "2023-06-17T20:22:28.972Z"
   },
   {
    "duration": 19,
    "start_time": "2023-06-17T20:22:29.023Z"
   },
   {
    "duration": 22,
    "start_time": "2023-06-17T20:22:29.044Z"
   },
   {
    "duration": 16,
    "start_time": "2023-06-17T20:22:29.068Z"
   },
   {
    "duration": 66,
    "start_time": "2023-06-17T20:22:29.087Z"
   },
   {
    "duration": 5,
    "start_time": "2023-06-17T20:22:29.155Z"
   },
   {
    "duration": 21,
    "start_time": "2023-06-17T20:22:29.162Z"
   },
   {
    "duration": 20,
    "start_time": "2023-06-17T20:22:29.186Z"
   },
   {
    "duration": 32,
    "start_time": "2023-06-17T20:22:29.208Z"
   },
   {
    "duration": 95,
    "start_time": "2023-06-17T20:22:29.243Z"
   },
   {
    "duration": 8,
    "start_time": "2023-06-17T20:22:53.280Z"
   },
   {
    "duration": 9,
    "start_time": "2023-06-17T20:23:08.553Z"
   },
   {
    "duration": 6,
    "start_time": "2023-06-17T20:33:13.489Z"
   },
   {
    "duration": 1840,
    "start_time": "2023-06-17T20:33:36.110Z"
   },
   {
    "duration": 64,
    "start_time": "2023-06-17T20:33:37.955Z"
   },
   {
    "duration": 21,
    "start_time": "2023-06-17T20:33:38.021Z"
   },
   {
    "duration": 16,
    "start_time": "2023-06-17T20:33:38.043Z"
   },
   {
    "duration": 46,
    "start_time": "2023-06-17T20:33:38.062Z"
   },
   {
    "duration": 51,
    "start_time": "2023-06-17T20:33:38.110Z"
   },
   {
    "duration": 5,
    "start_time": "2023-06-17T20:33:38.163Z"
   },
   {
    "duration": 21,
    "start_time": "2023-06-17T20:33:38.170Z"
   },
   {
    "duration": 14,
    "start_time": "2023-06-17T20:33:38.193Z"
   },
   {
    "duration": 21,
    "start_time": "2023-06-17T20:33:38.210Z"
   },
   {
    "duration": 141,
    "start_time": "2023-06-17T20:33:38.233Z"
   },
   {
    "duration": 70,
    "start_time": "2023-06-17T20:33:41.636Z"
   },
   {
    "duration": 141,
    "start_time": "2023-06-17T20:35:56.686Z"
   },
   {
    "duration": 154,
    "start_time": "2023-06-17T20:39:12.255Z"
   },
   {
    "duration": 76,
    "start_time": "2023-06-17T20:39:17.691Z"
   },
   {
    "duration": 4,
    "start_time": "2023-06-17T20:50:41.543Z"
   },
   {
    "duration": 163,
    "start_time": "2023-06-17T20:53:48.387Z"
   },
   {
    "duration": 1147,
    "start_time": "2023-06-18T09:06:16.452Z"
   },
   {
    "duration": 153,
    "start_time": "2023-06-18T09:06:17.601Z"
   },
   {
    "duration": 16,
    "start_time": "2023-06-18T09:06:17.756Z"
   },
   {
    "duration": 9,
    "start_time": "2023-06-18T09:06:17.774Z"
   },
   {
    "duration": 15,
    "start_time": "2023-06-18T09:06:17.785Z"
   },
   {
    "duration": 49,
    "start_time": "2023-06-18T09:06:17.801Z"
   },
   {
    "duration": 3,
    "start_time": "2023-06-18T09:06:17.869Z"
   },
   {
    "duration": 7,
    "start_time": "2023-06-18T09:06:17.874Z"
   },
   {
    "duration": 25,
    "start_time": "2023-06-18T09:06:17.882Z"
   },
   {
    "duration": 5,
    "start_time": "2023-06-18T09:06:17.908Z"
   },
   {
    "duration": 68,
    "start_time": "2023-06-18T09:06:17.914Z"
   },
   {
    "duration": 121,
    "start_time": "2023-06-18T09:06:17.983Z"
   },
   {
    "duration": 63,
    "start_time": "2023-06-18T09:06:18.105Z"
   },
   {
    "duration": 116,
    "start_time": "2023-06-18T09:06:18.170Z"
   },
   {
    "duration": 4,
    "start_time": "2023-06-18T09:06:18.287Z"
   },
   {
    "duration": 118,
    "start_time": "2023-06-18T09:06:18.292Z"
   },
   {
    "duration": 8,
    "start_time": "2023-06-18T09:12:22.599Z"
   },
   {
    "duration": 1073,
    "start_time": "2023-06-18T09:12:30.799Z"
   },
   {
    "duration": 47,
    "start_time": "2023-06-18T09:12:31.874Z"
   },
   {
    "duration": 18,
    "start_time": "2023-06-18T09:12:31.922Z"
   },
   {
    "duration": 11,
    "start_time": "2023-06-18T09:12:32.200Z"
   },
   {
    "duration": 14,
    "start_time": "2023-06-18T09:12:32.874Z"
   },
   {
    "duration": 53,
    "start_time": "2023-06-18T09:12:34.075Z"
   },
   {
    "duration": 4,
    "start_time": "2023-06-18T09:12:34.435Z"
   },
   {
    "duration": 7,
    "start_time": "2023-06-18T09:12:34.954Z"
   },
   {
    "duration": 9,
    "start_time": "2023-06-18T09:12:35.121Z"
   },
   {
    "duration": 16,
    "start_time": "2023-06-18T09:12:35.132Z"
   },
   {
    "duration": 18,
    "start_time": "2023-06-18T09:12:35.149Z"
   },
   {
    "duration": 72,
    "start_time": "2023-06-18T09:12:35.169Z"
   },
   {
    "duration": 115,
    "start_time": "2023-06-18T09:12:35.242Z"
   },
   {
    "duration": 64,
    "start_time": "2023-06-18T09:12:35.358Z"
   },
   {
    "duration": 123,
    "start_time": "2023-06-18T09:12:35.423Z"
   },
   {
    "duration": 4,
    "start_time": "2023-06-18T09:12:35.547Z"
   },
   {
    "duration": 108,
    "start_time": "2023-06-18T09:12:35.552Z"
   },
   {
    "duration": 14,
    "start_time": "2023-06-18T09:12:50.635Z"
   },
   {
    "duration": 17,
    "start_time": "2023-06-18T09:13:12.909Z"
   },
   {
    "duration": 15,
    "start_time": "2023-06-18T09:13:35.596Z"
   },
   {
    "duration": 78,
    "start_time": "2023-06-18T09:16:11.862Z"
   },
   {
    "duration": 122,
    "start_time": "2023-06-18T09:16:27.371Z"
   },
   {
    "duration": 59,
    "start_time": "2023-06-18T09:16:53.408Z"
   },
   {
    "duration": 155,
    "start_time": "2023-06-18T09:17:13.849Z"
   },
   {
    "duration": 16,
    "start_time": "2023-06-18T09:17:46.959Z"
   },
   {
    "duration": 3,
    "start_time": "2023-06-18T09:19:42.260Z"
   },
   {
    "duration": 17,
    "start_time": "2023-06-18T09:19:45.566Z"
   },
   {
    "duration": 30,
    "start_time": "2023-06-18T09:21:28.635Z"
   },
   {
    "duration": 17,
    "start_time": "2023-06-18T09:21:41.008Z"
   },
   {
    "duration": 10,
    "start_time": "2023-06-18T09:23:04.412Z"
   },
   {
    "duration": 6,
    "start_time": "2023-06-18T09:23:11.115Z"
   },
   {
    "duration": 26,
    "start_time": "2023-06-18T09:23:17.072Z"
   },
   {
    "duration": 1151,
    "start_time": "2023-06-18T09:23:24.041Z"
   },
   {
    "duration": 48,
    "start_time": "2023-06-18T09:23:25.194Z"
   },
   {
    "duration": 26,
    "start_time": "2023-06-18T09:23:25.244Z"
   },
   {
    "duration": 26,
    "start_time": "2023-06-18T09:23:25.272Z"
   },
   {
    "duration": 14,
    "start_time": "2023-06-18T09:23:25.301Z"
   },
   {
    "duration": 42,
    "start_time": "2023-06-18T09:23:25.316Z"
   },
   {
    "duration": 3,
    "start_time": "2023-06-18T09:23:25.368Z"
   },
   {
    "duration": 9,
    "start_time": "2023-06-18T09:23:25.373Z"
   },
   {
    "duration": 9,
    "start_time": "2023-06-18T09:23:25.383Z"
   },
   {
    "duration": 22,
    "start_time": "2023-06-18T09:23:25.394Z"
   },
   {
    "duration": 23,
    "start_time": "2023-06-18T09:23:25.417Z"
   },
   {
    "duration": 13,
    "start_time": "2023-06-18T09:23:25.441Z"
   },
   {
    "duration": 85,
    "start_time": "2023-06-18T09:23:25.456Z"
   },
   {
    "duration": 124,
    "start_time": "2023-06-18T09:23:25.544Z"
   },
   {
    "duration": 59,
    "start_time": "2023-06-18T09:23:25.669Z"
   },
   {
    "duration": 130,
    "start_time": "2023-06-18T09:23:25.730Z"
   },
   {
    "duration": 9,
    "start_time": "2023-06-18T09:23:25.862Z"
   },
   {
    "duration": 22,
    "start_time": "2023-06-18T09:23:25.873Z"
   },
   {
    "duration": 117,
    "start_time": "2023-06-18T09:23:25.897Z"
   },
   {
    "duration": 17,
    "start_time": "2023-06-18T09:25:36.644Z"
   },
   {
    "duration": 4,
    "start_time": "2023-06-18T09:29:12.987Z"
   },
   {
    "duration": 29,
    "start_time": "2023-06-18T09:29:15.794Z"
   },
   {
    "duration": 78,
    "start_time": "2023-06-18T09:30:08.214Z"
   },
   {
    "duration": 11,
    "start_time": "2023-06-18T09:30:13.013Z"
   },
   {
    "duration": 3,
    "start_time": "2023-06-18T09:30:25.213Z"
   },
   {
    "duration": 1147,
    "start_time": "2023-06-18T09:30:31.909Z"
   },
   {
    "duration": 54,
    "start_time": "2023-06-18T09:30:33.058Z"
   },
   {
    "duration": 17,
    "start_time": "2023-06-18T09:30:33.114Z"
   },
   {
    "duration": 22,
    "start_time": "2023-06-18T09:30:33.132Z"
   },
   {
    "duration": 14,
    "start_time": "2023-06-18T09:30:33.155Z"
   },
   {
    "duration": 46,
    "start_time": "2023-06-18T09:30:33.171Z"
   },
   {
    "duration": 3,
    "start_time": "2023-06-18T09:30:33.219Z"
   },
   {
    "duration": 14,
    "start_time": "2023-06-18T09:30:33.223Z"
   },
   {
    "duration": 17,
    "start_time": "2023-06-18T09:30:33.238Z"
   },
   {
    "duration": 19,
    "start_time": "2023-06-18T09:30:33.258Z"
   },
   {
    "duration": 24,
    "start_time": "2023-06-18T09:30:33.281Z"
   },
   {
    "duration": 10,
    "start_time": "2023-06-18T09:30:33.307Z"
   },
   {
    "duration": 62,
    "start_time": "2023-06-18T09:30:33.319Z"
   },
   {
    "duration": 128,
    "start_time": "2023-06-18T09:30:33.383Z"
   },
   {
    "duration": 74,
    "start_time": "2023-06-18T09:30:33.513Z"
   },
   {
    "duration": 125,
    "start_time": "2023-06-18T09:30:33.589Z"
   },
   {
    "duration": 3,
    "start_time": "2023-06-18T09:30:33.716Z"
   },
   {
    "duration": 26,
    "start_time": "2023-06-18T09:30:33.721Z"
   },
   {
    "duration": 34,
    "start_time": "2023-06-18T09:30:33.749Z"
   },
   {
    "duration": 1133,
    "start_time": "2023-06-18T09:32:00.155Z"
   },
   {
    "duration": 49,
    "start_time": "2023-06-18T09:32:01.290Z"
   },
   {
    "duration": 23,
    "start_time": "2023-06-18T09:32:01.340Z"
   },
   {
    "duration": 37,
    "start_time": "2023-06-18T09:32:01.365Z"
   },
   {
    "duration": 27,
    "start_time": "2023-06-18T09:32:01.403Z"
   },
   {
    "duration": 85,
    "start_time": "2023-06-18T09:32:01.432Z"
   },
   {
    "duration": 7,
    "start_time": "2023-06-18T09:32:01.519Z"
   },
   {
    "duration": 54,
    "start_time": "2023-06-18T09:32:01.528Z"
   },
   {
    "duration": 38,
    "start_time": "2023-06-18T09:32:01.583Z"
   },
   {
    "duration": 59,
    "start_time": "2023-06-18T09:32:01.623Z"
   },
   {
    "duration": 86,
    "start_time": "2023-06-18T09:32:01.684Z"
   },
   {
    "duration": 26,
    "start_time": "2023-06-18T09:32:01.772Z"
   },
   {
    "duration": 79,
    "start_time": "2023-06-18T09:32:01.800Z"
   },
   {
    "duration": 125,
    "start_time": "2023-06-18T09:32:01.881Z"
   },
   {
    "duration": 72,
    "start_time": "2023-06-18T09:32:02.007Z"
   },
   {
    "duration": 123,
    "start_time": "2023-06-18T09:32:02.081Z"
   },
   {
    "duration": 4,
    "start_time": "2023-06-18T09:32:02.206Z"
   },
   {
    "duration": 38,
    "start_time": "2023-06-18T09:32:02.212Z"
   },
   {
    "duration": 93,
    "start_time": "2023-06-18T09:43:53.488Z"
   },
   {
    "duration": 4,
    "start_time": "2023-06-18T09:44:14.362Z"
   },
   {
    "duration": 21,
    "start_time": "2023-06-18T09:45:05.075Z"
   },
   {
    "duration": 12,
    "start_time": "2023-06-18T09:49:53.738Z"
   },
   {
    "duration": 1201,
    "start_time": "2023-06-18T09:50:11.908Z"
   },
   {
    "duration": 53,
    "start_time": "2023-06-18T09:50:13.111Z"
   },
   {
    "duration": 20,
    "start_time": "2023-06-18T09:50:13.165Z"
   },
   {
    "duration": 11,
    "start_time": "2023-06-18T09:50:13.187Z"
   },
   {
    "duration": 14,
    "start_time": "2023-06-18T09:50:13.200Z"
   },
   {
    "duration": 61,
    "start_time": "2023-06-18T09:50:13.216Z"
   },
   {
    "duration": 4,
    "start_time": "2023-06-18T09:50:13.279Z"
   },
   {
    "duration": 11,
    "start_time": "2023-06-18T09:50:13.284Z"
   },
   {
    "duration": 9,
    "start_time": "2023-06-18T09:50:13.297Z"
   },
   {
    "duration": 14,
    "start_time": "2023-06-18T09:50:13.308Z"
   },
   {
    "duration": 45,
    "start_time": "2023-06-18T09:50:13.324Z"
   },
   {
    "duration": 5,
    "start_time": "2023-06-18T09:50:13.371Z"
   },
   {
    "duration": 9,
    "start_time": "2023-06-18T09:50:13.378Z"
   },
   {
    "duration": 80,
    "start_time": "2023-06-18T09:50:13.388Z"
   },
   {
    "duration": 137,
    "start_time": "2023-06-18T09:50:13.470Z"
   },
   {
    "duration": 73,
    "start_time": "2023-06-18T09:50:13.608Z"
   },
   {
    "duration": 126,
    "start_time": "2023-06-18T09:50:13.683Z"
   },
   {
    "duration": 4,
    "start_time": "2023-06-18T09:50:13.811Z"
   },
   {
    "duration": 45,
    "start_time": "2023-06-18T09:50:13.816Z"
   },
   {
    "duration": 21,
    "start_time": "2023-06-18T09:50:13.863Z"
   },
   {
    "duration": 5,
    "start_time": "2023-06-18T09:53:41.480Z"
   },
   {
    "duration": 7,
    "start_time": "2023-06-18T09:55:10.207Z"
   },
   {
    "duration": 13,
    "start_time": "2023-06-18T09:55:24.178Z"
   },
   {
    "duration": 8,
    "start_time": "2023-06-18T09:56:48.380Z"
   },
   {
    "duration": 1056,
    "start_time": "2023-06-18T09:56:55.910Z"
   },
   {
    "duration": 56,
    "start_time": "2023-06-18T09:56:56.968Z"
   },
   {
    "duration": 18,
    "start_time": "2023-06-18T09:56:57.026Z"
   },
   {
    "duration": 13,
    "start_time": "2023-06-18T09:56:57.046Z"
   },
   {
    "duration": 23,
    "start_time": "2023-06-18T09:56:57.060Z"
   },
   {
    "duration": 44,
    "start_time": "2023-06-18T09:56:57.085Z"
   },
   {
    "duration": 3,
    "start_time": "2023-06-18T09:56:57.130Z"
   },
   {
    "duration": 14,
    "start_time": "2023-06-18T09:56:57.135Z"
   },
   {
    "duration": 9,
    "start_time": "2023-06-18T09:56:57.151Z"
   },
   {
    "duration": 19,
    "start_time": "2023-06-18T09:56:57.169Z"
   },
   {
    "duration": 16,
    "start_time": "2023-06-18T09:56:57.189Z"
   },
   {
    "duration": 7,
    "start_time": "2023-06-18T09:56:57.207Z"
   },
   {
    "duration": 7,
    "start_time": "2023-06-18T09:56:57.215Z"
   },
   {
    "duration": 84,
    "start_time": "2023-06-18T09:56:57.224Z"
   },
   {
    "duration": 127,
    "start_time": "2023-06-18T09:56:57.309Z"
   },
   {
    "duration": 66,
    "start_time": "2023-06-18T09:56:57.437Z"
   },
   {
    "duration": 125,
    "start_time": "2023-06-18T09:56:57.505Z"
   },
   {
    "duration": 3,
    "start_time": "2023-06-18T09:56:57.632Z"
   },
   {
    "duration": 7,
    "start_time": "2023-06-18T09:56:57.637Z"
   },
   {
    "duration": 11,
    "start_time": "2023-06-18T09:56:57.645Z"
   },
   {
    "duration": 12,
    "start_time": "2023-06-18T09:56:57.669Z"
   },
   {
    "duration": 23,
    "start_time": "2023-06-18T09:56:57.683Z"
   },
   {
    "duration": 6,
    "start_time": "2023-06-18T10:01:35.811Z"
   },
   {
    "duration": 8,
    "start_time": "2023-06-18T10:01:54.732Z"
   },
   {
    "duration": 14,
    "start_time": "2023-06-18T10:03:03.303Z"
   },
   {
    "duration": 4,
    "start_time": "2023-06-18T10:03:22.960Z"
   },
   {
    "duration": 9,
    "start_time": "2023-06-18T10:03:25.440Z"
   },
   {
    "duration": 1144,
    "start_time": "2023-06-18T10:03:33.391Z"
   },
   {
    "duration": 54,
    "start_time": "2023-06-18T10:03:34.536Z"
   },
   {
    "duration": 17,
    "start_time": "2023-06-18T10:03:34.592Z"
   },
   {
    "duration": 10,
    "start_time": "2023-06-18T10:03:34.611Z"
   },
   {
    "duration": 14,
    "start_time": "2023-06-18T10:03:34.622Z"
   },
   {
    "duration": 69,
    "start_time": "2023-06-18T10:03:34.637Z"
   },
   {
    "duration": 4,
    "start_time": "2023-06-18T10:03:34.707Z"
   },
   {
    "duration": 9,
    "start_time": "2023-06-18T10:03:34.712Z"
   },
   {
    "duration": 13,
    "start_time": "2023-06-18T10:03:34.723Z"
   },
   {
    "duration": 31,
    "start_time": "2023-06-18T10:03:34.739Z"
   },
   {
    "duration": 20,
    "start_time": "2023-06-18T10:03:34.772Z"
   },
   {
    "duration": 11,
    "start_time": "2023-06-18T10:03:34.794Z"
   },
   {
    "duration": 11,
    "start_time": "2023-06-18T10:03:34.806Z"
   },
   {
    "duration": 97,
    "start_time": "2023-06-18T10:03:34.819Z"
   },
   {
    "duration": 140,
    "start_time": "2023-06-18T10:03:34.918Z"
   },
   {
    "duration": 79,
    "start_time": "2023-06-18T10:03:35.059Z"
   },
   {
    "duration": 128,
    "start_time": "2023-06-18T10:03:35.140Z"
   },
   {
    "duration": 5,
    "start_time": "2023-06-18T10:03:35.269Z"
   },
   {
    "duration": 15,
    "start_time": "2023-06-18T10:03:35.276Z"
   },
   {
    "duration": 6,
    "start_time": "2023-06-18T10:03:35.293Z"
   },
   {
    "duration": 13,
    "start_time": "2023-06-18T10:03:35.301Z"
   },
   {
    "duration": 10,
    "start_time": "2023-06-18T10:03:35.315Z"
   },
   {
    "duration": 5,
    "start_time": "2023-06-18T10:03:52.609Z"
   },
   {
    "duration": 6,
    "start_time": "2023-06-18T10:03:53.561Z"
   },
   {
    "duration": 6,
    "start_time": "2023-06-18T10:04:01.051Z"
   },
   {
    "duration": 70,
    "start_time": "2023-06-18T10:08:00.919Z"
   },
   {
    "duration": 1279,
    "start_time": "2023-06-18T10:08:28.171Z"
   },
   {
    "duration": 4,
    "start_time": "2023-06-18T10:22:03.305Z"
   },
   {
    "duration": 5,
    "start_time": "2023-06-18T10:24:33.408Z"
   },
   {
    "duration": 10,
    "start_time": "2023-06-18T10:24:40.396Z"
   },
   {
    "duration": 5,
    "start_time": "2023-06-18T10:24:43.246Z"
   },
   {
    "duration": 72,
    "start_time": "2023-06-18T10:25:05.505Z"
   },
   {
    "duration": 1358,
    "start_time": "2023-06-18T10:25:09.226Z"
   },
   {
    "duration": 6,
    "start_time": "2023-06-18T10:25:26.846Z"
   },
   {
    "duration": 102,
    "start_time": "2023-06-18T10:26:37.876Z"
   },
   {
    "duration": 4,
    "start_time": "2023-06-18T10:30:18.896Z"
   },
   {
    "duration": 9,
    "start_time": "2023-06-18T10:30:31.777Z"
   },
   {
    "duration": 8,
    "start_time": "2023-06-18T10:31:44.325Z"
   },
   {
    "duration": 8,
    "start_time": "2023-06-18T10:31:52.015Z"
   },
   {
    "duration": 7,
    "start_time": "2023-06-18T10:32:01.841Z"
   },
   {
    "duration": 13,
    "start_time": "2023-06-18T10:32:11.639Z"
   },
   {
    "duration": 5,
    "start_time": "2023-06-18T10:32:18.093Z"
   },
   {
    "duration": 9,
    "start_time": "2023-06-18T10:32:21.825Z"
   },
   {
    "duration": 5,
    "start_time": "2023-06-18T10:32:23.245Z"
   },
   {
    "duration": 8,
    "start_time": "2023-06-18T10:32:32.505Z"
   },
   {
    "duration": 7,
    "start_time": "2023-06-18T10:32:34.097Z"
   },
   {
    "duration": 9,
    "start_time": "2023-06-18T10:32:48.306Z"
   },
   {
    "duration": 5,
    "start_time": "2023-06-18T10:32:49.316Z"
   },
   {
    "duration": 11,
    "start_time": "2023-06-18T10:32:59.387Z"
   },
   {
    "duration": 7,
    "start_time": "2023-06-18T10:33:00.790Z"
   },
   {
    "duration": 31,
    "start_time": "2023-06-18T10:33:59.225Z"
   },
   {
    "duration": 532,
    "start_time": "2023-06-18T10:34:01.789Z"
   },
   {
    "duration": 1048,
    "start_time": "2023-06-18T10:34:10.436Z"
   },
   {
    "duration": 48,
    "start_time": "2023-06-18T10:34:11.486Z"
   },
   {
    "duration": 18,
    "start_time": "2023-06-18T10:34:11.535Z"
   },
   {
    "duration": 11,
    "start_time": "2023-06-18T10:34:11.555Z"
   },
   {
    "duration": 16,
    "start_time": "2023-06-18T10:34:11.568Z"
   },
   {
    "duration": 56,
    "start_time": "2023-06-18T10:34:11.586Z"
   },
   {
    "duration": 4,
    "start_time": "2023-06-18T10:34:11.644Z"
   },
   {
    "duration": 29,
    "start_time": "2023-06-18T10:34:11.650Z"
   },
   {
    "duration": 14,
    "start_time": "2023-06-18T10:34:11.681Z"
   },
   {
    "duration": 15,
    "start_time": "2023-06-18T10:34:11.697Z"
   },
   {
    "duration": 17,
    "start_time": "2023-06-18T10:34:11.714Z"
   },
   {
    "duration": 7,
    "start_time": "2023-06-18T10:34:11.733Z"
   },
   {
    "duration": 30,
    "start_time": "2023-06-18T10:34:11.742Z"
   },
   {
    "duration": 75,
    "start_time": "2023-06-18T10:34:11.781Z"
   },
   {
    "duration": 138,
    "start_time": "2023-06-18T10:34:11.858Z"
   },
   {
    "duration": 78,
    "start_time": "2023-06-18T10:34:11.998Z"
   },
   {
    "duration": 140,
    "start_time": "2023-06-18T10:34:12.077Z"
   },
   {
    "duration": 4,
    "start_time": "2023-06-18T10:34:12.219Z"
   },
   {
    "duration": 15,
    "start_time": "2023-06-18T10:34:12.225Z"
   },
   {
    "duration": 6,
    "start_time": "2023-06-18T10:34:12.241Z"
   },
   {
    "duration": 102,
    "start_time": "2023-06-18T10:34:12.249Z"
   },
   {
    "duration": 1622,
    "start_time": "2023-06-18T10:34:12.353Z"
   },
   {
    "duration": 5,
    "start_time": "2023-06-18T10:34:13.977Z"
   },
   {
    "duration": 20,
    "start_time": "2023-06-18T10:34:13.984Z"
   },
   {
    "duration": 6,
    "start_time": "2023-06-18T10:34:14.006Z"
   },
   {
    "duration": 65,
    "start_time": "2023-06-18T10:34:14.014Z"
   },
   {
    "duration": 635,
    "start_time": "2023-06-18T10:34:14.081Z"
   },
   {
    "duration": 1042,
    "start_time": "2023-06-18T21:24:37.691Z"
   },
   {
    "duration": 98,
    "start_time": "2023-06-18T21:24:38.742Z"
   },
   {
    "duration": 16,
    "start_time": "2023-06-18T21:24:38.842Z"
   },
   {
    "duration": 73,
    "start_time": "2023-06-18T21:24:38.860Z"
   },
   {
    "duration": 127,
    "start_time": "2023-06-18T21:24:38.935Z"
   },
   {
    "duration": 88,
    "start_time": "2023-06-18T21:24:39.064Z"
   },
   {
    "duration": 39,
    "start_time": "2023-06-18T21:24:39.153Z"
   },
   {
    "duration": 18,
    "start_time": "2023-06-18T21:24:39.194Z"
   },
   {
    "duration": 45,
    "start_time": "2023-06-18T21:24:39.214Z"
   },
   {
    "duration": 22,
    "start_time": "2023-06-18T21:24:39.262Z"
   },
   {
    "duration": 22,
    "start_time": "2023-06-18T21:24:39.285Z"
   },
   {
    "duration": 40,
    "start_time": "2023-06-18T21:24:39.308Z"
   },
   {
    "duration": 25,
    "start_time": "2023-06-18T21:24:39.350Z"
   },
   {
    "duration": 80,
    "start_time": "2023-06-18T21:24:39.377Z"
   },
   {
    "duration": 140,
    "start_time": "2023-06-18T21:24:39.459Z"
   },
   {
    "duration": 74,
    "start_time": "2023-06-18T21:24:39.600Z"
   },
   {
    "duration": 134,
    "start_time": "2023-06-18T21:24:39.676Z"
   },
   {
    "duration": 4,
    "start_time": "2023-06-18T21:24:39.811Z"
   },
   {
    "duration": 10,
    "start_time": "2023-06-18T21:24:39.820Z"
   },
   {
    "duration": 5,
    "start_time": "2023-06-18T21:24:39.831Z"
   },
   {
    "duration": 91,
    "start_time": "2023-06-18T21:24:39.837Z"
   },
   {
    "duration": 1519,
    "start_time": "2023-06-18T21:24:39.930Z"
   },
   {
    "duration": 3,
    "start_time": "2023-06-18T21:24:41.451Z"
   },
   {
    "duration": 17,
    "start_time": "2023-06-18T21:24:41.456Z"
   },
   {
    "duration": 5,
    "start_time": "2023-06-18T21:24:41.474Z"
   },
   {
    "duration": 49,
    "start_time": "2023-06-18T21:24:41.480Z"
   },
   {
    "duration": 568,
    "start_time": "2023-06-18T21:24:41.535Z"
   },
   {
    "duration": 72,
    "start_time": "2023-06-18T21:24:42.105Z"
   },
   {
    "duration": 1604,
    "start_time": "2023-06-18T21:32:37.728Z"
   },
   {
    "duration": 3,
    "start_time": "2023-06-18T21:32:58.291Z"
   },
   {
    "duration": 1046,
    "start_time": "2023-06-18T21:33:06.329Z"
   },
   {
    "duration": 47,
    "start_time": "2023-06-18T21:33:07.377Z"
   },
   {
    "duration": 18,
    "start_time": "2023-06-18T21:33:07.425Z"
   },
   {
    "duration": 9,
    "start_time": "2023-06-18T21:33:07.445Z"
   },
   {
    "duration": 12,
    "start_time": "2023-06-18T21:33:07.455Z"
   },
   {
    "duration": 55,
    "start_time": "2023-06-18T21:33:07.469Z"
   },
   {
    "duration": 3,
    "start_time": "2023-06-18T21:33:07.526Z"
   },
   {
    "duration": 9,
    "start_time": "2023-06-18T21:33:07.530Z"
   },
   {
    "duration": 9,
    "start_time": "2023-06-18T21:33:07.540Z"
   },
   {
    "duration": 17,
    "start_time": "2023-06-18T21:33:07.551Z"
   },
   {
    "duration": 20,
    "start_time": "2023-06-18T21:33:07.569Z"
   },
   {
    "duration": 6,
    "start_time": "2023-06-18T21:33:07.590Z"
   },
   {
    "duration": 24,
    "start_time": "2023-06-18T21:33:07.597Z"
   },
   {
    "duration": 69,
    "start_time": "2023-06-18T21:33:07.622Z"
   },
   {
    "duration": 140,
    "start_time": "2023-06-18T21:33:07.693Z"
   },
   {
    "duration": 62,
    "start_time": "2023-06-18T21:33:07.835Z"
   },
   {
    "duration": 137,
    "start_time": "2023-06-18T21:33:07.898Z"
   },
   {
    "duration": 4,
    "start_time": "2023-06-18T21:33:08.036Z"
   },
   {
    "duration": 11,
    "start_time": "2023-06-18T21:33:08.042Z"
   },
   {
    "duration": 9,
    "start_time": "2023-06-18T21:33:08.054Z"
   },
   {
    "duration": 116,
    "start_time": "2023-06-18T21:33:08.064Z"
   },
   {
    "duration": 1490,
    "start_time": "2023-06-18T21:33:08.181Z"
   },
   {
    "duration": 3,
    "start_time": "2023-06-18T21:33:09.673Z"
   },
   {
    "duration": 12,
    "start_time": "2023-06-18T21:33:09.678Z"
   },
   {
    "duration": 8,
    "start_time": "2023-06-18T21:33:09.691Z"
   },
   {
    "duration": 43,
    "start_time": "2023-06-18T21:33:09.701Z"
   },
   {
    "duration": 541,
    "start_time": "2023-06-18T21:33:09.745Z"
   },
   {
    "duration": 1525,
    "start_time": "2023-06-18T21:33:10.290Z"
   },
   {
    "duration": 1606,
    "start_time": "2023-06-18T21:33:48.290Z"
   },
   {
    "duration": 385,
    "start_time": "2023-06-18T21:34:19.972Z"
   },
   {
    "duration": 1721,
    "start_time": "2023-06-18T21:34:29.728Z"
   },
   {
    "duration": 1596,
    "start_time": "2023-06-18T21:34:44.301Z"
   },
   {
    "duration": 1572,
    "start_time": "2023-06-18T21:37:33.303Z"
   },
   {
    "duration": 1278,
    "start_time": "2023-06-18T21:38:09.316Z"
   },
   {
    "duration": 47,
    "start_time": "2023-06-18T21:38:10.596Z"
   },
   {
    "duration": 13,
    "start_time": "2023-06-18T21:38:10.644Z"
   },
   {
    "duration": 11,
    "start_time": "2023-06-18T21:38:10.660Z"
   },
   {
    "duration": 13,
    "start_time": "2023-06-18T21:38:10.672Z"
   },
   {
    "duration": 67,
    "start_time": "2023-06-18T21:38:10.686Z"
   },
   {
    "duration": 4,
    "start_time": "2023-06-18T21:38:10.755Z"
   },
   {
    "duration": 10,
    "start_time": "2023-06-18T21:38:10.760Z"
   },
   {
    "duration": 9,
    "start_time": "2023-06-18T21:38:10.772Z"
   },
   {
    "duration": 17,
    "start_time": "2023-06-18T21:38:10.788Z"
   },
   {
    "duration": 12,
    "start_time": "2023-06-18T21:38:10.820Z"
   },
   {
    "duration": 6,
    "start_time": "2023-06-18T21:38:10.834Z"
   },
   {
    "duration": 11,
    "start_time": "2023-06-18T21:38:10.842Z"
   },
   {
    "duration": 88,
    "start_time": "2023-06-18T21:38:10.855Z"
   },
   {
    "duration": 136,
    "start_time": "2023-06-18T21:38:10.945Z"
   },
   {
    "duration": 74,
    "start_time": "2023-06-18T21:38:11.082Z"
   },
   {
    "duration": 142,
    "start_time": "2023-06-18T21:38:11.158Z"
   },
   {
    "duration": 4,
    "start_time": "2023-06-18T21:38:11.302Z"
   },
   {
    "duration": 70,
    "start_time": "2023-06-18T21:38:11.307Z"
   },
   {
    "duration": 26,
    "start_time": "2023-06-18T21:38:11.379Z"
   },
   {
    "duration": 96,
    "start_time": "2023-06-18T21:38:11.406Z"
   },
   {
    "duration": 1530,
    "start_time": "2023-06-18T21:38:11.503Z"
   },
   {
    "duration": 4,
    "start_time": "2023-06-18T21:38:13.034Z"
   },
   {
    "duration": 14,
    "start_time": "2023-06-18T21:38:13.039Z"
   },
   {
    "duration": 8,
    "start_time": "2023-06-18T21:38:13.054Z"
   },
   {
    "duration": 36,
    "start_time": "2023-06-18T21:38:13.063Z"
   },
   {
    "duration": 539,
    "start_time": "2023-06-18T21:38:13.101Z"
   },
   {
    "duration": 1609,
    "start_time": "2023-06-18T21:38:13.642Z"
   },
   {
    "duration": 1625,
    "start_time": "2023-06-18T21:38:26.903Z"
   },
   {
    "duration": 1601,
    "start_time": "2023-06-18T21:39:56.197Z"
   },
   {
    "duration": 1615,
    "start_time": "2023-06-18T21:40:08.719Z"
   },
   {
    "duration": 110,
    "start_time": "2023-06-18T21:41:18.271Z"
   },
   {
    "duration": 3,
    "start_time": "2023-06-18T21:41:53.373Z"
   },
   {
    "duration": 49,
    "start_time": "2023-06-18T21:42:12.289Z"
   },
   {
    "duration": 113,
    "start_time": "2023-06-18T21:42:21.362Z"
   },
   {
    "duration": 1641,
    "start_time": "2023-06-18T21:44:51.152Z"
   },
   {
    "duration": 107,
    "start_time": "2023-06-18T21:44:53.908Z"
   },
   {
    "duration": 4,
    "start_time": "2023-06-18T21:45:51.347Z"
   },
   {
    "duration": 279,
    "start_time": "2023-06-18T21:47:15.521Z"
   },
   {
    "duration": 11,
    "start_time": "2023-06-18T21:48:10.451Z"
   },
   {
    "duration": 1729,
    "start_time": "2023-06-18T21:48:18.905Z"
   },
   {
    "duration": 98,
    "start_time": "2023-06-18T21:50:08.625Z"
   },
   {
    "duration": 96,
    "start_time": "2023-06-18T21:50:15.210Z"
   },
   {
    "duration": 4,
    "start_time": "2023-06-18T21:55:10.334Z"
   },
   {
    "duration": 45,
    "start_time": "2023-06-19T09:44:48.888Z"
   },
   {
    "duration": 1660,
    "start_time": "2023-06-19T09:44:56.692Z"
   },
   {
    "duration": 105,
    "start_time": "2023-06-19T09:44:58.354Z"
   },
   {
    "duration": 17,
    "start_time": "2023-06-19T09:44:58.461Z"
   },
   {
    "duration": 15,
    "start_time": "2023-06-19T09:44:58.480Z"
   },
   {
    "duration": 17,
    "start_time": "2023-06-19T09:44:58.497Z"
   },
   {
    "duration": 67,
    "start_time": "2023-06-19T09:44:58.516Z"
   },
   {
    "duration": 3,
    "start_time": "2023-06-19T09:44:58.585Z"
   },
   {
    "duration": 30,
    "start_time": "2023-06-19T09:44:58.590Z"
   },
   {
    "duration": 48,
    "start_time": "2023-06-19T09:44:58.621Z"
   },
   {
    "duration": 55,
    "start_time": "2023-06-19T09:44:58.671Z"
   },
   {
    "duration": 48,
    "start_time": "2023-06-19T09:44:58.729Z"
   },
   {
    "duration": 72,
    "start_time": "2023-06-19T09:44:58.779Z"
   },
   {
    "duration": 28,
    "start_time": "2023-06-19T09:44:58.853Z"
   },
   {
    "duration": 72,
    "start_time": "2023-06-19T09:44:58.883Z"
   },
   {
    "duration": 132,
    "start_time": "2023-06-19T09:44:58.957Z"
   },
   {
    "duration": 70,
    "start_time": "2023-06-19T09:44:59.091Z"
   },
   {
    "duration": 127,
    "start_time": "2023-06-19T09:44:59.163Z"
   },
   {
    "duration": 4,
    "start_time": "2023-06-19T09:44:59.292Z"
   },
   {
    "duration": 39,
    "start_time": "2023-06-19T09:44:59.298Z"
   },
   {
    "duration": 38,
    "start_time": "2023-06-19T09:44:59.346Z"
   },
   {
    "duration": 112,
    "start_time": "2023-06-19T09:44:59.386Z"
   },
   {
    "duration": 1670,
    "start_time": "2023-06-19T09:44:59.500Z"
   },
   {
    "duration": 4,
    "start_time": "2023-06-19T09:45:01.171Z"
   },
   {
    "duration": 132,
    "start_time": "2023-06-19T09:45:01.177Z"
   },
   {
    "duration": 20,
    "start_time": "2023-06-19T09:45:01.311Z"
   },
   {
    "duration": 102,
    "start_time": "2023-06-19T09:45:01.338Z"
   },
   {
    "duration": 611,
    "start_time": "2023-06-19T09:45:01.444Z"
   },
   {
    "duration": 4,
    "start_time": "2023-06-19T09:45:02.058Z"
   },
   {
    "duration": 3046,
    "start_time": "2023-06-19T09:47:51.612Z"
   },
   {
    "duration": 1444,
    "start_time": "2023-06-19T09:53:06.891Z"
   },
   {
    "duration": 1393,
    "start_time": "2023-06-19T09:53:22.657Z"
   },
   {
    "duration": 1081,
    "start_time": "2023-06-19T09:55:42.224Z"
   },
   {
    "duration": 1451,
    "start_time": "2023-06-19T09:58:00.701Z"
   },
   {
    "duration": 75,
    "start_time": "2023-06-19T19:07:28.857Z"
   },
   {
    "duration": 47,
    "start_time": "2023-06-19T19:16:30.241Z"
   },
   {
    "duration": 1571,
    "start_time": "2023-06-19T19:16:41.553Z"
   },
   {
    "duration": 110,
    "start_time": "2023-06-19T19:16:43.126Z"
   },
   {
    "duration": 18,
    "start_time": "2023-06-19T19:16:43.238Z"
   },
   {
    "duration": 38,
    "start_time": "2023-06-19T19:16:43.258Z"
   },
   {
    "duration": 28,
    "start_time": "2023-06-19T19:16:43.297Z"
   },
   {
    "duration": 56,
    "start_time": "2023-06-19T19:16:43.326Z"
   },
   {
    "duration": 6,
    "start_time": "2023-06-19T19:16:43.389Z"
   },
   {
    "duration": 24,
    "start_time": "2023-06-19T19:16:43.397Z"
   },
   {
    "duration": 45,
    "start_time": "2023-06-19T19:16:43.423Z"
   },
   {
    "duration": 22,
    "start_time": "2023-06-19T19:16:43.472Z"
   },
   {
    "duration": 27,
    "start_time": "2023-06-19T19:16:43.495Z"
   },
   {
    "duration": 22,
    "start_time": "2023-06-19T19:16:43.524Z"
   },
   {
    "duration": 8,
    "start_time": "2023-06-19T19:16:43.548Z"
   },
   {
    "duration": 100,
    "start_time": "2023-06-19T19:16:43.557Z"
   },
   {
    "duration": 136,
    "start_time": "2023-06-19T19:16:43.659Z"
   },
   {
    "duration": 66,
    "start_time": "2023-06-19T19:16:43.796Z"
   },
   {
    "duration": 141,
    "start_time": "2023-06-19T19:16:43.864Z"
   },
   {
    "duration": 3,
    "start_time": "2023-06-19T19:16:44.007Z"
   },
   {
    "duration": 20,
    "start_time": "2023-06-19T19:16:44.012Z"
   },
   {
    "duration": 19,
    "start_time": "2023-06-19T19:16:44.033Z"
   },
   {
    "duration": 109,
    "start_time": "2023-06-19T19:16:44.053Z"
   },
   {
    "duration": 1503,
    "start_time": "2023-06-19T19:16:44.163Z"
   },
   {
    "duration": 10,
    "start_time": "2023-06-19T19:16:45.667Z"
   },
   {
    "duration": 39,
    "start_time": "2023-06-19T19:16:45.679Z"
   },
   {
    "duration": 31,
    "start_time": "2023-06-19T19:16:45.720Z"
   },
   {
    "duration": 66,
    "start_time": "2023-06-19T19:16:45.754Z"
   },
   {
    "duration": 575,
    "start_time": "2023-06-19T19:16:45.822Z"
   },
   {
    "duration": 65551,
    "start_time": "2023-06-19T19:16:46.402Z"
   },
   {
    "duration": 1673,
    "start_time": "2023-06-19T19:17:51.955Z"
   },
   {
    "duration": 4,
    "start_time": "2023-06-19T19:20:10.057Z"
   },
   {
    "duration": 13,
    "start_time": "2023-06-19T19:20:16.552Z"
   },
   {
    "duration": 74008,
    "start_time": "2023-06-19T19:21:15.499Z"
   },
   {
    "duration": 125,
    "start_time": "2023-06-19T19:22:29.520Z"
   },
   {
    "duration": 22,
    "start_time": "2023-06-19T19:22:52.484Z"
   },
   {
    "duration": 10,
    "start_time": "2023-06-19T19:23:04.691Z"
   },
   {
    "duration": 9,
    "start_time": "2023-06-19T19:23:52.115Z"
   },
   {
    "duration": 14,
    "start_time": "2023-06-19T19:24:15.697Z"
   },
   {
    "duration": 82,
    "start_time": "2023-06-19T19:32:33.991Z"
   },
   {
    "duration": 83,
    "start_time": "2023-06-19T19:33:08.835Z"
   },
   {
    "duration": 187,
    "start_time": "2023-06-19T19:33:59.851Z"
   },
   {
    "duration": 72,
    "start_time": "2023-06-19T19:34:32.915Z"
   },
   {
    "duration": 139,
    "start_time": "2023-06-19T19:34:52.783Z"
   },
   {
    "duration": 94,
    "start_time": "2023-06-19T19:36:44.890Z"
   },
   {
    "duration": 1432,
    "start_time": "2023-06-19T19:37:07.786Z"
   },
   {
    "duration": 36,
    "start_time": "2023-06-19T19:38:19.230Z"
   },
   {
    "duration": 547,
    "start_time": "2023-06-19T19:38:34.290Z"
   },
   {
    "duration": 20513,
    "start_time": "2023-06-19T19:55:05.641Z"
   },
   {
    "duration": 1296,
    "start_time": "2023-06-19T19:58:47.183Z"
   },
   {
    "duration": 50,
    "start_time": "2023-06-19T19:58:48.481Z"
   },
   {
    "duration": 15,
    "start_time": "2023-06-19T19:58:48.533Z"
   },
   {
    "duration": 10,
    "start_time": "2023-06-19T19:58:48.550Z"
   },
   {
    "duration": 18,
    "start_time": "2023-06-19T19:58:48.561Z"
   },
   {
    "duration": 45,
    "start_time": "2023-06-19T19:58:48.581Z"
   },
   {
    "duration": 4,
    "start_time": "2023-06-19T19:58:48.628Z"
   },
   {
    "duration": 15,
    "start_time": "2023-06-19T19:58:48.633Z"
   },
   {
    "duration": 11,
    "start_time": "2023-06-19T19:58:48.650Z"
   },
   {
    "duration": 14,
    "start_time": "2023-06-19T19:58:48.676Z"
   },
   {
    "duration": 23,
    "start_time": "2023-06-19T19:58:48.692Z"
   },
   {
    "duration": 40,
    "start_time": "2023-06-19T19:58:48.716Z"
   },
   {
    "duration": 18,
    "start_time": "2023-06-19T19:58:48.758Z"
   },
   {
    "duration": 75,
    "start_time": "2023-06-19T19:58:48.778Z"
   },
   {
    "duration": 123,
    "start_time": "2023-06-19T19:58:48.854Z"
   },
   {
    "duration": 59,
    "start_time": "2023-06-19T19:58:48.979Z"
   },
   {
    "duration": 126,
    "start_time": "2023-06-19T19:58:49.040Z"
   },
   {
    "duration": 8,
    "start_time": "2023-06-19T19:58:49.167Z"
   },
   {
    "duration": 10,
    "start_time": "2023-06-19T19:58:49.177Z"
   },
   {
    "duration": 6,
    "start_time": "2023-06-19T19:58:49.188Z"
   },
   {
    "duration": 91,
    "start_time": "2023-06-19T19:58:49.196Z"
   },
   {
    "duration": 1412,
    "start_time": "2023-06-19T19:58:49.288Z"
   },
   {
    "duration": 3,
    "start_time": "2023-06-19T19:58:50.702Z"
   },
   {
    "duration": 42,
    "start_time": "2023-06-19T19:58:50.707Z"
   },
   {
    "duration": 24,
    "start_time": "2023-06-19T19:58:50.752Z"
   },
   {
    "duration": 52,
    "start_time": "2023-06-19T19:58:50.778Z"
   },
   {
    "duration": 527,
    "start_time": "2023-06-19T19:58:50.832Z"
   },
   {
    "duration": 15090,
    "start_time": "2023-06-19T19:58:51.361Z"
   },
   {
    "duration": 1470,
    "start_time": "2023-06-19T19:59:06.453Z"
   },
   {
    "duration": 16,
    "start_time": "2023-06-19T20:00:14.725Z"
   },
   {
    "duration": 8,
    "start_time": "2023-06-19T20:00:22.234Z"
   },
   {
    "duration": 8,
    "start_time": "2023-06-19T20:00:26.794Z"
   },
   {
    "duration": 132,
    "start_time": "2023-06-19T20:06:53.671Z"
   },
   {
    "duration": 108,
    "start_time": "2023-06-19T20:07:59.020Z"
   },
   {
    "duration": 123,
    "start_time": "2023-06-19T20:08:05.000Z"
   },
   {
    "duration": 114,
    "start_time": "2023-06-19T20:08:10.050Z"
   },
   {
    "duration": 196,
    "start_time": "2023-06-19T20:09:09.662Z"
   },
   {
    "duration": 177,
    "start_time": "2023-06-19T20:10:48.562Z"
   },
   {
    "duration": 118,
    "start_time": "2023-06-19T20:13:39.589Z"
   },
   {
    "duration": 63,
    "start_time": "2023-06-19T20:13:44.751Z"
   },
   {
    "duration": 136,
    "start_time": "2023-06-19T20:13:59.486Z"
   },
   {
    "duration": 156,
    "start_time": "2023-06-19T20:14:36.964Z"
   },
   {
    "duration": 121,
    "start_time": "2023-06-19T20:18:59.034Z"
   },
   {
    "duration": 252,
    "start_time": "2023-06-19T20:19:12.445Z"
   },
   {
    "duration": 262,
    "start_time": "2023-06-19T20:19:36.053Z"
   },
   {
    "duration": 119,
    "start_time": "2023-06-19T20:19:49.030Z"
   },
   {
    "duration": 147,
    "start_time": "2023-06-19T20:19:59.491Z"
   },
   {
    "duration": 229,
    "start_time": "2023-06-19T20:21:47.914Z"
   },
   {
    "duration": 128,
    "start_time": "2023-06-19T20:22:08.044Z"
   },
   {
    "duration": 124,
    "start_time": "2023-06-19T20:22:31.299Z"
   },
   {
    "duration": 127,
    "start_time": "2023-06-19T20:22:53.901Z"
   },
   {
    "duration": 205,
    "start_time": "2023-06-19T20:23:23.645Z"
   },
   {
    "duration": 16837,
    "start_time": "2023-06-19T20:35:20.002Z"
   },
   {
    "duration": 61,
    "start_time": "2023-06-19T20:37:46.393Z"
   },
   {
    "duration": 72,
    "start_time": "2023-06-19T20:38:08.222Z"
   },
   {
    "duration": 75,
    "start_time": "2023-06-19T20:38:24.494Z"
   },
   {
    "duration": 73,
    "start_time": "2023-06-19T20:38:40.033Z"
   },
   {
    "duration": 17641,
    "start_time": "2023-06-19T20:39:01.998Z"
   },
   {
    "duration": 17056,
    "start_time": "2023-06-19T20:39:42.242Z"
   },
   {
    "duration": 6,
    "start_time": "2023-06-19T20:39:59.300Z"
   },
   {
    "duration": 167,
    "start_time": "2023-06-19T20:39:59.995Z"
   },
   {
    "duration": 928,
    "start_time": "2023-06-19T20:41:08.310Z"
   },
   {
    "duration": 4,
    "start_time": "2023-06-19T20:42:31.893Z"
   },
   {
    "duration": 55,
    "start_time": "2023-06-19T20:54:12.026Z"
   },
   {
    "duration": 56,
    "start_time": "2023-06-19T20:54:22.185Z"
   },
   {
    "duration": 63,
    "start_time": "2023-06-19T20:54:43.186Z"
   },
   {
    "duration": 196,
    "start_time": "2023-06-19T20:55:17.293Z"
   },
   {
    "duration": 1973,
    "start_time": "2023-06-19T21:02:26.402Z"
   },
   {
    "duration": 7,
    "start_time": "2023-06-19T21:24:27.694Z"
   },
   {
    "duration": 6,
    "start_time": "2023-06-19T21:26:12.601Z"
   },
   {
    "duration": 16,
    "start_time": "2023-06-19T21:26:42.127Z"
   },
   {
    "duration": 4,
    "start_time": "2023-06-19T21:27:16.493Z"
   },
   {
    "duration": 1371,
    "start_time": "2023-06-19T21:28:24.836Z"
   },
   {
    "duration": 55,
    "start_time": "2023-06-19T21:28:26.208Z"
   },
   {
    "duration": 20,
    "start_time": "2023-06-19T21:28:26.265Z"
   },
   {
    "duration": 24,
    "start_time": "2023-06-19T21:28:26.288Z"
   },
   {
    "duration": 19,
    "start_time": "2023-06-19T21:28:26.314Z"
   },
   {
    "duration": 74,
    "start_time": "2023-06-19T21:28:26.336Z"
   },
   {
    "duration": 11,
    "start_time": "2023-06-19T21:28:26.412Z"
   },
   {
    "duration": 15,
    "start_time": "2023-06-19T21:28:26.426Z"
   },
   {
    "duration": 14,
    "start_time": "2023-06-19T21:28:26.443Z"
   },
   {
    "duration": 27,
    "start_time": "2023-06-19T21:28:26.460Z"
   },
   {
    "duration": 20,
    "start_time": "2023-06-19T21:28:26.489Z"
   },
   {
    "duration": 7,
    "start_time": "2023-06-19T21:28:26.511Z"
   },
   {
    "duration": 14,
    "start_time": "2023-06-19T21:28:26.519Z"
   },
   {
    "duration": 75,
    "start_time": "2023-06-19T21:28:26.535Z"
   },
   {
    "duration": 131,
    "start_time": "2023-06-19T21:28:26.612Z"
   },
   {
    "duration": 70,
    "start_time": "2023-06-19T21:28:26.744Z"
   },
   {
    "duration": 124,
    "start_time": "2023-06-19T21:28:26.816Z"
   },
   {
    "duration": 3,
    "start_time": "2023-06-19T21:28:26.942Z"
   },
   {
    "duration": 22,
    "start_time": "2023-06-19T21:28:26.947Z"
   },
   {
    "duration": 7,
    "start_time": "2023-06-19T21:28:26.971Z"
   },
   {
    "duration": 98,
    "start_time": "2023-06-19T21:28:26.980Z"
   },
   {
    "duration": 1474,
    "start_time": "2023-06-19T21:28:27.080Z"
   },
   {
    "duration": 4,
    "start_time": "2023-06-19T21:28:28.556Z"
   },
   {
    "duration": 19,
    "start_time": "2023-06-19T21:28:28.561Z"
   },
   {
    "duration": 8,
    "start_time": "2023-06-19T21:28:28.582Z"
   },
   {
    "duration": 38,
    "start_time": "2023-06-19T21:28:28.592Z"
   },
   {
    "duration": 584,
    "start_time": "2023-06-19T21:28:28.631Z"
   },
   {
    "duration": 14913,
    "start_time": "2023-06-19T21:28:29.218Z"
   },
   {
    "duration": 5,
    "start_time": "2023-06-19T21:28:44.133Z"
   },
   {
    "duration": 18,
    "start_time": "2023-06-19T21:28:44.140Z"
   },
   {
    "duration": 39,
    "start_time": "2023-06-19T21:28:44.159Z"
   },
   {
    "duration": 177,
    "start_time": "2023-06-19T21:28:44.200Z"
   },
   {
    "duration": 145,
    "start_time": "2023-06-19T21:28:44.378Z"
   },
   {
    "duration": 129,
    "start_time": "2023-06-19T21:28:44.525Z"
   },
   {
    "duration": 133,
    "start_time": "2023-06-19T21:28:44.656Z"
   },
   {
    "duration": 865,
    "start_time": "2023-06-19T21:28:44.791Z"
   },
   {
    "duration": 1787,
    "start_time": "2023-06-19T21:28:45.658Z"
   },
   {
    "duration": 1783,
    "start_time": "2023-06-19T21:32:41.046Z"
   },
   {
    "duration": 1632,
    "start_time": "2023-06-19T21:34:08.036Z"
   },
   {
    "duration": 158,
    "start_time": "2023-06-19T21:35:07.089Z"
   },
   {
    "duration": 10,
    "start_time": "2023-06-19T22:00:59.409Z"
   },
   {
    "duration": 69,
    "start_time": "2023-06-19T22:02:20.491Z"
   },
   {
    "duration": 59,
    "start_time": "2023-06-19T22:02:38.320Z"
   },
   {
    "duration": 66,
    "start_time": "2023-06-19T22:03:47.617Z"
   },
   {
    "duration": 1425,
    "start_time": "2023-06-19T22:03:54.890Z"
   },
   {
    "duration": 52,
    "start_time": "2023-06-19T22:03:56.317Z"
   },
   {
    "duration": 16,
    "start_time": "2023-06-19T22:03:56.371Z"
   },
   {
    "duration": 30,
    "start_time": "2023-06-19T22:03:56.389Z"
   },
   {
    "duration": 18,
    "start_time": "2023-06-19T22:03:56.420Z"
   },
   {
    "duration": 80,
    "start_time": "2023-06-19T22:03:56.440Z"
   },
   {
    "duration": 8,
    "start_time": "2023-06-19T22:03:56.521Z"
   },
   {
    "duration": 18,
    "start_time": "2023-06-19T22:03:56.530Z"
   },
   {
    "duration": 44,
    "start_time": "2023-06-19T22:03:56.550Z"
   },
   {
    "duration": 30,
    "start_time": "2023-06-19T22:03:56.597Z"
   },
   {
    "duration": 36,
    "start_time": "2023-06-19T22:03:56.629Z"
   },
   {
    "duration": 32,
    "start_time": "2023-06-19T22:03:56.667Z"
   },
   {
    "duration": 31,
    "start_time": "2023-06-19T22:03:56.701Z"
   },
   {
    "duration": 85,
    "start_time": "2023-06-19T22:03:56.733Z"
   },
   {
    "duration": 132,
    "start_time": "2023-06-19T22:03:56.819Z"
   },
   {
    "duration": 64,
    "start_time": "2023-06-19T22:03:56.953Z"
   },
   {
    "duration": 125,
    "start_time": "2023-06-19T22:03:57.019Z"
   },
   {
    "duration": 4,
    "start_time": "2023-06-19T22:03:57.145Z"
   },
   {
    "duration": 39,
    "start_time": "2023-06-19T22:03:57.150Z"
   },
   {
    "duration": 34,
    "start_time": "2023-06-19T22:03:57.191Z"
   },
   {
    "duration": 100,
    "start_time": "2023-06-19T22:03:57.226Z"
   },
   {
    "duration": 1506,
    "start_time": "2023-06-19T22:03:57.328Z"
   },
   {
    "duration": 4,
    "start_time": "2023-06-19T22:03:58.836Z"
   },
   {
    "duration": 26,
    "start_time": "2023-06-19T22:03:58.842Z"
   },
   {
    "duration": 29,
    "start_time": "2023-06-19T22:03:58.870Z"
   },
   {
    "duration": 52,
    "start_time": "2023-06-19T22:03:58.901Z"
   },
   {
    "duration": 547,
    "start_time": "2023-06-19T22:03:58.954Z"
   },
   {
    "duration": 15129,
    "start_time": "2023-06-19T22:03:59.504Z"
   },
   {
    "duration": 4,
    "start_time": "2023-06-19T22:04:14.634Z"
   },
   {
    "duration": 22,
    "start_time": "2023-06-19T22:04:14.639Z"
   },
   {
    "duration": 20,
    "start_time": "2023-06-19T22:04:14.662Z"
   },
   {
    "duration": 158,
    "start_time": "2023-06-19T22:04:14.684Z"
   },
   {
    "duration": 138,
    "start_time": "2023-06-19T22:04:14.844Z"
   },
   {
    "duration": 133,
    "start_time": "2023-06-19T22:04:14.984Z"
   },
   {
    "duration": 131,
    "start_time": "2023-06-19T22:04:15.119Z"
   },
   {
    "duration": 839,
    "start_time": "2023-06-19T22:04:15.252Z"
   },
   {
    "duration": 1832,
    "start_time": "2023-06-19T22:04:16.093Z"
   },
   {
    "duration": 74,
    "start_time": "2023-06-19T22:04:17.927Z"
   },
   {
    "duration": 61,
    "start_time": "2023-06-19T22:08:49.411Z"
   },
   {
    "duration": 67,
    "start_time": "2023-06-19T22:08:59.782Z"
   },
   {
    "duration": 1666,
    "start_time": "2023-06-20T14:48:37.546Z"
   },
   {
    "duration": 93,
    "start_time": "2023-06-20T14:48:39.214Z"
   },
   {
    "duration": 21,
    "start_time": "2023-06-20T14:48:39.308Z"
   },
   {
    "duration": 14,
    "start_time": "2023-06-20T14:48:39.332Z"
   },
   {
    "duration": 17,
    "start_time": "2023-06-20T14:48:39.348Z"
   },
   {
    "duration": 48,
    "start_time": "2023-06-20T14:48:39.367Z"
   },
   {
    "duration": 8,
    "start_time": "2023-06-20T14:48:39.417Z"
   },
   {
    "duration": 26,
    "start_time": "2023-06-20T14:48:39.426Z"
   },
   {
    "duration": 14,
    "start_time": "2023-06-20T14:48:39.454Z"
   },
   {
    "duration": 15,
    "start_time": "2023-06-20T14:48:39.471Z"
   },
   {
    "duration": 19,
    "start_time": "2023-06-20T14:48:39.488Z"
   },
   {
    "duration": 7,
    "start_time": "2023-06-20T14:48:39.509Z"
   },
   {
    "duration": 24,
    "start_time": "2023-06-20T14:48:39.517Z"
   },
   {
    "duration": 71,
    "start_time": "2023-06-20T14:48:39.551Z"
   },
   {
    "duration": 146,
    "start_time": "2023-06-20T14:48:39.624Z"
   },
   {
    "duration": 66,
    "start_time": "2023-06-20T14:48:39.772Z"
   },
   {
    "duration": 131,
    "start_time": "2023-06-20T14:48:39.852Z"
   },
   {
    "duration": 4,
    "start_time": "2023-06-20T14:48:39.984Z"
   },
   {
    "duration": 35,
    "start_time": "2023-06-20T14:48:39.991Z"
   },
   {
    "duration": 17,
    "start_time": "2023-06-20T14:48:40.028Z"
   },
   {
    "duration": 95,
    "start_time": "2023-06-20T14:48:40.047Z"
   },
   {
    "duration": 1548,
    "start_time": "2023-06-20T14:48:40.144Z"
   },
   {
    "duration": 4,
    "start_time": "2023-06-20T14:48:41.694Z"
   },
   {
    "duration": 26,
    "start_time": "2023-06-20T14:48:41.700Z"
   },
   {
    "duration": 5,
    "start_time": "2023-06-20T14:48:41.728Z"
   },
   {
    "duration": 43,
    "start_time": "2023-06-20T14:48:41.735Z"
   },
   {
    "duration": 637,
    "start_time": "2023-06-20T14:48:41.780Z"
   },
   {
    "duration": 16488,
    "start_time": "2023-06-20T14:48:42.421Z"
   },
   {
    "duration": 4,
    "start_time": "2023-06-20T14:48:58.911Z"
   },
   {
    "duration": 40,
    "start_time": "2023-06-20T14:48:58.917Z"
   },
   {
    "duration": 24,
    "start_time": "2023-06-20T14:48:58.959Z"
   },
   {
    "duration": 162,
    "start_time": "2023-06-20T14:48:58.985Z"
   },
   {
    "duration": 164,
    "start_time": "2023-06-20T14:48:59.149Z"
   },
   {
    "duration": 145,
    "start_time": "2023-06-20T14:48:59.315Z"
   },
   {
    "duration": 151,
    "start_time": "2023-06-20T14:48:59.462Z"
   },
   {
    "duration": 912,
    "start_time": "2023-06-20T14:48:59.615Z"
   },
   {
    "duration": 2026,
    "start_time": "2023-06-20T14:49:00.529Z"
   },
   {
    "duration": 73,
    "start_time": "2023-06-20T14:49:02.557Z"
   },
   {
    "duration": 70,
    "start_time": "2023-06-20T15:03:06.935Z"
   },
   {
    "duration": 1933,
    "start_time": "2023-06-20T21:00:49.152Z"
   },
   {
    "duration": 233,
    "start_time": "2023-06-20T21:00:51.088Z"
   },
   {
    "duration": 35,
    "start_time": "2023-06-20T21:00:51.341Z"
   },
   {
    "duration": 28,
    "start_time": "2023-06-20T21:00:51.378Z"
   },
   {
    "duration": 51,
    "start_time": "2023-06-20T21:00:51.409Z"
   },
   {
    "duration": 79,
    "start_time": "2023-06-20T21:00:51.462Z"
   },
   {
    "duration": 15,
    "start_time": "2023-06-20T21:00:51.543Z"
   },
   {
    "duration": 20,
    "start_time": "2023-06-20T21:00:51.560Z"
   },
   {
    "duration": 22,
    "start_time": "2023-06-20T21:00:51.583Z"
   },
   {
    "duration": 40,
    "start_time": "2023-06-20T21:00:51.607Z"
   },
   {
    "duration": 37,
    "start_time": "2023-06-20T21:00:51.649Z"
   },
   {
    "duration": 5,
    "start_time": "2023-06-20T21:00:51.688Z"
   },
   {
    "duration": 20,
    "start_time": "2023-06-20T21:00:51.695Z"
   },
   {
    "duration": 106,
    "start_time": "2023-06-20T21:00:51.720Z"
   },
   {
    "duration": 176,
    "start_time": "2023-06-20T21:00:51.828Z"
   },
   {
    "duration": 88,
    "start_time": "2023-06-20T21:00:52.007Z"
   },
   {
    "duration": 184,
    "start_time": "2023-06-20T21:00:52.097Z"
   },
   {
    "duration": 171,
    "start_time": "2023-06-20T21:00:52.286Z"
   },
   {
    "duration": 161,
    "start_time": "2023-06-20T21:00:52.459Z"
   },
   {
    "duration": 7,
    "start_time": "2023-06-20T21:00:52.622Z"
   },
   {
    "duration": 24,
    "start_time": "2023-06-20T21:00:52.639Z"
   },
   {
    "duration": 16,
    "start_time": "2023-06-20T21:00:52.665Z"
   },
   {
    "duration": 108,
    "start_time": "2023-06-20T21:00:52.683Z"
   },
   {
    "duration": 182,
    "start_time": "2023-06-20T21:00:52.793Z"
   },
   {
    "duration": 1854,
    "start_time": "2023-06-20T21:00:52.978Z"
   },
   {
    "duration": 261,
    "start_time": "2023-06-20T21:00:54.834Z"
   },
   {
    "duration": 4,
    "start_time": "2023-06-20T21:00:55.097Z"
   },
   {
    "duration": 19,
    "start_time": "2023-06-20T21:00:55.103Z"
   },
   {
    "duration": 38,
    "start_time": "2023-06-20T21:00:55.124Z"
   },
   {
    "duration": 40,
    "start_time": "2023-06-20T21:00:55.164Z"
   },
   {
    "duration": 162,
    "start_time": "2023-06-20T21:00:55.206Z"
   },
   {
    "duration": 814,
    "start_time": "2023-06-20T21:00:55.370Z"
   },
   {
    "duration": 206,
    "start_time": "2023-06-20T21:00:56.186Z"
   },
   {
    "duration": 20483,
    "start_time": "2023-06-20T21:00:56.394Z"
   },
   {
    "duration": 5,
    "start_time": "2023-06-20T21:01:16.879Z"
   },
   {
    "duration": 23,
    "start_time": "2023-06-20T21:01:16.886Z"
   },
   {
    "duration": 32,
    "start_time": "2023-06-20T21:01:16.919Z"
   },
   {
    "duration": 183,
    "start_time": "2023-06-20T21:01:16.953Z"
   },
   {
    "duration": 194,
    "start_time": "2023-06-20T21:01:17.143Z"
   },
   {
    "duration": 156,
    "start_time": "2023-06-20T21:01:17.341Z"
   },
   {
    "duration": 208,
    "start_time": "2023-06-20T21:01:17.501Z"
   },
   {
    "duration": 1081,
    "start_time": "2023-06-20T21:01:17.710Z"
   },
   {
    "duration": 2357,
    "start_time": "2023-06-20T21:01:18.794Z"
   },
   {
    "duration": 103,
    "start_time": "2023-06-20T21:01:21.154Z"
   },
   {
    "duration": 1650,
    "start_time": "2023-06-21T09:54:37.951Z"
   },
   {
    "duration": 174,
    "start_time": "2023-06-21T09:54:39.604Z"
   },
   {
    "duration": 15,
    "start_time": "2023-06-21T09:54:39.780Z"
   },
   {
    "duration": 10,
    "start_time": "2023-06-21T09:54:39.797Z"
   },
   {
    "duration": 20,
    "start_time": "2023-06-21T09:54:39.808Z"
   },
   {
    "duration": 58,
    "start_time": "2023-06-21T09:54:39.830Z"
   },
   {
    "duration": 8,
    "start_time": "2023-06-21T09:54:39.890Z"
   },
   {
    "duration": 18,
    "start_time": "2023-06-21T09:54:39.899Z"
   },
   {
    "duration": 25,
    "start_time": "2023-06-21T09:54:39.918Z"
   },
   {
    "duration": 23,
    "start_time": "2023-06-21T09:54:39.946Z"
   },
   {
    "duration": 20,
    "start_time": "2023-06-21T09:54:39.971Z"
   },
   {
    "duration": 6,
    "start_time": "2023-06-21T09:54:39.993Z"
   },
   {
    "duration": 28,
    "start_time": "2023-06-21T09:54:40.001Z"
   },
   {
    "duration": 85,
    "start_time": "2023-06-21T09:54:40.030Z"
   },
   {
    "duration": 129,
    "start_time": "2023-06-21T09:54:40.116Z"
   },
   {
    "duration": 72,
    "start_time": "2023-06-21T09:54:40.246Z"
   },
   {
    "duration": 148,
    "start_time": "2023-06-21T09:54:40.319Z"
   },
   {
    "duration": 126,
    "start_time": "2023-06-21T09:54:40.469Z"
   },
   {
    "duration": 138,
    "start_time": "2023-06-21T09:54:40.598Z"
   },
   {
    "duration": 4,
    "start_time": "2023-06-21T09:54:40.738Z"
   },
   {
    "duration": 27,
    "start_time": "2023-06-21T09:54:40.745Z"
   },
   {
    "duration": 20,
    "start_time": "2023-06-21T09:54:40.774Z"
   },
   {
    "duration": 98,
    "start_time": "2023-06-21T09:54:40.796Z"
   },
   {
    "duration": 134,
    "start_time": "2023-06-21T09:54:40.895Z"
   },
   {
    "duration": 1592,
    "start_time": "2023-06-21T09:54:41.031Z"
   },
   {
    "duration": 199,
    "start_time": "2023-06-21T09:54:42.624Z"
   },
   {
    "duration": 4,
    "start_time": "2023-06-21T09:54:42.825Z"
   },
   {
    "duration": 31,
    "start_time": "2023-06-21T09:54:42.832Z"
   },
   {
    "duration": 9,
    "start_time": "2023-06-21T09:54:42.864Z"
   },
   {
    "duration": 39,
    "start_time": "2023-06-21T09:54:42.875Z"
   },
   {
    "duration": 135,
    "start_time": "2023-06-21T09:54:42.916Z"
   },
   {
    "duration": 672,
    "start_time": "2023-06-21T09:54:43.054Z"
   },
   {
    "duration": 181,
    "start_time": "2023-06-21T09:54:43.728Z"
   },
   {
    "duration": 16039,
    "start_time": "2023-06-21T09:54:43.911Z"
   },
   {
    "duration": 12,
    "start_time": "2023-06-21T09:54:59.955Z"
   },
   {
    "duration": 19,
    "start_time": "2023-06-21T09:54:59.970Z"
   },
   {
    "duration": 30,
    "start_time": "2023-06-21T09:54:59.990Z"
   },
   {
    "duration": 180,
    "start_time": "2023-06-21T09:55:00.022Z"
   },
   {
    "duration": 149,
    "start_time": "2023-06-21T09:55:00.203Z"
   },
   {
    "duration": 152,
    "start_time": "2023-06-21T09:55:00.355Z"
   },
   {
    "duration": 165,
    "start_time": "2023-06-21T09:55:00.508Z"
   },
   {
    "duration": 917,
    "start_time": "2023-06-21T09:55:00.675Z"
   },
   {
    "duration": 1887,
    "start_time": "2023-06-21T09:55:01.593Z"
   },
   {
    "duration": 89,
    "start_time": "2023-06-21T09:55:03.483Z"
   },
   {
    "duration": 117,
    "start_time": "2023-06-21T09:59:28.519Z"
   },
   {
    "duration": 1433,
    "start_time": "2023-06-21T09:59:41.872Z"
   },
   {
    "duration": 64,
    "start_time": "2023-06-21T09:59:43.307Z"
   },
   {
    "duration": 112,
    "start_time": "2023-06-21T09:59:43.373Z"
   },
   {
    "duration": 0,
    "start_time": "2023-06-21T09:59:43.488Z"
   },
   {
    "duration": 0,
    "start_time": "2023-06-21T09:59:43.489Z"
   },
   {
    "duration": 0,
    "start_time": "2023-06-21T09:59:43.491Z"
   },
   {
    "duration": 0,
    "start_time": "2023-06-21T09:59:43.492Z"
   },
   {
    "duration": 0,
    "start_time": "2023-06-21T09:59:43.494Z"
   },
   {
    "duration": 0,
    "start_time": "2023-06-21T09:59:43.495Z"
   },
   {
    "duration": 0,
    "start_time": "2023-06-21T09:59:43.496Z"
   },
   {
    "duration": 0,
    "start_time": "2023-06-21T09:59:43.498Z"
   },
   {
    "duration": 0,
    "start_time": "2023-06-21T09:59:43.499Z"
   },
   {
    "duration": 1,
    "start_time": "2023-06-21T09:59:43.500Z"
   },
   {
    "duration": 0,
    "start_time": "2023-06-21T09:59:43.502Z"
   },
   {
    "duration": 0,
    "start_time": "2023-06-21T09:59:43.503Z"
   },
   {
    "duration": 0,
    "start_time": "2023-06-21T09:59:43.504Z"
   },
   {
    "duration": 0,
    "start_time": "2023-06-21T09:59:43.506Z"
   },
   {
    "duration": 0,
    "start_time": "2023-06-21T09:59:43.507Z"
   },
   {
    "duration": 0,
    "start_time": "2023-06-21T09:59:43.508Z"
   },
   {
    "duration": 0,
    "start_time": "2023-06-21T09:59:43.510Z"
   },
   {
    "duration": 0,
    "start_time": "2023-06-21T09:59:43.512Z"
   },
   {
    "duration": 0,
    "start_time": "2023-06-21T09:59:43.513Z"
   },
   {
    "duration": 0,
    "start_time": "2023-06-21T09:59:43.554Z"
   },
   {
    "duration": 0,
    "start_time": "2023-06-21T09:59:43.555Z"
   },
   {
    "duration": 0,
    "start_time": "2023-06-21T09:59:43.556Z"
   },
   {
    "duration": 0,
    "start_time": "2023-06-21T09:59:43.557Z"
   },
   {
    "duration": 0,
    "start_time": "2023-06-21T09:59:43.558Z"
   },
   {
    "duration": 0,
    "start_time": "2023-06-21T09:59:43.558Z"
   },
   {
    "duration": 0,
    "start_time": "2023-06-21T09:59:43.559Z"
   },
   {
    "duration": 0,
    "start_time": "2023-06-21T09:59:43.560Z"
   },
   {
    "duration": 0,
    "start_time": "2023-06-21T09:59:43.560Z"
   },
   {
    "duration": 0,
    "start_time": "2023-06-21T09:59:43.561Z"
   },
   {
    "duration": 0,
    "start_time": "2023-06-21T09:59:43.561Z"
   },
   {
    "duration": 0,
    "start_time": "2023-06-21T09:59:43.562Z"
   },
   {
    "duration": 0,
    "start_time": "2023-06-21T09:59:43.563Z"
   },
   {
    "duration": 0,
    "start_time": "2023-06-21T09:59:43.563Z"
   },
   {
    "duration": 0,
    "start_time": "2023-06-21T09:59:43.564Z"
   },
   {
    "duration": 0,
    "start_time": "2023-06-21T09:59:43.564Z"
   },
   {
    "duration": 0,
    "start_time": "2023-06-21T09:59:43.565Z"
   },
   {
    "duration": 0,
    "start_time": "2023-06-21T09:59:43.574Z"
   },
   {
    "duration": 0,
    "start_time": "2023-06-21T09:59:43.575Z"
   },
   {
    "duration": 0,
    "start_time": "2023-06-21T09:59:43.577Z"
   },
   {
    "duration": 0,
    "start_time": "2023-06-21T09:59:43.578Z"
   },
   {
    "duration": 0,
    "start_time": "2023-06-21T09:59:43.579Z"
   },
   {
    "duration": 0,
    "start_time": "2023-06-21T09:59:43.580Z"
   },
   {
    "duration": 58,
    "start_time": "2023-06-21T10:04:41.645Z"
   },
   {
    "duration": 8,
    "start_time": "2023-06-21T10:04:46.523Z"
   },
   {
    "duration": 44,
    "start_time": "2023-06-21T10:05:42.568Z"
   },
   {
    "duration": 1531,
    "start_time": "2023-06-21T10:06:54.206Z"
   },
   {
    "duration": 159,
    "start_time": "2023-06-21T10:07:03.013Z"
   },
   {
    "duration": 20,
    "start_time": "2023-06-21T10:07:54.153Z"
   },
   {
    "duration": 113,
    "start_time": "2023-06-21T10:08:19.068Z"
   },
   {
    "duration": 139,
    "start_time": "2023-06-21T10:09:44.453Z"
   },
   {
    "duration": 149,
    "start_time": "2023-06-21T10:12:03.092Z"
   },
   {
    "duration": 104,
    "start_time": "2023-06-21T10:12:20.095Z"
   },
   {
    "duration": 1567,
    "start_time": "2023-06-21T19:59:07.770Z"
   },
   {
    "duration": 359,
    "start_time": "2023-06-21T19:59:09.339Z"
   },
   {
    "duration": 44,
    "start_time": "2023-06-21T19:59:09.700Z"
   },
   {
    "duration": 157,
    "start_time": "2023-06-21T19:59:09.745Z"
   },
   {
    "duration": 108,
    "start_time": "2023-06-21T19:59:09.905Z"
   },
   {
    "duration": 157,
    "start_time": "2023-06-21T19:59:10.015Z"
   },
   {
    "duration": 124,
    "start_time": "2023-06-21T19:59:10.174Z"
   },
   {
    "duration": 13,
    "start_time": "2023-06-21T19:59:10.299Z"
   },
   {
    "duration": 12,
    "start_time": "2023-06-21T19:59:10.313Z"
   },
   {
    "duration": 39,
    "start_time": "2023-06-21T19:59:10.326Z"
   },
   {
    "duration": 49,
    "start_time": "2023-06-21T19:59:10.369Z"
   },
   {
    "duration": 16,
    "start_time": "2023-06-21T19:59:10.420Z"
   },
   {
    "duration": 27,
    "start_time": "2023-06-21T19:59:10.438Z"
   },
   {
    "duration": 16,
    "start_time": "2023-06-21T19:59:10.547Z"
   },
   {
    "duration": 19,
    "start_time": "2023-06-21T19:59:10.565Z"
   },
   {
    "duration": 23,
    "start_time": "2023-06-21T19:59:10.586Z"
   },
   {
    "duration": 11,
    "start_time": "2023-06-21T19:59:10.611Z"
   },
   {
    "duration": 10,
    "start_time": "2023-06-21T19:59:10.624Z"
   },
   {
    "duration": 83,
    "start_time": "2023-06-21T19:59:10.635Z"
   },
   {
    "duration": 146,
    "start_time": "2023-06-21T19:59:10.720Z"
   },
   {
    "duration": 66,
    "start_time": "2023-06-21T19:59:10.869Z"
   },
   {
    "duration": 140,
    "start_time": "2023-06-21T19:59:10.936Z"
   },
   {
    "duration": 137,
    "start_time": "2023-06-21T19:59:11.078Z"
   },
   {
    "duration": 152,
    "start_time": "2023-06-21T19:59:11.217Z"
   },
   {
    "duration": 4,
    "start_time": "2023-06-21T19:59:11.371Z"
   },
   {
    "duration": 12,
    "start_time": "2023-06-21T19:59:11.376Z"
   },
   {
    "duration": 5,
    "start_time": "2023-06-21T19:59:11.390Z"
   },
   {
    "duration": 96,
    "start_time": "2023-06-21T19:59:11.397Z"
   },
   {
    "duration": 121,
    "start_time": "2023-06-21T19:59:11.495Z"
   },
   {
    "duration": 1529,
    "start_time": "2023-06-21T19:59:11.617Z"
   },
   {
    "duration": 181,
    "start_time": "2023-06-21T19:59:13.148Z"
   },
   {
    "duration": 4,
    "start_time": "2023-06-21T19:59:13.330Z"
   },
   {
    "duration": 28,
    "start_time": "2023-06-21T19:59:13.336Z"
   },
   {
    "duration": 8,
    "start_time": "2023-06-21T19:59:13.366Z"
   },
   {
    "duration": 41,
    "start_time": "2023-06-21T19:59:13.376Z"
   },
   {
    "duration": 129,
    "start_time": "2023-06-21T19:59:13.419Z"
   },
   {
    "duration": 585,
    "start_time": "2023-06-21T19:59:13.553Z"
   },
   {
    "duration": 164,
    "start_time": "2023-06-21T19:59:14.139Z"
   },
   {
    "duration": 16080,
    "start_time": "2023-06-21T19:59:14.305Z"
   },
   {
    "duration": 4,
    "start_time": "2023-06-21T19:59:30.388Z"
   },
   {
    "duration": 83,
    "start_time": "2023-06-21T19:59:30.396Z"
   },
   {
    "duration": 46,
    "start_time": "2023-06-21T19:59:30.481Z"
   },
   {
    "duration": 182,
    "start_time": "2023-06-21T19:59:30.530Z"
   },
   {
    "duration": 164,
    "start_time": "2023-06-21T19:59:30.714Z"
   },
   {
    "duration": 143,
    "start_time": "2023-06-21T19:59:30.880Z"
   },
   {
    "duration": 158,
    "start_time": "2023-06-21T19:59:31.026Z"
   },
   {
    "duration": 864,
    "start_time": "2023-06-21T19:59:31.187Z"
   },
   {
    "duration": 1800,
    "start_time": "2023-06-21T19:59:32.059Z"
   },
   {
    "duration": 65,
    "start_time": "2023-06-21T19:59:33.865Z"
   },
   {
    "duration": 161,
    "start_time": "2023-06-21T20:01:20.904Z"
   },
   {
    "duration": 144,
    "start_time": "2023-06-21T20:01:33.990Z"
   },
   {
    "duration": 1393,
    "start_time": "2023-06-21T20:01:49.089Z"
   },
   {
    "duration": 50,
    "start_time": "2023-06-21T20:01:50.484Z"
   },
   {
    "duration": 47,
    "start_time": "2023-06-21T20:01:50.536Z"
   },
   {
    "duration": 162,
    "start_time": "2023-06-21T20:01:50.584Z"
   },
   {
    "duration": 105,
    "start_time": "2023-06-21T20:01:50.757Z"
   },
   {
    "duration": 139,
    "start_time": "2023-06-21T20:01:50.864Z"
   },
   {
    "duration": 129,
    "start_time": "2023-06-21T20:01:51.005Z"
   },
   {
    "duration": 24,
    "start_time": "2023-06-21T20:01:51.136Z"
   },
   {
    "duration": 17,
    "start_time": "2023-06-21T20:01:51.162Z"
   },
   {
    "duration": 14,
    "start_time": "2023-06-21T20:01:51.181Z"
   },
   {
    "duration": 69,
    "start_time": "2023-06-21T20:01:51.197Z"
   },
   {
    "duration": 8,
    "start_time": "2023-06-21T20:01:51.268Z"
   },
   {
    "duration": 6,
    "start_time": "2023-06-21T20:01:51.278Z"
   },
   {
    "duration": 11,
    "start_time": "2023-06-21T20:01:51.287Z"
   },
   {
    "duration": 15,
    "start_time": "2023-06-21T20:01:51.300Z"
   },
   {
    "duration": 44,
    "start_time": "2023-06-21T20:01:51.317Z"
   },
   {
    "duration": 7,
    "start_time": "2023-06-21T20:01:51.362Z"
   },
   {
    "duration": 8,
    "start_time": "2023-06-21T20:01:51.371Z"
   },
   {
    "duration": 79,
    "start_time": "2023-06-21T20:01:51.380Z"
   },
   {
    "duration": 131,
    "start_time": "2023-06-21T20:01:51.463Z"
   },
   {
    "duration": 73,
    "start_time": "2023-06-21T20:01:51.596Z"
   },
   {
    "duration": 132,
    "start_time": "2023-06-21T20:01:51.673Z"
   },
   {
    "duration": 136,
    "start_time": "2023-06-21T20:01:51.807Z"
   },
   {
    "duration": 258,
    "start_time": "2023-06-21T20:01:51.945Z"
   },
   {
    "duration": 5,
    "start_time": "2023-06-21T20:01:52.204Z"
   },
   {
    "duration": 19,
    "start_time": "2023-06-21T20:01:52.210Z"
   },
   {
    "duration": 9,
    "start_time": "2023-06-21T20:01:52.231Z"
   },
   {
    "duration": 93,
    "start_time": "2023-06-21T20:01:52.242Z"
   },
   {
    "duration": 155,
    "start_time": "2023-06-21T20:01:52.337Z"
   },
   {
    "duration": 1569,
    "start_time": "2023-06-21T20:01:52.493Z"
   },
   {
    "duration": 177,
    "start_time": "2023-06-21T20:01:54.069Z"
   },
   {
    "duration": 10,
    "start_time": "2023-06-21T20:01:54.255Z"
   },
   {
    "duration": 12,
    "start_time": "2023-06-21T20:01:54.271Z"
   },
   {
    "duration": 9,
    "start_time": "2023-06-21T20:01:54.285Z"
   },
   {
    "duration": 38,
    "start_time": "2023-06-21T20:01:54.295Z"
   },
   {
    "duration": 154,
    "start_time": "2023-06-21T20:01:54.334Z"
   },
   {
    "duration": 614,
    "start_time": "2023-06-21T20:01:54.490Z"
   },
   {
    "duration": 190,
    "start_time": "2023-06-21T20:01:55.107Z"
   },
   {
    "duration": 16151,
    "start_time": "2023-06-21T20:01:55.299Z"
   },
   {
    "duration": 11,
    "start_time": "2023-06-21T20:02:11.454Z"
   },
   {
    "duration": 18,
    "start_time": "2023-06-21T20:02:11.473Z"
   },
   {
    "duration": 10,
    "start_time": "2023-06-21T20:02:11.493Z"
   },
   {
    "duration": 132,
    "start_time": "2023-06-21T20:02:11.504Z"
   },
   {
    "duration": 152,
    "start_time": "2023-06-21T20:02:11.637Z"
   },
   {
    "duration": 126,
    "start_time": "2023-06-21T20:02:11.791Z"
   },
   {
    "duration": 134,
    "start_time": "2023-06-21T20:02:11.918Z"
   },
   {
    "duration": 875,
    "start_time": "2023-06-21T20:02:12.054Z"
   },
   {
    "duration": 1791,
    "start_time": "2023-06-21T20:02:12.930Z"
   },
   {
    "duration": 77,
    "start_time": "2023-06-21T20:02:14.723Z"
   },
   {
    "duration": 157,
    "start_time": "2023-06-21T20:04:18.388Z"
   },
   {
    "duration": 126,
    "start_time": "2023-06-21T20:04:43.514Z"
   },
   {
    "duration": 128,
    "start_time": "2023-06-21T20:05:31.043Z"
   },
   {
    "duration": 210,
    "start_time": "2023-06-21T20:06:33.712Z"
   },
   {
    "duration": 120,
    "start_time": "2023-06-21T20:07:07.485Z"
   },
   {
    "duration": 111,
    "start_time": "2023-06-21T20:07:31.123Z"
   },
   {
    "duration": 97,
    "start_time": "2023-06-21T20:07:38.289Z"
   },
   {
    "duration": 117,
    "start_time": "2023-06-21T20:30:02.793Z"
   },
   {
    "duration": 4,
    "start_time": "2023-06-21T20:30:32.397Z"
   },
   {
    "duration": 46,
    "start_time": "2023-06-21T20:30:41.663Z"
   },
   {
    "duration": 35,
    "start_time": "2023-06-21T20:30:59.692Z"
   },
   {
    "duration": 46,
    "start_time": "2023-06-21T20:31:16.400Z"
   },
   {
    "duration": 36,
    "start_time": "2023-06-21T20:31:23.543Z"
   },
   {
    "duration": 1500,
    "start_time": "2023-06-21T20:31:30.135Z"
   },
   {
    "duration": 48,
    "start_time": "2023-06-21T20:31:31.638Z"
   },
   {
    "duration": 42,
    "start_time": "2023-06-21T20:31:31.687Z"
   },
   {
    "duration": 156,
    "start_time": "2023-06-21T20:31:31.730Z"
   },
   {
    "duration": 112,
    "start_time": "2023-06-21T20:31:31.887Z"
   },
   {
    "duration": 150,
    "start_time": "2023-06-21T20:31:32.001Z"
   },
   {
    "duration": 117,
    "start_time": "2023-06-21T20:31:32.154Z"
   },
   {
    "duration": 13,
    "start_time": "2023-06-21T20:31:32.273Z"
   },
   {
    "duration": 23,
    "start_time": "2023-06-21T20:31:32.288Z"
   },
   {
    "duration": 18,
    "start_time": "2023-06-21T20:31:32.313Z"
   },
   {
    "duration": 72,
    "start_time": "2023-06-21T20:31:32.332Z"
   },
   {
    "duration": 10,
    "start_time": "2023-06-21T20:31:32.406Z"
   },
   {
    "duration": 8,
    "start_time": "2023-06-21T20:31:32.418Z"
   },
   {
    "duration": 13,
    "start_time": "2023-06-21T20:31:32.455Z"
   },
   {
    "duration": 19,
    "start_time": "2023-06-21T20:31:32.470Z"
   },
   {
    "duration": 23,
    "start_time": "2023-06-21T20:31:32.491Z"
   },
   {
    "duration": 7,
    "start_time": "2023-06-21T20:31:32.516Z"
   },
   {
    "duration": 33,
    "start_time": "2023-06-21T20:31:32.524Z"
   },
   {
    "duration": 95,
    "start_time": "2023-06-21T20:31:32.559Z"
   },
   {
    "duration": 10,
    "start_time": "2023-06-21T20:31:32.656Z"
   },
   {
    "duration": 157,
    "start_time": "2023-06-21T20:31:32.668Z"
   },
   {
    "duration": 29,
    "start_time": "2023-06-21T20:31:32.827Z"
   },
   {
    "duration": 74,
    "start_time": "2023-06-21T20:31:32.859Z"
   },
   {
    "duration": 24,
    "start_time": "2023-06-21T20:31:32.935Z"
   },
   {
    "duration": 148,
    "start_time": "2023-06-21T20:31:32.961Z"
   },
   {
    "duration": 147,
    "start_time": "2023-06-21T20:31:33.111Z"
   },
   {
    "duration": 14,
    "start_time": "2023-06-21T20:31:33.260Z"
   },
   {
    "duration": 216,
    "start_time": "2023-06-21T20:31:33.275Z"
   },
   {
    "duration": 4,
    "start_time": "2023-06-21T20:31:33.493Z"
   },
   {
    "duration": 15,
    "start_time": "2023-06-21T20:31:33.499Z"
   },
   {
    "duration": 6,
    "start_time": "2023-06-21T20:31:33.516Z"
   },
   {
    "duration": 106,
    "start_time": "2023-06-21T20:31:33.524Z"
   },
   {
    "duration": 135,
    "start_time": "2023-06-21T20:31:33.631Z"
   },
   {
    "duration": 1527,
    "start_time": "2023-06-21T20:31:33.768Z"
   },
   {
    "duration": 179,
    "start_time": "2023-06-21T20:31:35.297Z"
   },
   {
    "duration": 4,
    "start_time": "2023-06-21T20:31:35.477Z"
   },
   {
    "duration": 11,
    "start_time": "2023-06-21T20:31:35.483Z"
   },
   {
    "duration": 8,
    "start_time": "2023-06-21T20:31:35.495Z"
   },
   {
    "duration": 55,
    "start_time": "2023-06-21T20:31:35.504Z"
   },
   {
    "duration": 127,
    "start_time": "2023-06-21T20:31:35.561Z"
   },
   {
    "duration": 593,
    "start_time": "2023-06-21T20:31:35.692Z"
   },
   {
    "duration": 191,
    "start_time": "2023-06-21T20:31:36.288Z"
   },
   {
    "duration": 15500,
    "start_time": "2023-06-21T20:31:36.481Z"
   },
   {
    "duration": 4,
    "start_time": "2023-06-21T20:31:51.983Z"
   },
   {
    "duration": 12,
    "start_time": "2023-06-21T20:31:51.988Z"
   },
   {
    "duration": 10,
    "start_time": "2023-06-21T20:31:52.001Z"
   },
   {
    "duration": 153,
    "start_time": "2023-06-21T20:31:52.013Z"
   },
   {
    "duration": 147,
    "start_time": "2023-06-21T20:31:52.168Z"
   },
   {
    "duration": 240,
    "start_time": "2023-06-21T20:31:52.316Z"
   },
   {
    "duration": 135,
    "start_time": "2023-06-21T20:31:52.558Z"
   },
   {
    "duration": 832,
    "start_time": "2023-06-21T20:31:52.695Z"
   },
   {
    "duration": 1743,
    "start_time": "2023-06-21T20:31:53.529Z"
   },
   {
    "duration": 62,
    "start_time": "2023-06-21T20:31:55.274Z"
   },
   {
    "duration": 3,
    "start_time": "2023-06-21T20:55:43.945Z"
   },
   {
    "duration": 36,
    "start_time": "2023-06-21T20:56:10.264Z"
   },
   {
    "duration": 38,
    "start_time": "2023-06-21T20:56:16.626Z"
   },
   {
    "duration": 1365,
    "start_time": "2023-06-21T20:56:22.806Z"
   },
   {
    "duration": 48,
    "start_time": "2023-06-21T20:56:24.172Z"
   },
   {
    "duration": 40,
    "start_time": "2023-06-21T20:56:24.221Z"
   },
   {
    "duration": 161,
    "start_time": "2023-06-21T20:56:24.263Z"
   },
   {
    "duration": 104,
    "start_time": "2023-06-21T20:56:24.425Z"
   },
   {
    "duration": 147,
    "start_time": "2023-06-21T20:56:24.531Z"
   },
   {
    "duration": 118,
    "start_time": "2023-06-21T20:56:24.680Z"
   },
   {
    "duration": 13,
    "start_time": "2023-06-21T20:56:24.800Z"
   },
   {
    "duration": 11,
    "start_time": "2023-06-21T20:56:24.815Z"
   },
   {
    "duration": 36,
    "start_time": "2023-06-21T20:56:24.828Z"
   },
   {
    "duration": 48,
    "start_time": "2023-06-21T20:56:24.865Z"
   },
   {
    "duration": 7,
    "start_time": "2023-06-21T20:56:24.915Z"
   },
   {
    "duration": 6,
    "start_time": "2023-06-21T20:56:24.924Z"
   },
   {
    "duration": 33,
    "start_time": "2023-06-21T20:56:24.931Z"
   },
   {
    "duration": 14,
    "start_time": "2023-06-21T20:56:24.966Z"
   },
   {
    "duration": 23,
    "start_time": "2023-06-21T20:56:24.982Z"
   },
   {
    "duration": 19,
    "start_time": "2023-06-21T20:56:25.007Z"
   },
   {
    "duration": 10,
    "start_time": "2023-06-21T20:56:25.028Z"
   },
   {
    "duration": 77,
    "start_time": "2023-06-21T20:56:25.039Z"
   },
   {
    "duration": 8,
    "start_time": "2023-06-21T20:56:25.118Z"
   },
   {
    "duration": 29,
    "start_time": "2023-06-21T20:56:25.127Z"
   },
   {
    "duration": 138,
    "start_time": "2023-06-21T20:56:25.157Z"
   },
   {
    "duration": 14,
    "start_time": "2023-06-21T20:56:25.297Z"
   },
   {
    "duration": 79,
    "start_time": "2023-06-21T20:56:25.312Z"
   },
   {
    "duration": 7,
    "start_time": "2023-06-21T20:56:25.393Z"
   },
   {
    "duration": 7,
    "start_time": "2023-06-21T20:56:25.402Z"
   },
   {
    "duration": 154,
    "start_time": "2023-06-21T20:56:25.411Z"
   },
   {
    "duration": 126,
    "start_time": "2023-06-21T20:56:25.569Z"
   },
   {
    "duration": 13,
    "start_time": "2023-06-21T20:56:25.697Z"
   },
   {
    "duration": 207,
    "start_time": "2023-06-21T20:56:25.712Z"
   },
   {
    "duration": 5,
    "start_time": "2023-06-21T20:56:25.920Z"
   },
   {
    "duration": 16,
    "start_time": "2023-06-21T20:56:25.927Z"
   },
   {
    "duration": 13,
    "start_time": "2023-06-21T20:56:25.945Z"
   },
   {
    "duration": 79,
    "start_time": "2023-06-21T20:56:25.960Z"
   },
   {
    "duration": 117,
    "start_time": "2023-06-21T20:56:26.053Z"
   },
   {
    "duration": 1554,
    "start_time": "2023-06-21T20:56:26.172Z"
   },
   {
    "duration": 168,
    "start_time": "2023-06-21T20:56:27.728Z"
   },
   {
    "duration": 4,
    "start_time": "2023-06-21T20:56:27.898Z"
   },
   {
    "duration": 12,
    "start_time": "2023-06-21T20:56:27.903Z"
   },
   {
    "duration": 4,
    "start_time": "2023-06-21T20:56:27.917Z"
   },
   {
    "duration": 48,
    "start_time": "2023-06-21T20:56:27.923Z"
   },
   {
    "duration": 118,
    "start_time": "2023-06-21T20:56:27.973Z"
   },
   {
    "duration": 569,
    "start_time": "2023-06-21T20:56:28.093Z"
   },
   {
    "duration": 174,
    "start_time": "2023-06-21T20:56:28.663Z"
   },
   {
    "duration": 15439,
    "start_time": "2023-06-21T20:56:28.838Z"
   },
   {
    "duration": 3,
    "start_time": "2023-06-21T20:56:44.279Z"
   },
   {
    "duration": 14,
    "start_time": "2023-06-21T20:56:44.283Z"
   },
   {
    "duration": 9,
    "start_time": "2023-06-21T20:56:44.298Z"
   },
   {
    "duration": 155,
    "start_time": "2023-06-21T20:56:44.308Z"
   },
   {
    "duration": 154,
    "start_time": "2023-06-21T20:56:44.465Z"
   },
   {
    "duration": 123,
    "start_time": "2023-06-21T20:56:44.621Z"
   },
   {
    "duration": 130,
    "start_time": "2023-06-21T20:56:44.753Z"
   },
   {
    "duration": 862,
    "start_time": "2023-06-21T20:56:44.885Z"
   },
   {
    "duration": 1853,
    "start_time": "2023-06-21T20:56:45.749Z"
   },
   {
    "duration": 71,
    "start_time": "2023-06-21T20:56:47.606Z"
   },
   {
    "duration": 15618,
    "start_time": "2023-06-21T21:13:53.165Z"
   },
   {
    "duration": 146,
    "start_time": "2023-06-21T21:16:31.865Z"
   },
   {
    "duration": 149,
    "start_time": "2023-06-21T21:17:04.936Z"
   },
   {
    "duration": 111,
    "start_time": "2023-06-21T21:18:07.913Z"
   },
   {
    "duration": 217,
    "start_time": "2023-06-21T21:18:50.624Z"
   },
   {
    "duration": 3,
    "start_time": "2023-06-21T21:19:34.384Z"
   },
   {
    "duration": 103,
    "start_time": "2023-06-21T21:20:54.783Z"
   },
   {
    "duration": 1386,
    "start_time": "2023-06-21T21:21:09.039Z"
   },
   {
    "duration": 49,
    "start_time": "2023-06-21T21:21:10.427Z"
   },
   {
    "duration": 43,
    "start_time": "2023-06-21T21:21:10.478Z"
   },
   {
    "duration": 182,
    "start_time": "2023-06-21T21:21:10.523Z"
   },
   {
    "duration": 106,
    "start_time": "2023-06-21T21:21:10.707Z"
   },
   {
    "duration": 143,
    "start_time": "2023-06-21T21:21:10.814Z"
   },
   {
    "duration": 121,
    "start_time": "2023-06-21T21:21:10.958Z"
   },
   {
    "duration": 14,
    "start_time": "2023-06-21T21:21:11.081Z"
   },
   {
    "duration": 15,
    "start_time": "2023-06-21T21:21:11.096Z"
   },
   {
    "duration": 18,
    "start_time": "2023-06-21T21:21:11.114Z"
   },
   {
    "duration": 46,
    "start_time": "2023-06-21T21:21:11.154Z"
   },
   {
    "duration": 8,
    "start_time": "2023-06-21T21:21:11.201Z"
   },
   {
    "duration": 7,
    "start_time": "2023-06-21T21:21:11.210Z"
   },
   {
    "duration": 35,
    "start_time": "2023-06-21T21:21:11.219Z"
   },
   {
    "duration": 20,
    "start_time": "2023-06-21T21:21:11.256Z"
   },
   {
    "duration": 17,
    "start_time": "2023-06-21T21:21:11.278Z"
   },
   {
    "duration": 5,
    "start_time": "2023-06-21T21:21:11.296Z"
   },
   {
    "duration": 6,
    "start_time": "2023-06-21T21:21:11.303Z"
   },
   {
    "duration": 96,
    "start_time": "2023-06-21T21:21:11.310Z"
   },
   {
    "duration": 8,
    "start_time": "2023-06-21T21:21:11.408Z"
   },
   {
    "duration": 141,
    "start_time": "2023-06-21T21:21:11.417Z"
   },
   {
    "duration": 14,
    "start_time": "2023-06-21T21:21:11.559Z"
   },
   {
    "duration": 62,
    "start_time": "2023-06-21T21:21:11.575Z"
   },
   {
    "duration": 7,
    "start_time": "2023-06-21T21:21:11.655Z"
   },
   {
    "duration": 128,
    "start_time": "2023-06-21T21:21:11.664Z"
   },
   {
    "duration": 126,
    "start_time": "2023-06-21T21:21:11.794Z"
   },
   {
    "duration": 13,
    "start_time": "2023-06-21T21:21:11.921Z"
   },
   {
    "duration": 221,
    "start_time": "2023-06-21T21:21:11.938Z"
   },
   {
    "duration": 4,
    "start_time": "2023-06-21T21:21:12.160Z"
   },
   {
    "duration": 19,
    "start_time": "2023-06-21T21:21:12.165Z"
   },
   {
    "duration": 9,
    "start_time": "2023-06-21T21:21:12.185Z"
   },
   {
    "duration": 91,
    "start_time": "2023-06-21T21:21:12.195Z"
   },
   {
    "duration": 129,
    "start_time": "2023-06-21T21:21:12.288Z"
   },
   {
    "duration": 1460,
    "start_time": "2023-06-21T21:21:12.418Z"
   },
   {
    "duration": 174,
    "start_time": "2023-06-21T21:21:13.880Z"
   },
   {
    "duration": 3,
    "start_time": "2023-06-21T21:21:14.056Z"
   },
   {
    "duration": 11,
    "start_time": "2023-06-21T21:21:14.061Z"
   },
   {
    "duration": 5,
    "start_time": "2023-06-21T21:21:14.074Z"
   },
   {
    "duration": 40,
    "start_time": "2023-06-21T21:21:14.080Z"
   },
   {
    "duration": 133,
    "start_time": "2023-06-21T21:21:14.122Z"
   },
   {
    "duration": 559,
    "start_time": "2023-06-21T21:21:14.257Z"
   },
   {
    "duration": 166,
    "start_time": "2023-06-21T21:21:14.818Z"
   },
   {
    "duration": 15370,
    "start_time": "2023-06-21T21:21:14.986Z"
   },
   {
    "duration": 4,
    "start_time": "2023-06-21T21:21:30.358Z"
   },
   {
    "duration": 50,
    "start_time": "2023-06-21T21:21:30.363Z"
   },
   {
    "duration": 61,
    "start_time": "2023-06-21T21:21:30.414Z"
   },
   {
    "duration": 179,
    "start_time": "2023-06-21T21:21:30.477Z"
   },
   {
    "duration": 149,
    "start_time": "2023-06-21T21:21:30.659Z"
   },
   {
    "duration": 129,
    "start_time": "2023-06-21T21:21:30.810Z"
   },
   {
    "duration": 138,
    "start_time": "2023-06-21T21:21:30.941Z"
   },
   {
    "duration": 855,
    "start_time": "2023-06-21T21:21:31.080Z"
   },
   {
    "duration": 1803,
    "start_time": "2023-06-21T21:21:31.937Z"
   },
   {
    "duration": 11,
    "start_time": "2023-06-21T21:21:33.743Z"
   },
   {
    "duration": 68,
    "start_time": "2023-06-21T21:21:33.756Z"
   },
   {
    "duration": 546,
    "start_time": "2023-06-21T21:25:32.578Z"
   },
   {
    "duration": 1101,
    "start_time": "2023-06-21T21:25:38.544Z"
   },
   {
    "duration": 3,
    "start_time": "2023-06-21T21:25:43.268Z"
   },
   {
    "duration": 45,
    "start_time": "2023-06-21T21:25:47.766Z"
   },
   {
    "duration": 6,
    "start_time": "2023-06-21T21:40:09.985Z"
   },
   {
    "duration": 121,
    "start_time": "2023-06-21T21:40:22.399Z"
   },
   {
    "duration": 4,
    "start_time": "2023-06-21T21:40:35.291Z"
   },
   {
    "duration": 7,
    "start_time": "2023-06-21T21:40:41.534Z"
   },
   {
    "duration": 1691,
    "start_time": "2023-06-22T07:39:00.531Z"
   },
   {
    "duration": 104,
    "start_time": "2023-06-22T07:39:02.224Z"
   },
   {
    "duration": 60,
    "start_time": "2023-06-22T07:39:02.330Z"
   },
   {
    "duration": 198,
    "start_time": "2023-06-22T07:39:02.393Z"
   },
   {
    "duration": 126,
    "start_time": "2023-06-22T07:39:02.592Z"
   },
   {
    "duration": 166,
    "start_time": "2023-06-22T07:39:02.720Z"
   },
   {
    "duration": 129,
    "start_time": "2023-06-22T07:39:02.888Z"
   },
   {
    "duration": 15,
    "start_time": "2023-06-22T07:39:03.019Z"
   },
   {
    "duration": 28,
    "start_time": "2023-06-22T07:39:03.035Z"
   },
   {
    "duration": 24,
    "start_time": "2023-06-22T07:39:03.066Z"
   },
   {
    "duration": 55,
    "start_time": "2023-06-22T07:39:03.092Z"
   },
   {
    "duration": 9,
    "start_time": "2023-06-22T07:39:03.149Z"
   },
   {
    "duration": 113,
    "start_time": "2023-06-22T07:39:03.159Z"
   },
   {
    "duration": 27,
    "start_time": "2023-06-22T07:39:03.275Z"
   },
   {
    "duration": 16,
    "start_time": "2023-06-22T07:39:03.304Z"
   },
   {
    "duration": 27,
    "start_time": "2023-06-22T07:39:03.322Z"
   },
   {
    "duration": 28,
    "start_time": "2023-06-22T07:39:03.351Z"
   },
   {
    "duration": 9,
    "start_time": "2023-06-22T07:39:03.380Z"
   },
   {
    "duration": 106,
    "start_time": "2023-06-22T07:39:03.391Z"
   },
   {
    "duration": 9,
    "start_time": "2023-06-22T07:39:03.499Z"
   },
   {
    "duration": 145,
    "start_time": "2023-06-22T07:39:03.510Z"
   },
   {
    "duration": 16,
    "start_time": "2023-06-22T07:39:03.657Z"
   },
   {
    "duration": 83,
    "start_time": "2023-06-22T07:39:03.675Z"
   },
   {
    "duration": 9,
    "start_time": "2023-06-22T07:39:03.759Z"
   },
   {
    "duration": 150,
    "start_time": "2023-06-22T07:39:03.770Z"
   },
   {
    "duration": 137,
    "start_time": "2023-06-22T07:39:03.923Z"
   },
   {
    "duration": 16,
    "start_time": "2023-06-22T07:39:04.062Z"
   },
   {
    "duration": 176,
    "start_time": "2023-06-22T07:39:04.083Z"
   },
   {
    "duration": 4,
    "start_time": "2023-06-22T07:39:04.260Z"
   },
   {
    "duration": 23,
    "start_time": "2023-06-22T07:39:04.266Z"
   },
   {
    "duration": 14,
    "start_time": "2023-06-22T07:39:04.290Z"
   },
   {
    "duration": 90,
    "start_time": "2023-06-22T07:39:04.306Z"
   },
   {
    "duration": 129,
    "start_time": "2023-06-22T07:39:04.401Z"
   },
   {
    "duration": 1560,
    "start_time": "2023-06-22T07:39:04.532Z"
   },
   {
    "duration": 203,
    "start_time": "2023-06-22T07:39:06.101Z"
   },
   {
    "duration": 7,
    "start_time": "2023-06-22T07:39:06.305Z"
   },
   {
    "duration": 28,
    "start_time": "2023-06-22T07:39:06.314Z"
   },
   {
    "duration": 26,
    "start_time": "2023-06-22T07:39:06.344Z"
   },
   {
    "duration": 52,
    "start_time": "2023-06-22T07:39:06.372Z"
   },
   {
    "duration": 176,
    "start_time": "2023-06-22T07:39:06.426Z"
   },
   {
    "duration": 633,
    "start_time": "2023-06-22T07:39:06.604Z"
   },
   {
    "duration": 197,
    "start_time": "2023-06-22T07:39:07.239Z"
   },
   {
    "duration": 16217,
    "start_time": "2023-06-22T07:39:07.438Z"
   },
   {
    "duration": 5,
    "start_time": "2023-06-22T07:39:23.657Z"
   },
   {
    "duration": 26,
    "start_time": "2023-06-22T07:39:23.664Z"
   },
   {
    "duration": 36,
    "start_time": "2023-06-22T07:39:23.701Z"
   },
   {
    "duration": 146,
    "start_time": "2023-06-22T07:39:23.739Z"
   },
   {
    "duration": 168,
    "start_time": "2023-06-22T07:39:23.886Z"
   },
   {
    "duration": 132,
    "start_time": "2023-06-22T07:39:24.056Z"
   },
   {
    "duration": 133,
    "start_time": "2023-06-22T07:39:24.201Z"
   },
   {
    "duration": 583,
    "start_time": "2023-06-22T07:39:24.336Z"
   },
   {
    "duration": 1389,
    "start_time": "2023-06-22T07:39:24.921Z"
   },
   {
    "duration": 5,
    "start_time": "2023-06-22T07:39:26.312Z"
   },
   {
    "duration": 52,
    "start_time": "2023-06-22T07:39:26.318Z"
   },
   {
    "duration": 13,
    "start_time": "2023-06-23T07:55:06.575Z"
   },
   {
    "duration": 4,
    "start_time": "2023-06-23T07:55:37.006Z"
   },
   {
    "duration": 63,
    "start_time": "2023-06-23T11:06:41.577Z"
   },
   {
    "duration": 1483,
    "start_time": "2023-06-23T19:44:49.262Z"
   },
   {
    "duration": 111,
    "start_time": "2023-06-23T19:44:50.748Z"
   },
   {
    "duration": 52,
    "start_time": "2023-06-23T19:44:50.861Z"
   },
   {
    "duration": 155,
    "start_time": "2023-06-23T19:44:50.918Z"
   },
   {
    "duration": 108,
    "start_time": "2023-06-23T19:44:51.075Z"
   },
   {
    "duration": 160,
    "start_time": "2023-06-23T19:44:51.185Z"
   },
   {
    "duration": 115,
    "start_time": "2023-06-23T19:44:51.347Z"
   },
   {
    "duration": 12,
    "start_time": "2023-06-23T19:44:51.463Z"
   },
   {
    "duration": 59,
    "start_time": "2023-06-23T19:44:51.476Z"
   },
   {
    "duration": 18,
    "start_time": "2023-06-23T19:44:51.538Z"
   },
   {
    "duration": 10,
    "start_time": "2023-06-23T19:44:51.558Z"
   },
   {
    "duration": 152,
    "start_time": "2023-06-23T19:44:51.570Z"
   },
   {
    "duration": 8,
    "start_time": "2023-06-23T19:44:51.723Z"
   },
   {
    "duration": 15,
    "start_time": "2023-06-23T19:44:51.733Z"
   },
   {
    "duration": 17,
    "start_time": "2023-06-23T19:44:51.749Z"
   },
   {
    "duration": 23,
    "start_time": "2023-06-23T19:44:51.768Z"
   },
   {
    "duration": 45,
    "start_time": "2023-06-23T19:44:51.793Z"
   },
   {
    "duration": 27,
    "start_time": "2023-06-23T19:44:51.840Z"
   },
   {
    "duration": 24,
    "start_time": "2023-06-23T19:44:51.869Z"
   },
   {
    "duration": 121,
    "start_time": "2023-06-23T19:44:51.895Z"
   },
   {
    "duration": 11,
    "start_time": "2023-06-23T19:44:52.018Z"
   },
   {
    "duration": 153,
    "start_time": "2023-06-23T19:44:52.031Z"
   },
   {
    "duration": 14,
    "start_time": "2023-06-23T19:44:52.186Z"
   },
   {
    "duration": 118,
    "start_time": "2023-06-23T19:44:52.201Z"
   },
   {
    "duration": 9,
    "start_time": "2023-06-23T19:44:52.320Z"
   },
   {
    "duration": 136,
    "start_time": "2023-06-23T19:44:52.331Z"
   },
   {
    "duration": 152,
    "start_time": "2023-06-23T19:44:52.468Z"
   },
   {
    "duration": 14,
    "start_time": "2023-06-23T19:44:52.624Z"
   },
   {
    "duration": 148,
    "start_time": "2023-06-23T19:44:52.640Z"
   },
   {
    "duration": 4,
    "start_time": "2023-06-23T19:44:52.789Z"
   },
   {
    "duration": 91,
    "start_time": "2023-06-23T19:44:52.794Z"
   },
   {
    "duration": 5,
    "start_time": "2023-06-23T19:44:52.886Z"
   },
   {
    "duration": 118,
    "start_time": "2023-06-23T19:44:52.893Z"
   },
   {
    "duration": 130,
    "start_time": "2023-06-23T19:44:53.013Z"
   },
   {
    "duration": 1591,
    "start_time": "2023-06-23T19:44:53.144Z"
   },
   {
    "duration": 152,
    "start_time": "2023-06-23T19:44:54.736Z"
   },
   {
    "duration": 17,
    "start_time": "2023-06-23T19:44:54.889Z"
   },
   {
    "duration": 35,
    "start_time": "2023-06-23T19:44:54.908Z"
   },
   {
    "duration": 17,
    "start_time": "2023-06-23T19:44:54.945Z"
   },
   {
    "duration": 93,
    "start_time": "2023-06-23T19:44:54.963Z"
   },
   {
    "duration": 105,
    "start_time": "2023-06-23T19:44:55.057Z"
   },
   {
    "duration": 620,
    "start_time": "2023-06-23T19:44:55.163Z"
   },
   {
    "duration": 184,
    "start_time": "2023-06-23T19:44:55.784Z"
   },
   {
    "duration": 16317,
    "start_time": "2023-06-23T19:44:55.969Z"
   },
   {
    "duration": 4,
    "start_time": "2023-06-23T19:45:12.287Z"
   },
   {
    "duration": 33,
    "start_time": "2023-06-23T19:45:12.292Z"
   },
   {
    "duration": 19,
    "start_time": "2023-06-23T19:45:12.327Z"
   },
   {
    "duration": 135,
    "start_time": "2023-06-23T19:45:12.348Z"
   },
   {
    "duration": 130,
    "start_time": "2023-06-23T19:45:12.484Z"
   },
   {
    "duration": 110,
    "start_time": "2023-06-23T19:45:12.615Z"
   },
   {
    "duration": 141,
    "start_time": "2023-06-23T19:45:12.727Z"
   },
   {
    "duration": 603,
    "start_time": "2023-06-23T19:45:12.870Z"
   },
   {
    "duration": 1016,
    "start_time": "2023-06-23T19:45:13.476Z"
   },
   {
    "duration": 5,
    "start_time": "2023-06-23T19:45:14.494Z"
   },
   {
    "duration": 79,
    "start_time": "2023-06-23T19:45:14.500Z"
   },
   {
    "duration": 11,
    "start_time": "2023-06-23T19:47:41.517Z"
   },
   {
    "duration": 127,
    "start_time": "2023-06-23T20:21:30.421Z"
   },
   {
    "duration": 20,
    "start_time": "2023-06-23T20:24:47.413Z"
   },
   {
    "duration": 1319,
    "start_time": "2023-06-23T20:25:48.925Z"
   },
   {
    "duration": 45,
    "start_time": "2023-06-23T20:25:50.246Z"
   },
   {
    "duration": 41,
    "start_time": "2023-06-23T20:25:50.293Z"
   },
   {
    "duration": 149,
    "start_time": "2023-06-23T20:25:50.335Z"
   },
   {
    "duration": 102,
    "start_time": "2023-06-23T20:25:50.486Z"
   },
   {
    "duration": 143,
    "start_time": "2023-06-23T20:25:50.589Z"
   },
   {
    "duration": 115,
    "start_time": "2023-06-23T20:25:50.733Z"
   },
   {
    "duration": 11,
    "start_time": "2023-06-23T20:25:50.850Z"
   },
   {
    "duration": 20,
    "start_time": "2023-06-23T20:25:50.862Z"
   },
   {
    "duration": 22,
    "start_time": "2023-06-23T20:25:50.884Z"
   },
   {
    "duration": 12,
    "start_time": "2023-06-23T20:25:50.908Z"
   },
   {
    "duration": 55,
    "start_time": "2023-06-23T20:25:50.921Z"
   },
   {
    "duration": 8,
    "start_time": "2023-06-23T20:25:50.978Z"
   },
   {
    "duration": 6,
    "start_time": "2023-06-23T20:25:50.988Z"
   },
   {
    "duration": 38,
    "start_time": "2023-06-23T20:25:50.995Z"
   },
   {
    "duration": 12,
    "start_time": "2023-06-23T20:25:51.034Z"
   },
   {
    "duration": 13,
    "start_time": "2023-06-23T20:25:51.048Z"
   },
   {
    "duration": 5,
    "start_time": "2023-06-23T20:25:51.062Z"
   },
   {
    "duration": 16,
    "start_time": "2023-06-23T20:25:51.068Z"
   },
   {
    "duration": 53,
    "start_time": "2023-06-23T20:25:51.086Z"
   },
   {
    "duration": 7,
    "start_time": "2023-06-23T20:25:51.140Z"
   },
   {
    "duration": 122,
    "start_time": "2023-06-23T20:25:51.148Z"
   },
   {
    "duration": 12,
    "start_time": "2023-06-23T20:25:51.271Z"
   },
   {
    "duration": 60,
    "start_time": "2023-06-23T20:25:51.284Z"
   },
   {
    "duration": 6,
    "start_time": "2023-06-23T20:25:51.346Z"
   },
   {
    "duration": 138,
    "start_time": "2023-06-23T20:25:51.353Z"
   },
   {
    "duration": 134,
    "start_time": "2023-06-23T20:25:51.493Z"
   },
   {
    "duration": 12,
    "start_time": "2023-06-23T20:25:51.628Z"
   },
   {
    "duration": 200,
    "start_time": "2023-06-23T20:25:51.642Z"
   },
   {
    "duration": 4,
    "start_time": "2023-06-23T20:25:51.843Z"
   },
   {
    "duration": 34,
    "start_time": "2023-06-23T20:25:51.848Z"
   },
   {
    "duration": 13,
    "start_time": "2023-06-23T20:25:51.884Z"
   },
   {
    "duration": 100,
    "start_time": "2023-06-23T20:25:51.898Z"
   },
   {
    "duration": 127,
    "start_time": "2023-06-23T20:25:52.001Z"
   },
   {
    "duration": 1363,
    "start_time": "2023-06-23T20:25:52.130Z"
   },
   {
    "duration": 171,
    "start_time": "2023-06-23T20:25:53.495Z"
   },
   {
    "duration": 3,
    "start_time": "2023-06-23T20:25:53.668Z"
   },
   {
    "duration": 21,
    "start_time": "2023-06-23T20:25:53.673Z"
   },
   {
    "duration": 16,
    "start_time": "2023-06-23T20:25:53.696Z"
   },
   {
    "duration": 43,
    "start_time": "2023-06-23T20:25:53.714Z"
   },
   {
    "duration": 105,
    "start_time": "2023-06-23T20:25:53.761Z"
   },
   {
    "duration": 483,
    "start_time": "2023-06-23T20:25:53.868Z"
   },
   {
    "duration": 152,
    "start_time": "2023-06-23T20:25:54.352Z"
   },
   {
    "duration": 14099,
    "start_time": "2023-06-23T20:25:54.505Z"
   },
   {
    "duration": 3,
    "start_time": "2023-06-23T20:26:08.606Z"
   },
   {
    "duration": 30,
    "start_time": "2023-06-23T20:26:08.610Z"
   },
   {
    "duration": 9,
    "start_time": "2023-06-23T20:26:08.641Z"
   },
   {
    "duration": 123,
    "start_time": "2023-06-23T20:26:08.651Z"
   },
   {
    "duration": 144,
    "start_time": "2023-06-23T20:26:08.775Z"
   },
   {
    "duration": 121,
    "start_time": "2023-06-23T20:26:08.920Z"
   },
   {
    "duration": 141,
    "start_time": "2023-06-23T20:26:09.042Z"
   },
   {
    "duration": 486,
    "start_time": "2023-06-23T20:26:09.185Z"
   },
   {
    "duration": 922,
    "start_time": "2023-06-23T20:26:09.672Z"
   },
   {
    "duration": 3,
    "start_time": "2023-06-23T20:26:10.595Z"
   },
   {
    "duration": 74,
    "start_time": "2023-06-23T20:26:10.599Z"
   },
   {
    "duration": 7,
    "start_time": "2023-06-23T20:52:48.061Z"
   },
   {
    "duration": 13,
    "start_time": "2023-06-23T20:54:53.447Z"
   },
   {
    "duration": 79,
    "start_time": "2023-06-24T09:22:55.125Z"
   },
   {
    "duration": 1818,
    "start_time": "2023-06-24T09:23:14.042Z"
   },
   {
    "duration": 103,
    "start_time": "2023-06-24T09:23:15.863Z"
   },
   {
    "duration": 50,
    "start_time": "2023-06-24T09:23:15.970Z"
   },
   {
    "duration": 198,
    "start_time": "2023-06-24T09:23:16.023Z"
   },
   {
    "duration": 133,
    "start_time": "2023-06-24T09:23:16.223Z"
   },
   {
    "duration": 185,
    "start_time": "2023-06-24T09:23:16.358Z"
   },
   {
    "duration": 157,
    "start_time": "2023-06-24T09:23:16.545Z"
   },
   {
    "duration": 14,
    "start_time": "2023-06-24T09:23:16.704Z"
   },
   {
    "duration": 16,
    "start_time": "2023-06-24T09:23:16.720Z"
   },
   {
    "duration": 30,
    "start_time": "2023-06-24T09:23:16.753Z"
   },
   {
    "duration": 15,
    "start_time": "2023-06-24T09:23:16.786Z"
   },
   {
    "duration": 143,
    "start_time": "2023-06-24T09:23:16.804Z"
   },
   {
    "duration": 19,
    "start_time": "2023-06-24T09:23:16.957Z"
   },
   {
    "duration": 147,
    "start_time": "2023-06-24T09:23:16.978Z"
   },
   {
    "duration": 0,
    "start_time": "2023-06-24T09:23:17.128Z"
   },
   {
    "duration": 0,
    "start_time": "2023-06-24T09:23:17.129Z"
   },
   {
    "duration": 0,
    "start_time": "2023-06-24T09:23:17.131Z"
   },
   {
    "duration": 0,
    "start_time": "2023-06-24T09:23:17.132Z"
   },
   {
    "duration": 0,
    "start_time": "2023-06-24T09:23:17.134Z"
   },
   {
    "duration": 0,
    "start_time": "2023-06-24T09:23:17.135Z"
   },
   {
    "duration": 1,
    "start_time": "2023-06-24T09:23:17.152Z"
   },
   {
    "duration": 0,
    "start_time": "2023-06-24T09:23:17.154Z"
   },
   {
    "duration": 0,
    "start_time": "2023-06-24T09:23:17.155Z"
   },
   {
    "duration": 0,
    "start_time": "2023-06-24T09:23:17.157Z"
   },
   {
    "duration": 0,
    "start_time": "2023-06-24T09:23:17.158Z"
   },
   {
    "duration": 0,
    "start_time": "2023-06-24T09:23:17.160Z"
   },
   {
    "duration": 0,
    "start_time": "2023-06-24T09:23:17.161Z"
   },
   {
    "duration": 0,
    "start_time": "2023-06-24T09:23:17.163Z"
   },
   {
    "duration": 0,
    "start_time": "2023-06-24T09:23:17.164Z"
   },
   {
    "duration": 0,
    "start_time": "2023-06-24T09:23:17.165Z"
   },
   {
    "duration": 0,
    "start_time": "2023-06-24T09:23:17.167Z"
   },
   {
    "duration": 0,
    "start_time": "2023-06-24T09:23:17.168Z"
   },
   {
    "duration": 0,
    "start_time": "2023-06-24T09:23:17.169Z"
   },
   {
    "duration": 0,
    "start_time": "2023-06-24T09:23:17.171Z"
   },
   {
    "duration": 0,
    "start_time": "2023-06-24T09:23:17.173Z"
   },
   {
    "duration": 0,
    "start_time": "2023-06-24T09:23:17.175Z"
   },
   {
    "duration": 1,
    "start_time": "2023-06-24T09:23:17.176Z"
   },
   {
    "duration": 0,
    "start_time": "2023-06-24T09:23:17.178Z"
   },
   {
    "duration": 0,
    "start_time": "2023-06-24T09:23:17.180Z"
   },
   {
    "duration": 0,
    "start_time": "2023-06-24T09:23:17.181Z"
   },
   {
    "duration": 0,
    "start_time": "2023-06-24T09:23:17.183Z"
   },
   {
    "duration": 0,
    "start_time": "2023-06-24T09:23:17.184Z"
   },
   {
    "duration": 0,
    "start_time": "2023-06-24T09:23:17.186Z"
   },
   {
    "duration": 0,
    "start_time": "2023-06-24T09:23:17.188Z"
   },
   {
    "duration": 0,
    "start_time": "2023-06-24T09:23:17.190Z"
   },
   {
    "duration": 0,
    "start_time": "2023-06-24T09:23:17.191Z"
   },
   {
    "duration": 0,
    "start_time": "2023-06-24T09:23:17.193Z"
   },
   {
    "duration": 0,
    "start_time": "2023-06-24T09:23:17.195Z"
   },
   {
    "duration": 0,
    "start_time": "2023-06-24T09:23:17.251Z"
   },
   {
    "duration": 0,
    "start_time": "2023-06-24T09:23:17.253Z"
   },
   {
    "duration": 0,
    "start_time": "2023-06-24T09:23:17.254Z"
   },
   {
    "duration": 0,
    "start_time": "2023-06-24T09:23:17.256Z"
   },
   {
    "duration": 0,
    "start_time": "2023-06-24T09:23:17.257Z"
   },
   {
    "duration": 0,
    "start_time": "2023-06-24T09:23:17.258Z"
   },
   {
    "duration": 0,
    "start_time": "2023-06-24T09:23:17.260Z"
   },
   {
    "duration": 1499,
    "start_time": "2023-06-24T09:29:02.010Z"
   },
   {
    "duration": 52,
    "start_time": "2023-06-24T09:29:03.511Z"
   },
   {
    "duration": 53,
    "start_time": "2023-06-24T09:29:03.565Z"
   },
   {
    "duration": 191,
    "start_time": "2023-06-24T09:29:03.620Z"
   },
   {
    "duration": 115,
    "start_time": "2023-06-24T09:29:03.813Z"
   },
   {
    "duration": 175,
    "start_time": "2023-06-24T09:29:03.930Z"
   },
   {
    "duration": 136,
    "start_time": "2023-06-24T09:29:04.107Z"
   },
   {
    "duration": 17,
    "start_time": "2023-06-24T09:29:04.244Z"
   },
   {
    "duration": 20,
    "start_time": "2023-06-24T09:29:04.262Z"
   },
   {
    "duration": 26,
    "start_time": "2023-06-24T09:29:04.285Z"
   },
   {
    "duration": 13,
    "start_time": "2023-06-24T09:29:04.314Z"
   },
   {
    "duration": 44,
    "start_time": "2023-06-24T09:29:04.328Z"
   },
   {
    "duration": 16,
    "start_time": "2023-06-24T09:29:04.374Z"
   },
   {
    "duration": 136,
    "start_time": "2023-06-24T09:29:04.392Z"
   },
   {
    "duration": 0,
    "start_time": "2023-06-24T09:29:04.532Z"
   },
   {
    "duration": 0,
    "start_time": "2023-06-24T09:29:04.534Z"
   },
   {
    "duration": 0,
    "start_time": "2023-06-24T09:29:04.536Z"
   },
   {
    "duration": 0,
    "start_time": "2023-06-24T09:29:04.552Z"
   },
   {
    "duration": 0,
    "start_time": "2023-06-24T09:29:04.554Z"
   },
   {
    "duration": 0,
    "start_time": "2023-06-24T09:29:04.556Z"
   },
   {
    "duration": 0,
    "start_time": "2023-06-24T09:29:04.558Z"
   },
   {
    "duration": 0,
    "start_time": "2023-06-24T09:29:04.559Z"
   },
   {
    "duration": 0,
    "start_time": "2023-06-24T09:29:04.561Z"
   },
   {
    "duration": 0,
    "start_time": "2023-06-24T09:29:04.562Z"
   },
   {
    "duration": 0,
    "start_time": "2023-06-24T09:29:04.564Z"
   },
   {
    "duration": 0,
    "start_time": "2023-06-24T09:29:04.565Z"
   },
   {
    "duration": 0,
    "start_time": "2023-06-24T09:29:04.567Z"
   },
   {
    "duration": 0,
    "start_time": "2023-06-24T09:29:04.568Z"
   },
   {
    "duration": 0,
    "start_time": "2023-06-24T09:29:04.570Z"
   },
   {
    "duration": 0,
    "start_time": "2023-06-24T09:29:04.572Z"
   },
   {
    "duration": 0,
    "start_time": "2023-06-24T09:29:04.573Z"
   },
   {
    "duration": 0,
    "start_time": "2023-06-24T09:29:04.575Z"
   },
   {
    "duration": 0,
    "start_time": "2023-06-24T09:29:04.576Z"
   },
   {
    "duration": 0,
    "start_time": "2023-06-24T09:29:04.578Z"
   },
   {
    "duration": 0,
    "start_time": "2023-06-24T09:29:04.579Z"
   },
   {
    "duration": 0,
    "start_time": "2023-06-24T09:29:04.581Z"
   },
   {
    "duration": 0,
    "start_time": "2023-06-24T09:29:04.582Z"
   },
   {
    "duration": 0,
    "start_time": "2023-06-24T09:29:04.584Z"
   },
   {
    "duration": 0,
    "start_time": "2023-06-24T09:29:04.585Z"
   },
   {
    "duration": 0,
    "start_time": "2023-06-24T09:29:04.587Z"
   },
   {
    "duration": 0,
    "start_time": "2023-06-24T09:29:04.588Z"
   },
   {
    "duration": 0,
    "start_time": "2023-06-24T09:29:04.590Z"
   },
   {
    "duration": 0,
    "start_time": "2023-06-24T09:29:04.651Z"
   },
   {
    "duration": 0,
    "start_time": "2023-06-24T09:29:04.653Z"
   },
   {
    "duration": 0,
    "start_time": "2023-06-24T09:29:04.655Z"
   },
   {
    "duration": 0,
    "start_time": "2023-06-24T09:29:04.657Z"
   },
   {
    "duration": 0,
    "start_time": "2023-06-24T09:29:04.658Z"
   },
   {
    "duration": 0,
    "start_time": "2023-06-24T09:29:04.662Z"
   },
   {
    "duration": 0,
    "start_time": "2023-06-24T09:29:04.663Z"
   },
   {
    "duration": 0,
    "start_time": "2023-06-24T09:29:04.665Z"
   },
   {
    "duration": 0,
    "start_time": "2023-06-24T09:29:04.666Z"
   },
   {
    "duration": 0,
    "start_time": "2023-06-24T09:29:04.668Z"
   },
   {
    "duration": 0,
    "start_time": "2023-06-24T09:29:04.669Z"
   },
   {
    "duration": 0,
    "start_time": "2023-06-24T09:29:04.671Z"
   },
   {
    "duration": 0,
    "start_time": "2023-06-24T09:29:04.673Z"
   },
   {
    "duration": 14,
    "start_time": "2023-06-24T09:31:03.123Z"
   },
   {
    "duration": 1547,
    "start_time": "2023-06-24T09:32:58.319Z"
   },
   {
    "duration": 55,
    "start_time": "2023-06-24T09:32:59.868Z"
   },
   {
    "duration": 47,
    "start_time": "2023-06-24T09:32:59.925Z"
   },
   {
    "duration": 178,
    "start_time": "2023-06-24T09:32:59.974Z"
   },
   {
    "duration": 122,
    "start_time": "2023-06-24T09:33:00.154Z"
   },
   {
    "duration": 189,
    "start_time": "2023-06-24T09:33:00.278Z"
   },
   {
    "duration": 151,
    "start_time": "2023-06-24T09:33:00.469Z"
   },
   {
    "duration": 18,
    "start_time": "2023-06-24T09:33:00.623Z"
   },
   {
    "duration": 34,
    "start_time": "2023-06-24T09:33:00.652Z"
   },
   {
    "duration": 35,
    "start_time": "2023-06-24T09:33:00.689Z"
   },
   {
    "duration": 36,
    "start_time": "2023-06-24T09:33:00.726Z"
   },
   {
    "duration": 55,
    "start_time": "2023-06-24T09:33:00.764Z"
   },
   {
    "duration": 54,
    "start_time": "2023-06-24T09:33:00.821Z"
   },
   {
    "duration": 177,
    "start_time": "2023-06-24T09:33:00.877Z"
   },
   {
    "duration": 0,
    "start_time": "2023-06-24T09:33:01.057Z"
   },
   {
    "duration": 0,
    "start_time": "2023-06-24T09:33:01.058Z"
   },
   {
    "duration": 0,
    "start_time": "2023-06-24T09:33:01.059Z"
   },
   {
    "duration": 0,
    "start_time": "2023-06-24T09:33:01.060Z"
   },
   {
    "duration": 0,
    "start_time": "2023-06-24T09:33:01.061Z"
   },
   {
    "duration": 0,
    "start_time": "2023-06-24T09:33:01.063Z"
   },
   {
    "duration": 0,
    "start_time": "2023-06-24T09:33:01.064Z"
   },
   {
    "duration": 0,
    "start_time": "2023-06-24T09:33:01.065Z"
   },
   {
    "duration": 0,
    "start_time": "2023-06-24T09:33:01.066Z"
   },
   {
    "duration": 0,
    "start_time": "2023-06-24T09:33:01.067Z"
   },
   {
    "duration": 0,
    "start_time": "2023-06-24T09:33:01.068Z"
   },
   {
    "duration": 0,
    "start_time": "2023-06-24T09:33:01.069Z"
   },
   {
    "duration": 0,
    "start_time": "2023-06-24T09:33:01.070Z"
   },
   {
    "duration": 0,
    "start_time": "2023-06-24T09:33:01.071Z"
   },
   {
    "duration": 0,
    "start_time": "2023-06-24T09:33:01.072Z"
   },
   {
    "duration": 0,
    "start_time": "2023-06-24T09:33:01.073Z"
   },
   {
    "duration": 0,
    "start_time": "2023-06-24T09:33:01.074Z"
   },
   {
    "duration": 0,
    "start_time": "2023-06-24T09:33:01.075Z"
   },
   {
    "duration": 0,
    "start_time": "2023-06-24T09:33:01.076Z"
   },
   {
    "duration": 0,
    "start_time": "2023-06-24T09:33:01.077Z"
   },
   {
    "duration": 0,
    "start_time": "2023-06-24T09:33:01.078Z"
   },
   {
    "duration": 0,
    "start_time": "2023-06-24T09:33:01.079Z"
   },
   {
    "duration": 0,
    "start_time": "2023-06-24T09:33:01.080Z"
   },
   {
    "duration": 0,
    "start_time": "2023-06-24T09:33:01.081Z"
   },
   {
    "duration": 0,
    "start_time": "2023-06-24T09:33:01.082Z"
   },
   {
    "duration": 0,
    "start_time": "2023-06-24T09:33:01.083Z"
   },
   {
    "duration": 0,
    "start_time": "2023-06-24T09:33:01.085Z"
   },
   {
    "duration": 0,
    "start_time": "2023-06-24T09:33:01.086Z"
   },
   {
    "duration": 0,
    "start_time": "2023-06-24T09:33:01.087Z"
   },
   {
    "duration": 0,
    "start_time": "2023-06-24T09:33:01.088Z"
   },
   {
    "duration": 0,
    "start_time": "2023-06-24T09:33:01.089Z"
   },
   {
    "duration": 0,
    "start_time": "2023-06-24T09:33:01.090Z"
   },
   {
    "duration": 0,
    "start_time": "2023-06-24T09:33:01.091Z"
   },
   {
    "duration": 0,
    "start_time": "2023-06-24T09:33:01.092Z"
   },
   {
    "duration": 0,
    "start_time": "2023-06-24T09:33:01.093Z"
   },
   {
    "duration": 0,
    "start_time": "2023-06-24T09:33:01.153Z"
   },
   {
    "duration": 0,
    "start_time": "2023-06-24T09:33:01.154Z"
   },
   {
    "duration": 0,
    "start_time": "2023-06-24T09:33:01.155Z"
   },
   {
    "duration": 0,
    "start_time": "2023-06-24T09:33:01.156Z"
   },
   {
    "duration": 0,
    "start_time": "2023-06-24T09:33:01.157Z"
   },
   {
    "duration": 0,
    "start_time": "2023-06-24T09:33:01.158Z"
   },
   {
    "duration": 13,
    "start_time": "2023-06-24T09:34:51.770Z"
   },
   {
    "duration": 12,
    "start_time": "2023-06-24T09:35:24.700Z"
   },
   {
    "duration": 14,
    "start_time": "2023-06-24T09:35:39.799Z"
   },
   {
    "duration": 14,
    "start_time": "2023-06-24T09:40:13.808Z"
   },
   {
    "duration": 22,
    "start_time": "2023-06-24T10:07:45.971Z"
   },
   {
    "duration": 45,
    "start_time": "2023-06-24T10:27:51.228Z"
   },
   {
    "duration": 25,
    "start_time": "2023-06-24T10:29:45.087Z"
   },
   {
    "duration": 25,
    "start_time": "2023-06-24T10:43:48.938Z"
   },
   {
    "duration": 1702,
    "start_time": "2023-06-24T10:43:56.911Z"
   },
   {
    "duration": 58,
    "start_time": "2023-06-24T10:43:58.616Z"
   },
   {
    "duration": 46,
    "start_time": "2023-06-24T10:43:58.677Z"
   },
   {
    "duration": 200,
    "start_time": "2023-06-24T10:43:58.725Z"
   },
   {
    "duration": 125,
    "start_time": "2023-06-24T10:43:58.927Z"
   },
   {
    "duration": 176,
    "start_time": "2023-06-24T10:43:59.054Z"
   },
   {
    "duration": 163,
    "start_time": "2023-06-24T10:43:59.232Z"
   },
   {
    "duration": 14,
    "start_time": "2023-06-24T10:43:59.398Z"
   },
   {
    "duration": 15,
    "start_time": "2023-06-24T10:43:59.414Z"
   },
   {
    "duration": 38,
    "start_time": "2023-06-24T10:43:59.431Z"
   },
   {
    "duration": 15,
    "start_time": "2023-06-24T10:43:59.471Z"
   },
   {
    "duration": 12,
    "start_time": "2023-06-24T10:43:59.488Z"
   },
   {
    "duration": 141,
    "start_time": "2023-06-24T10:43:59.501Z"
   },
   {
    "duration": 0,
    "start_time": "2023-06-24T10:43:59.652Z"
   },
   {
    "duration": 0,
    "start_time": "2023-06-24T10:43:59.654Z"
   },
   {
    "duration": 0,
    "start_time": "2023-06-24T10:43:59.655Z"
   },
   {
    "duration": 0,
    "start_time": "2023-06-24T10:43:59.656Z"
   },
   {
    "duration": 0,
    "start_time": "2023-06-24T10:43:59.657Z"
   },
   {
    "duration": 0,
    "start_time": "2023-06-24T10:43:59.658Z"
   },
   {
    "duration": 0,
    "start_time": "2023-06-24T10:43:59.659Z"
   },
   {
    "duration": 0,
    "start_time": "2023-06-24T10:43:59.660Z"
   },
   {
    "duration": 0,
    "start_time": "2023-06-24T10:43:59.661Z"
   },
   {
    "duration": 0,
    "start_time": "2023-06-24T10:43:59.662Z"
   },
   {
    "duration": 0,
    "start_time": "2023-06-24T10:43:59.663Z"
   },
   {
    "duration": 0,
    "start_time": "2023-06-24T10:43:59.665Z"
   },
   {
    "duration": 0,
    "start_time": "2023-06-24T10:43:59.666Z"
   },
   {
    "duration": 0,
    "start_time": "2023-06-24T10:43:59.667Z"
   },
   {
    "duration": 0,
    "start_time": "2023-06-24T10:43:59.668Z"
   },
   {
    "duration": 0,
    "start_time": "2023-06-24T10:43:59.669Z"
   },
   {
    "duration": 0,
    "start_time": "2023-06-24T10:43:59.671Z"
   },
   {
    "duration": 0,
    "start_time": "2023-06-24T10:43:59.672Z"
   },
   {
    "duration": 0,
    "start_time": "2023-06-24T10:43:59.674Z"
   },
   {
    "duration": 0,
    "start_time": "2023-06-24T10:43:59.675Z"
   },
   {
    "duration": 0,
    "start_time": "2023-06-24T10:43:59.676Z"
   },
   {
    "duration": 0,
    "start_time": "2023-06-24T10:43:59.677Z"
   },
   {
    "duration": 0,
    "start_time": "2023-06-24T10:43:59.678Z"
   },
   {
    "duration": 0,
    "start_time": "2023-06-24T10:43:59.679Z"
   },
   {
    "duration": 0,
    "start_time": "2023-06-24T10:43:59.681Z"
   },
   {
    "duration": 0,
    "start_time": "2023-06-24T10:43:59.682Z"
   },
   {
    "duration": 0,
    "start_time": "2023-06-24T10:43:59.684Z"
   },
   {
    "duration": 0,
    "start_time": "2023-06-24T10:43:59.685Z"
   },
   {
    "duration": 0,
    "start_time": "2023-06-24T10:43:59.686Z"
   },
   {
    "duration": 0,
    "start_time": "2023-06-24T10:43:59.688Z"
   },
   {
    "duration": 1,
    "start_time": "2023-06-24T10:43:59.688Z"
   },
   {
    "duration": 0,
    "start_time": "2023-06-24T10:43:59.690Z"
   },
   {
    "duration": 0,
    "start_time": "2023-06-24T10:43:59.691Z"
   },
   {
    "duration": 0,
    "start_time": "2023-06-24T10:43:59.693Z"
   },
   {
    "duration": 0,
    "start_time": "2023-06-24T10:43:59.694Z"
   },
   {
    "duration": 0,
    "start_time": "2023-06-24T10:43:59.695Z"
   },
   {
    "duration": 0,
    "start_time": "2023-06-24T10:43:59.752Z"
   },
   {
    "duration": 0,
    "start_time": "2023-06-24T10:43:59.754Z"
   },
   {
    "duration": 0,
    "start_time": "2023-06-24T10:43:59.755Z"
   },
   {
    "duration": 0,
    "start_time": "2023-06-24T10:43:59.757Z"
   },
   {
    "duration": 0,
    "start_time": "2023-06-24T10:43:59.758Z"
   },
   {
    "duration": 38,
    "start_time": "2023-06-24T10:45:41.630Z"
   },
   {
    "duration": 1759,
    "start_time": "2023-06-24T10:46:14.677Z"
   },
   {
    "duration": 54,
    "start_time": "2023-06-24T10:46:16.438Z"
   },
   {
    "duration": 46,
    "start_time": "2023-06-24T10:46:16.494Z"
   },
   {
    "duration": 184,
    "start_time": "2023-06-24T10:46:16.542Z"
   },
   {
    "duration": 131,
    "start_time": "2023-06-24T10:46:16.728Z"
   },
   {
    "duration": 181,
    "start_time": "2023-06-24T10:46:16.862Z"
   },
   {
    "duration": 141,
    "start_time": "2023-06-24T10:46:17.046Z"
   },
   {
    "duration": 14,
    "start_time": "2023-06-24T10:46:17.189Z"
   },
   {
    "duration": 221,
    "start_time": "2023-06-24T10:46:17.204Z"
   },
   {
    "duration": 19,
    "start_time": "2023-06-24T10:46:17.428Z"
   },
   {
    "duration": 91,
    "start_time": "2023-06-24T10:46:17.449Z"
   },
   {
    "duration": 34,
    "start_time": "2023-06-24T10:46:17.542Z"
   },
   {
    "duration": 42,
    "start_time": "2023-06-24T10:46:17.578Z"
   },
   {
    "duration": 12,
    "start_time": "2023-06-24T10:46:17.622Z"
   },
   {
    "duration": 14,
    "start_time": "2023-06-24T10:46:17.636Z"
   },
   {
    "duration": 31,
    "start_time": "2023-06-24T10:46:17.652Z"
   },
   {
    "duration": 15,
    "start_time": "2023-06-24T10:46:17.685Z"
   },
   {
    "duration": 11,
    "start_time": "2023-06-24T10:46:17.702Z"
   },
   {
    "duration": 41,
    "start_time": "2023-06-24T10:46:17.714Z"
   },
   {
    "duration": 12,
    "start_time": "2023-06-24T10:46:17.757Z"
   },
   {
    "duration": 108,
    "start_time": "2023-06-24T10:46:17.771Z"
   },
   {
    "duration": 15,
    "start_time": "2023-06-24T10:46:17.881Z"
   },
   {
    "duration": 54,
    "start_time": "2023-06-24T10:46:17.898Z"
   },
   {
    "duration": 14,
    "start_time": "2023-06-24T10:46:17.955Z"
   },
   {
    "duration": 150,
    "start_time": "2023-06-24T10:46:17.972Z"
   },
   {
    "duration": 106,
    "start_time": "2023-06-24T10:46:18.124Z"
   },
   {
    "duration": 31,
    "start_time": "2023-06-24T10:46:18.231Z"
   },
   {
    "duration": 275,
    "start_time": "2023-06-24T10:46:18.268Z"
   },
   {
    "duration": 7,
    "start_time": "2023-06-24T10:46:18.546Z"
   },
   {
    "duration": 37,
    "start_time": "2023-06-24T10:46:18.555Z"
   },
   {
    "duration": 7,
    "start_time": "2023-06-24T10:46:18.595Z"
   },
   {
    "duration": 52,
    "start_time": "2023-06-24T10:46:18.604Z"
   },
   {
    "duration": 134,
    "start_time": "2023-06-24T10:46:18.658Z"
   },
   {
    "duration": 1119,
    "start_time": "2023-06-24T10:46:18.794Z"
   },
   {
    "duration": 199,
    "start_time": "2023-06-24T10:46:19.915Z"
   },
   {
    "duration": 4,
    "start_time": "2023-06-24T10:46:20.116Z"
   },
   {
    "duration": 34,
    "start_time": "2023-06-24T10:46:20.122Z"
   },
   {
    "duration": 31,
    "start_time": "2023-06-24T10:46:20.159Z"
   },
   {
    "duration": 54,
    "start_time": "2023-06-24T10:46:20.192Z"
   },
   {
    "duration": 137,
    "start_time": "2023-06-24T10:46:20.248Z"
   },
   {
    "duration": 467,
    "start_time": "2023-06-24T10:46:20.387Z"
   },
   {
    "duration": 181,
    "start_time": "2023-06-24T10:46:20.856Z"
   },
   {
    "duration": 13706,
    "start_time": "2023-06-24T10:46:21.039Z"
   },
   {
    "duration": 6,
    "start_time": "2023-06-24T10:46:34.752Z"
   },
   {
    "duration": 54,
    "start_time": "2023-06-24T10:46:34.762Z"
   },
   {
    "duration": 26,
    "start_time": "2023-06-24T10:46:34.818Z"
   },
   {
    "duration": 198,
    "start_time": "2023-06-24T10:46:34.846Z"
   },
   {
    "duration": 180,
    "start_time": "2023-06-24T10:46:35.046Z"
   },
   {
    "duration": 177,
    "start_time": "2023-06-24T10:46:35.228Z"
   },
   {
    "duration": 182,
    "start_time": "2023-06-24T10:46:35.407Z"
   },
   {
    "duration": 507,
    "start_time": "2023-06-24T10:46:35.590Z"
   },
   {
    "duration": 1187,
    "start_time": "2023-06-24T10:46:36.099Z"
   },
   {
    "duration": 3,
    "start_time": "2023-06-24T10:46:37.288Z"
   },
   {
    "duration": 87,
    "start_time": "2023-06-24T10:46:37.293Z"
   },
   {
    "duration": 1549,
    "start_time": "2023-06-24T19:58:31.676Z"
   },
   {
    "duration": 84,
    "start_time": "2023-06-24T19:58:33.227Z"
   },
   {
    "duration": 40,
    "start_time": "2023-06-24T19:58:33.313Z"
   },
   {
    "duration": 144,
    "start_time": "2023-06-24T19:58:33.355Z"
   },
   {
    "duration": 102,
    "start_time": "2023-06-24T19:58:33.501Z"
   },
   {
    "duration": 143,
    "start_time": "2023-06-24T19:58:33.605Z"
   },
   {
    "duration": 121,
    "start_time": "2023-06-24T19:58:33.750Z"
   },
   {
    "duration": 15,
    "start_time": "2023-06-24T19:58:33.876Z"
   },
   {
    "duration": 22,
    "start_time": "2023-06-24T19:58:33.893Z"
   },
   {
    "duration": 16,
    "start_time": "2023-06-24T19:58:33.918Z"
   },
   {
    "duration": 11,
    "start_time": "2023-06-24T19:58:33.936Z"
   },
   {
    "duration": 107,
    "start_time": "2023-06-24T19:58:33.948Z"
   },
   {
    "duration": 74,
    "start_time": "2023-06-24T19:58:34.057Z"
   },
   {
    "duration": 12,
    "start_time": "2023-06-24T19:58:34.133Z"
   },
   {
    "duration": 20,
    "start_time": "2023-06-24T19:58:34.147Z"
   },
   {
    "duration": 52,
    "start_time": "2023-06-24T19:58:34.168Z"
   },
   {
    "duration": 20,
    "start_time": "2023-06-24T19:58:34.221Z"
   },
   {
    "duration": 19,
    "start_time": "2023-06-24T19:58:34.243Z"
   },
   {
    "duration": 131,
    "start_time": "2023-06-24T19:58:34.264Z"
   },
   {
    "duration": 0,
    "start_time": "2023-06-24T19:58:34.398Z"
   },
   {
    "duration": 0,
    "start_time": "2023-06-24T19:58:34.399Z"
   },
   {
    "duration": 0,
    "start_time": "2023-06-24T19:58:34.400Z"
   },
   {
    "duration": 0,
    "start_time": "2023-06-24T19:58:34.401Z"
   },
   {
    "duration": 1,
    "start_time": "2023-06-24T19:58:34.402Z"
   },
   {
    "duration": 0,
    "start_time": "2023-06-24T19:58:34.404Z"
   },
   {
    "duration": 0,
    "start_time": "2023-06-24T19:58:34.405Z"
   },
   {
    "duration": 0,
    "start_time": "2023-06-24T19:58:34.406Z"
   },
   {
    "duration": 0,
    "start_time": "2023-06-24T19:58:34.407Z"
   },
   {
    "duration": 0,
    "start_time": "2023-06-24T19:58:34.408Z"
   },
   {
    "duration": 0,
    "start_time": "2023-06-24T19:58:34.410Z"
   },
   {
    "duration": 0,
    "start_time": "2023-06-24T19:58:34.411Z"
   },
   {
    "duration": 0,
    "start_time": "2023-06-24T19:58:34.412Z"
   },
   {
    "duration": 0,
    "start_time": "2023-06-24T19:58:34.413Z"
   },
   {
    "duration": 0,
    "start_time": "2023-06-24T19:58:34.415Z"
   },
   {
    "duration": 0,
    "start_time": "2023-06-24T19:58:34.416Z"
   },
   {
    "duration": 0,
    "start_time": "2023-06-24T19:58:34.419Z"
   },
   {
    "duration": 0,
    "start_time": "2023-06-24T19:58:34.420Z"
   },
   {
    "duration": 0,
    "start_time": "2023-06-24T19:58:34.421Z"
   },
   {
    "duration": 0,
    "start_time": "2023-06-24T19:58:34.422Z"
   },
   {
    "duration": 0,
    "start_time": "2023-06-24T19:58:34.423Z"
   },
   {
    "duration": 0,
    "start_time": "2023-06-24T19:58:34.424Z"
   },
   {
    "duration": 0,
    "start_time": "2023-06-24T19:58:34.425Z"
   },
   {
    "duration": 0,
    "start_time": "2023-06-24T19:58:34.426Z"
   },
   {
    "duration": 0,
    "start_time": "2023-06-24T19:58:34.475Z"
   },
   {
    "duration": 0,
    "start_time": "2023-06-24T19:58:34.476Z"
   },
   {
    "duration": 0,
    "start_time": "2023-06-24T19:58:34.477Z"
   },
   {
    "duration": 0,
    "start_time": "2023-06-24T19:58:34.479Z"
   },
   {
    "duration": 0,
    "start_time": "2023-06-24T19:58:34.480Z"
   },
   {
    "duration": 0,
    "start_time": "2023-06-24T19:58:34.482Z"
   },
   {
    "duration": 0,
    "start_time": "2023-06-24T19:58:34.483Z"
   },
   {
    "duration": 0,
    "start_time": "2023-06-24T19:58:34.484Z"
   },
   {
    "duration": 0,
    "start_time": "2023-06-24T19:58:34.485Z"
   },
   {
    "duration": 0,
    "start_time": "2023-06-24T19:58:34.487Z"
   },
   {
    "duration": 0,
    "start_time": "2023-06-24T19:58:34.488Z"
   },
   {
    "duration": 2774,
    "start_time": "2023-06-24T19:59:21.789Z"
   },
   {
    "duration": 3832,
    "start_time": "2023-06-24T20:06:14.774Z"
   },
   {
    "duration": 2975,
    "start_time": "2023-06-24T20:06:42.694Z"
   },
   {
    "duration": 5090,
    "start_time": "2023-06-24T20:07:04.414Z"
   },
   {
    "duration": 5011,
    "start_time": "2023-06-24T20:07:25.954Z"
   },
   {
    "duration": 6790,
    "start_time": "2023-06-24T20:11:43.233Z"
   },
   {
    "duration": 9275,
    "start_time": "2023-06-24T20:12:14.983Z"
   },
   {
    "duration": 12,
    "start_time": "2023-06-24T20:16:45.326Z"
   },
   {
    "duration": 1315,
    "start_time": "2023-06-24T20:17:25.753Z"
   },
   {
    "duration": 46,
    "start_time": "2023-06-24T20:17:27.069Z"
   },
   {
    "duration": 37,
    "start_time": "2023-06-24T20:17:27.117Z"
   },
   {
    "duration": 147,
    "start_time": "2023-06-24T20:17:27.156Z"
   },
   {
    "duration": 106,
    "start_time": "2023-06-24T20:17:27.305Z"
   },
   {
    "duration": 130,
    "start_time": "2023-06-24T20:17:27.412Z"
   },
   {
    "duration": 108,
    "start_time": "2023-06-24T20:17:27.544Z"
   },
   {
    "duration": 12,
    "start_time": "2023-06-24T20:17:27.653Z"
   },
   {
    "duration": 49,
    "start_time": "2023-06-24T20:17:27.666Z"
   },
   {
    "duration": 17,
    "start_time": "2023-06-24T20:17:27.717Z"
   },
   {
    "duration": 12,
    "start_time": "2023-06-24T20:17:27.736Z"
   },
   {
    "duration": 11,
    "start_time": "2023-06-24T20:17:27.749Z"
   },
   {
    "duration": 37,
    "start_time": "2023-06-24T20:17:27.762Z"
   },
   {
    "duration": 11,
    "start_time": "2023-06-24T20:17:27.801Z"
   },
   {
    "duration": 12,
    "start_time": "2023-06-24T20:17:27.813Z"
   },
   {
    "duration": 17,
    "start_time": "2023-06-24T20:17:27.826Z"
   },
   {
    "duration": 7,
    "start_time": "2023-06-24T20:17:27.845Z"
   },
   {
    "duration": 23,
    "start_time": "2023-06-24T20:17:27.853Z"
   },
   {
    "duration": 9237,
    "start_time": "2023-06-24T20:17:27.877Z"
   },
   {
    "duration": 6,
    "start_time": "2023-06-24T20:17:37.115Z"
   },
   {
    "duration": 70369,
    "start_time": "2023-06-24T20:17:37.122Z"
   },
   {
    "duration": 29,
    "start_time": "2023-06-24T20:18:47.493Z"
   },
   {
    "duration": 33,
    "start_time": "2023-06-24T20:18:47.523Z"
   },
   {
    "duration": 8,
    "start_time": "2023-06-24T20:18:47.575Z"
   },
   {
    "duration": 134,
    "start_time": "2023-06-24T20:18:47.584Z"
   },
   {
    "duration": 85,
    "start_time": "2023-06-24T20:18:47.719Z"
   },
   {
    "duration": 11,
    "start_time": "2023-06-24T20:18:47.806Z"
   },
   {
    "duration": 128,
    "start_time": "2023-06-24T20:18:47.820Z"
   },
   {
    "duration": 3,
    "start_time": "2023-06-24T20:18:47.950Z"
   },
   {
    "duration": 20,
    "start_time": "2023-06-24T20:18:47.955Z"
   },
   {
    "duration": 5,
    "start_time": "2023-06-24T20:18:47.976Z"
   },
   {
    "duration": 41,
    "start_time": "2023-06-24T20:18:47.983Z"
   },
   {
    "duration": 129,
    "start_time": "2023-06-24T20:18:48.026Z"
   },
   {
    "duration": 897,
    "start_time": "2023-06-24T20:18:48.157Z"
   },
   {
    "duration": 161,
    "start_time": "2023-06-24T20:18:49.055Z"
   },
   {
    "duration": 4,
    "start_time": "2023-06-24T20:18:49.218Z"
   },
   {
    "duration": 12,
    "start_time": "2023-06-24T20:18:49.223Z"
   },
   {
    "duration": 6,
    "start_time": "2023-06-24T20:18:49.237Z"
   },
   {
    "duration": 42,
    "start_time": "2023-06-24T20:18:49.244Z"
   },
   {
    "duration": 118,
    "start_time": "2023-06-24T20:18:49.288Z"
   },
   {
    "duration": 391,
    "start_time": "2023-06-24T20:18:49.407Z"
   },
   {
    "duration": 153,
    "start_time": "2023-06-24T20:18:49.800Z"
   },
   {
    "duration": 10920,
    "start_time": "2023-06-24T20:18:49.955Z"
   },
   {
    "duration": 4,
    "start_time": "2023-06-24T20:19:00.876Z"
   },
   {
    "duration": 50,
    "start_time": "2023-06-24T20:19:00.882Z"
   },
   {
    "duration": 40,
    "start_time": "2023-06-24T20:19:00.934Z"
   },
   {
    "duration": 179,
    "start_time": "2023-06-24T20:19:00.975Z"
   },
   {
    "duration": 144,
    "start_time": "2023-06-24T20:19:01.155Z"
   },
   {
    "duration": 140,
    "start_time": "2023-06-24T20:19:01.301Z"
   },
   {
    "duration": 142,
    "start_time": "2023-06-24T20:19:01.443Z"
   },
   {
    "duration": 449,
    "start_time": "2023-06-24T20:19:01.587Z"
   },
   {
    "duration": 978,
    "start_time": "2023-06-24T20:19:02.038Z"
   },
   {
    "duration": 4,
    "start_time": "2023-06-24T20:19:03.018Z"
   },
   {
    "duration": 53,
    "start_time": "2023-06-24T20:19:03.025Z"
   },
   {
    "duration": 43944,
    "start_time": "2023-06-24T20:25:56.853Z"
   },
   {
    "duration": 7641,
    "start_time": "2023-06-24T20:30:28.154Z"
   },
   {
    "duration": 15062,
    "start_time": "2023-06-24T20:31:36.593Z"
   },
   {
    "duration": 9543,
    "start_time": "2023-06-24T20:36:10.842Z"
   },
   {
    "duration": 1327,
    "start_time": "2023-06-24T20:36:57.508Z"
   },
   {
    "duration": 48,
    "start_time": "2023-06-24T20:36:58.837Z"
   },
   {
    "duration": 39,
    "start_time": "2023-06-24T20:36:58.886Z"
   },
   {
    "duration": 158,
    "start_time": "2023-06-24T20:36:58.927Z"
   },
   {
    "duration": 100,
    "start_time": "2023-06-24T20:36:59.087Z"
   },
   {
    "duration": 161,
    "start_time": "2023-06-24T20:36:59.188Z"
   },
   {
    "duration": 115,
    "start_time": "2023-06-24T20:36:59.351Z"
   },
   {
    "duration": 12,
    "start_time": "2023-06-24T20:36:59.474Z"
   },
   {
    "duration": 29,
    "start_time": "2023-06-24T20:36:59.487Z"
   },
   {
    "duration": 14,
    "start_time": "2023-06-24T20:36:59.517Z"
   },
   {
    "duration": 13,
    "start_time": "2023-06-24T20:36:59.533Z"
   },
   {
    "duration": 11,
    "start_time": "2023-06-24T20:36:59.548Z"
   },
   {
    "duration": 43,
    "start_time": "2023-06-24T20:36:59.560Z"
   },
   {
    "duration": 12,
    "start_time": "2023-06-24T20:36:59.606Z"
   },
   {
    "duration": 12,
    "start_time": "2023-06-24T20:36:59.619Z"
   },
   {
    "duration": 26,
    "start_time": "2023-06-24T20:36:59.632Z"
   },
   {
    "duration": 4,
    "start_time": "2023-06-24T20:36:59.676Z"
   },
   {
    "duration": 9,
    "start_time": "2023-06-24T20:36:59.681Z"
   },
   {
    "duration": 10071,
    "start_time": "2023-06-24T20:36:59.691Z"
   },
   {
    "duration": 17,
    "start_time": "2023-06-24T20:37:09.763Z"
   },
   {
    "duration": 71876,
    "start_time": "2023-06-24T20:37:09.782Z"
   },
   {
    "duration": 41,
    "start_time": "2023-06-24T20:38:21.660Z"
   },
   {
    "duration": 10474,
    "start_time": "2023-06-24T20:38:21.702Z"
   },
   {
    "duration": 6,
    "start_time": "2023-06-24T20:38:32.178Z"
   },
   {
    "duration": 140,
    "start_time": "2023-06-24T20:38:32.186Z"
   },
   {
    "duration": 69202,
    "start_time": "2023-06-24T20:38:32.328Z"
   },
   {
    "duration": 30,
    "start_time": "2023-06-24T20:39:41.531Z"
   },
   {
    "duration": 136,
    "start_time": "2023-06-24T20:39:41.575Z"
   },
   {
    "duration": 3,
    "start_time": "2023-06-24T20:39:41.713Z"
   },
   {
    "duration": 49,
    "start_time": "2023-06-24T20:39:41.718Z"
   },
   {
    "duration": 8,
    "start_time": "2023-06-24T20:39:41.768Z"
   },
   {
    "duration": 10903,
    "start_time": "2023-06-24T20:39:41.778Z"
   },
   {
    "duration": 112,
    "start_time": "2023-06-24T20:39:52.682Z"
   },
   {
    "duration": 92966,
    "start_time": "2023-06-24T20:39:52.796Z"
   },
   {
    "duration": 141,
    "start_time": "2023-06-24T20:41:25.763Z"
   },
   {
    "duration": 4,
    "start_time": "2023-06-24T20:41:25.906Z"
   },
   {
    "duration": 16,
    "start_time": "2023-06-24T20:41:25.912Z"
   },
   {
    "duration": 10,
    "start_time": "2023-06-24T20:41:25.929Z"
   },
   {
    "duration": 7413,
    "start_time": "2023-06-24T20:41:25.941Z"
   },
   {
    "duration": 115,
    "start_time": "2023-06-24T20:41:33.356Z"
   },
   {
    "duration": 44376,
    "start_time": "2023-06-24T20:41:33.475Z"
   },
   {
    "duration": 129,
    "start_time": "2023-06-24T20:42:17.852Z"
   },
   {
    "duration": 10465,
    "start_time": "2023-06-24T20:42:17.982Z"
   },
   {
    "duration": 4,
    "start_time": "2023-06-24T20:42:28.449Z"
   },
   {
    "duration": 22,
    "start_time": "2023-06-24T20:42:28.454Z"
   },
   {
    "duration": 23,
    "start_time": "2023-06-24T20:42:28.477Z"
   },
   {
    "duration": 129,
    "start_time": "2023-06-24T20:42:28.502Z"
   },
   {
    "duration": 133,
    "start_time": "2023-06-24T20:42:28.633Z"
   },
   {
    "duration": 125,
    "start_time": "2023-06-24T20:42:28.767Z"
   },
   {
    "duration": 195,
    "start_time": "2023-06-24T20:42:28.894Z"
   },
   {
    "duration": 462,
    "start_time": "2023-06-24T20:42:29.091Z"
   },
   {
    "duration": 923,
    "start_time": "2023-06-24T20:42:29.555Z"
   },
   {
    "duration": 2,
    "start_time": "2023-06-24T20:42:30.480Z"
   },
   {
    "duration": 83,
    "start_time": "2023-06-24T20:42:30.484Z"
   },
   {
    "duration": 132041,
    "start_time": "2023-06-24T20:44:52.922Z"
   },
   {
    "duration": 10,
    "start_time": "2023-06-24T20:50:59.307Z"
   },
   {
    "duration": 8340,
    "start_time": "2023-06-24T21:06:23.804Z"
   },
   {
    "duration": 1353,
    "start_time": "2023-06-24T21:09:32.888Z"
   },
   {
    "duration": 48,
    "start_time": "2023-06-24T21:09:34.242Z"
   },
   {
    "duration": 41,
    "start_time": "2023-06-24T21:09:34.292Z"
   },
   {
    "duration": 157,
    "start_time": "2023-06-24T21:09:34.334Z"
   },
   {
    "duration": 106,
    "start_time": "2023-06-24T21:09:34.493Z"
   },
   {
    "duration": 145,
    "start_time": "2023-06-24T21:09:34.601Z"
   },
   {
    "duration": 115,
    "start_time": "2023-06-24T21:09:34.748Z"
   },
   {
    "duration": 18,
    "start_time": "2023-06-24T21:09:34.865Z"
   },
   {
    "duration": 28,
    "start_time": "2023-06-24T21:09:34.884Z"
   },
   {
    "duration": 15,
    "start_time": "2023-06-24T21:09:34.915Z"
   },
   {
    "duration": 11,
    "start_time": "2023-06-24T21:09:34.932Z"
   },
   {
    "duration": 20,
    "start_time": "2023-06-24T21:09:34.945Z"
   },
   {
    "duration": 34,
    "start_time": "2023-06-24T21:09:34.966Z"
   },
   {
    "duration": 12,
    "start_time": "2023-06-24T21:09:35.001Z"
   },
   {
    "duration": 33,
    "start_time": "2023-06-24T21:09:35.015Z"
   },
   {
    "duration": 29,
    "start_time": "2023-06-24T21:09:35.050Z"
   },
   {
    "duration": 41,
    "start_time": "2023-06-24T21:09:35.080Z"
   },
   {
    "duration": 28,
    "start_time": "2023-06-24T21:09:35.123Z"
   },
   {
    "duration": 10003,
    "start_time": "2023-06-24T21:09:35.153Z"
   },
   {
    "duration": 18,
    "start_time": "2023-06-24T21:09:45.158Z"
   },
   {
    "duration": 7813,
    "start_time": "2023-06-24T21:09:45.178Z"
   },
   {
    "duration": 70664,
    "start_time": "2023-06-24T21:09:52.993Z"
   },
   {
    "duration": 38,
    "start_time": "2023-06-24T21:11:03.660Z"
   },
   {
    "duration": 10787,
    "start_time": "2023-06-24T21:11:03.700Z"
   },
   {
    "duration": 8,
    "start_time": "2023-06-24T21:11:14.488Z"
   },
   {
    "duration": 118,
    "start_time": "2023-06-24T21:11:14.497Z"
   },
   {
    "duration": 71142,
    "start_time": "2023-06-24T21:11:14.617Z"
   },
   {
    "duration": 37,
    "start_time": "2023-06-24T21:12:25.762Z"
   },
   {
    "duration": 137,
    "start_time": "2023-06-24T21:12:25.801Z"
   },
   {
    "duration": 4,
    "start_time": "2023-06-24T21:12:25.939Z"
   },
   {
    "duration": 30,
    "start_time": "2023-06-24T21:12:25.944Z"
   },
   {
    "duration": 26,
    "start_time": "2023-06-24T21:12:25.975Z"
   },
   {
    "duration": 11713,
    "start_time": "2023-06-24T21:12:26.003Z"
   },
   {
    "duration": 136,
    "start_time": "2023-06-24T21:12:37.718Z"
   },
   {
    "duration": 10520,
    "start_time": "2023-06-24T21:12:37.856Z"
   },
   {
    "duration": 137015,
    "start_time": "2023-06-24T21:12:48.377Z"
   },
   {
    "duration": 153,
    "start_time": "2023-06-24T21:15:05.394Z"
   },
   {
    "duration": 5,
    "start_time": "2023-06-24T21:15:05.548Z"
   },
   {
    "duration": 80,
    "start_time": "2023-06-24T21:15:05.554Z"
   },
   {
    "duration": 0,
    "start_time": "2023-06-24T21:15:05.635Z"
   },
   {
    "duration": 0,
    "start_time": "2023-06-24T21:15:05.636Z"
   },
   {
    "duration": 0,
    "start_time": "2023-06-24T21:15:05.638Z"
   },
   {
    "duration": 0,
    "start_time": "2023-06-24T21:15:05.639Z"
   },
   {
    "duration": 0,
    "start_time": "2023-06-24T21:15:05.639Z"
   },
   {
    "duration": 0,
    "start_time": "2023-06-24T21:15:05.641Z"
   },
   {
    "duration": 0,
    "start_time": "2023-06-24T21:15:05.641Z"
   },
   {
    "duration": 0,
    "start_time": "2023-06-24T21:15:05.642Z"
   },
   {
    "duration": 0,
    "start_time": "2023-06-24T21:15:05.643Z"
   },
   {
    "duration": 0,
    "start_time": "2023-06-24T21:15:05.644Z"
   },
   {
    "duration": 0,
    "start_time": "2023-06-24T21:15:05.645Z"
   },
   {
    "duration": 0,
    "start_time": "2023-06-24T21:15:05.646Z"
   },
   {
    "duration": 0,
    "start_time": "2023-06-24T21:15:05.647Z"
   },
   {
    "duration": 0,
    "start_time": "2023-06-24T21:15:05.648Z"
   },
   {
    "duration": 0,
    "start_time": "2023-06-24T21:15:05.649Z"
   },
   {
    "duration": 0,
    "start_time": "2023-06-24T21:15:05.650Z"
   },
   {
    "duration": 0,
    "start_time": "2023-06-24T21:15:05.651Z"
   },
   {
    "duration": 9,
    "start_time": "2023-06-24T21:15:53.262Z"
   },
   {
    "duration": 6,
    "start_time": "2023-06-24T21:16:16.226Z"
   },
   {
    "duration": 7663,
    "start_time": "2023-06-24T21:16:17.347Z"
   },
   {
    "duration": 125,
    "start_time": "2023-06-24T21:16:25.012Z"
   },
   {
    "duration": 45349,
    "start_time": "2023-06-24T21:16:25.139Z"
   },
   {
    "duration": 143,
    "start_time": "2023-06-24T21:17:10.490Z"
   },
   {
    "duration": 11271,
    "start_time": "2023-06-24T21:17:10.634Z"
   },
   {
    "duration": 4,
    "start_time": "2023-06-24T21:17:21.907Z"
   },
   {
    "duration": 36,
    "start_time": "2023-06-24T21:17:21.912Z"
   },
   {
    "duration": 49,
    "start_time": "2023-06-24T21:17:21.949Z"
   },
   {
    "duration": 163,
    "start_time": "2023-06-24T21:17:22.000Z"
   },
   {
    "duration": 144,
    "start_time": "2023-06-24T21:17:22.165Z"
   },
   {
    "duration": 130,
    "start_time": "2023-06-24T21:17:22.311Z"
   },
   {
    "duration": 139,
    "start_time": "2023-06-24T21:17:22.443Z"
   },
   {
    "duration": 487,
    "start_time": "2023-06-24T21:17:22.583Z"
   },
   {
    "duration": 979,
    "start_time": "2023-06-24T21:17:23.075Z"
   },
   {
    "duration": 4,
    "start_time": "2023-06-24T21:17:24.056Z"
   },
   {
    "duration": 65,
    "start_time": "2023-06-24T21:17:24.062Z"
   },
   {
    "duration": 9,
    "start_time": "2023-06-24T21:20:24.226Z"
   },
   {
    "duration": 1074,
    "start_time": "2023-06-24T21:21:36.606Z"
   },
   {
    "duration": 1229,
    "start_time": "2023-06-24T21:21:59.592Z"
   },
   {
    "duration": 410,
    "start_time": "2023-06-24T21:23:50.982Z"
   },
   {
    "duration": 8,
    "start_time": "2023-06-24T21:24:07.454Z"
   },
   {
    "duration": 6,
    "start_time": "2023-06-24T21:24:24.758Z"
   },
   {
    "duration": 8,
    "start_time": "2023-06-24T21:24:41.902Z"
   },
   {
    "duration": 11,
    "start_time": "2023-06-24T21:25:32.866Z"
   },
   {
    "duration": 6,
    "start_time": "2023-06-24T21:27:02.346Z"
   },
   {
    "duration": 1592,
    "start_time": "2023-06-24T21:27:47.894Z"
   },
   {
    "duration": 85705,
    "start_time": "2023-06-24T21:35:34.234Z"
   },
   {
    "duration": 119457,
    "start_time": "2023-06-24T21:38:53.869Z"
   },
   {
    "duration": 115349,
    "start_time": "2023-06-24T21:42:07.038Z"
   },
   {
    "duration": 1287,
    "start_time": "2023-06-24T21:44:57.084Z"
   },
   {
    "duration": 46,
    "start_time": "2023-06-24T21:44:58.374Z"
   },
   {
    "duration": 37,
    "start_time": "2023-06-24T21:44:58.421Z"
   },
   {
    "duration": 138,
    "start_time": "2023-06-24T21:44:58.460Z"
   },
   {
    "duration": 93,
    "start_time": "2023-06-24T21:44:58.600Z"
   },
   {
    "duration": 131,
    "start_time": "2023-06-24T21:44:58.694Z"
   },
   {
    "duration": 103,
    "start_time": "2023-06-24T21:44:58.827Z"
   },
   {
    "duration": 12,
    "start_time": "2023-06-24T21:44:58.931Z"
   },
   {
    "duration": 32,
    "start_time": "2023-06-24T21:44:58.944Z"
   },
   {
    "duration": 13,
    "start_time": "2023-06-24T21:44:58.977Z"
   },
   {
    "duration": 11,
    "start_time": "2023-06-24T21:44:58.991Z"
   },
   {
    "duration": 9,
    "start_time": "2023-06-24T21:44:59.003Z"
   },
   {
    "duration": 26,
    "start_time": "2023-06-24T21:44:59.013Z"
   },
   {
    "duration": 39,
    "start_time": "2023-06-24T21:44:59.041Z"
   },
   {
    "duration": 12,
    "start_time": "2023-06-24T21:44:59.081Z"
   },
   {
    "duration": 26,
    "start_time": "2023-06-24T21:44:59.094Z"
   },
   {
    "duration": 12,
    "start_time": "2023-06-24T21:44:59.121Z"
   },
   {
    "duration": 7,
    "start_time": "2023-06-24T21:44:59.134Z"
   },
   {
    "duration": 9335,
    "start_time": "2023-06-24T21:44:59.143Z"
   },
   {
    "duration": 6,
    "start_time": "2023-06-24T21:45:08.480Z"
   },
   {
    "duration": 7723,
    "start_time": "2023-06-24T21:45:08.487Z"
   },
   {
    "duration": 68303,
    "start_time": "2023-06-24T21:45:16.211Z"
   },
   {
    "duration": 28,
    "start_time": "2023-06-24T21:46:24.515Z"
   },
   {
    "duration": 10070,
    "start_time": "2023-06-24T21:46:24.545Z"
   },
   {
    "duration": 6,
    "start_time": "2023-06-24T21:46:34.617Z"
   },
   {
    "duration": 109,
    "start_time": "2023-06-24T21:46:34.625Z"
   },
   {
    "duration": 67904,
    "start_time": "2023-06-24T21:46:34.735Z"
   },
   {
    "duration": 36,
    "start_time": "2023-06-24T21:47:42.640Z"
   },
   {
    "duration": 139,
    "start_time": "2023-06-24T21:47:42.677Z"
   },
   {
    "duration": 4,
    "start_time": "2023-06-24T21:47:42.817Z"
   },
   {
    "duration": 28,
    "start_time": "2023-06-24T21:47:42.823Z"
   },
   {
    "duration": 25,
    "start_time": "2023-06-24T21:47:42.853Z"
   },
   {
    "duration": 11163,
    "start_time": "2023-06-24T21:47:42.880Z"
   },
   {
    "duration": 112,
    "start_time": "2023-06-24T21:47:54.045Z"
   },
   {
    "duration": 9911,
    "start_time": "2023-06-24T21:47:54.158Z"
   },
   {
    "duration": 131211,
    "start_time": "2023-06-24T21:48:04.075Z"
   },
   {
    "duration": 134,
    "start_time": "2023-06-24T21:50:15.288Z"
   },
   {
    "duration": 4,
    "start_time": "2023-06-24T21:50:15.423Z"
   },
   {
    "duration": 41,
    "start_time": "2023-06-24T21:50:15.429Z"
   },
   {
    "duration": 5,
    "start_time": "2023-06-24T21:50:15.472Z"
   },
   {
    "duration": 7202,
    "start_time": "2023-06-24T21:50:15.480Z"
   },
   {
    "duration": 110,
    "start_time": "2023-06-24T21:50:22.684Z"
   },
   {
    "duration": 40908,
    "start_time": "2023-06-24T21:50:22.796Z"
   },
   {
    "duration": 133,
    "start_time": "2023-06-24T21:51:03.705Z"
   },
   {
    "duration": 115361,
    "start_time": "2023-06-24T21:51:03.840Z"
   },
   {
    "duration": 4,
    "start_time": "2023-06-24T21:52:59.203Z"
   },
   {
    "duration": 14,
    "start_time": "2023-06-24T21:52:59.208Z"
   },
   {
    "duration": 15,
    "start_time": "2023-06-24T21:52:59.223Z"
   },
   {
    "duration": 140,
    "start_time": "2023-06-24T21:52:59.240Z"
   },
   {
    "duration": 145,
    "start_time": "2023-06-24T21:52:59.382Z"
   },
   {
    "duration": 195,
    "start_time": "2023-06-24T21:52:59.529Z"
   },
   {
    "duration": 0,
    "start_time": "2023-06-24T21:52:59.726Z"
   },
   {
    "duration": 0,
    "start_time": "2023-06-24T21:52:59.727Z"
   },
   {
    "duration": 0,
    "start_time": "2023-06-24T21:52:59.728Z"
   },
   {
    "duration": 0,
    "start_time": "2023-06-24T21:52:59.730Z"
   },
   {
    "duration": 0,
    "start_time": "2023-06-24T21:52:59.731Z"
   },
   {
    "duration": 200337,
    "start_time": "2023-06-24T21:55:43.657Z"
   },
   {
    "duration": 1361,
    "start_time": "2023-06-24T21:59:39.257Z"
   },
   {
    "duration": 49,
    "start_time": "2023-06-24T21:59:40.620Z"
   },
   {
    "duration": 38,
    "start_time": "2023-06-24T21:59:40.670Z"
   },
   {
    "duration": 149,
    "start_time": "2023-06-24T21:59:40.710Z"
   },
   {
    "duration": 103,
    "start_time": "2023-06-24T21:59:40.861Z"
   },
   {
    "duration": 159,
    "start_time": "2023-06-24T21:59:40.965Z"
   },
   {
    "duration": 124,
    "start_time": "2023-06-24T21:59:41.126Z"
   },
   {
    "duration": 12,
    "start_time": "2023-06-24T21:59:41.252Z"
   },
   {
    "duration": 11,
    "start_time": "2023-06-24T21:59:41.274Z"
   },
   {
    "duration": 24,
    "start_time": "2023-06-24T21:59:41.286Z"
   },
   {
    "duration": 16,
    "start_time": "2023-06-24T21:59:41.312Z"
   },
   {
    "duration": 26,
    "start_time": "2023-06-24T21:59:41.330Z"
   },
   {
    "duration": 35,
    "start_time": "2023-06-24T21:59:41.357Z"
   },
   {
    "duration": 10,
    "start_time": "2023-06-24T21:59:41.395Z"
   },
   {
    "duration": 21,
    "start_time": "2023-06-24T21:59:41.406Z"
   },
   {
    "duration": 45,
    "start_time": "2023-06-24T21:59:41.428Z"
   },
   {
    "duration": 27,
    "start_time": "2023-06-24T21:59:41.474Z"
   },
   {
    "duration": 25,
    "start_time": "2023-06-24T21:59:41.503Z"
   },
   {
    "duration": 9342,
    "start_time": "2023-06-24T21:59:41.529Z"
   },
   {
    "duration": 7,
    "start_time": "2023-06-24T21:59:50.874Z"
   },
   {
    "duration": 7488,
    "start_time": "2023-06-24T21:59:50.882Z"
   },
   {
    "duration": 67032,
    "start_time": "2023-06-24T21:59:58.374Z"
   },
   {
    "duration": 28,
    "start_time": "2023-06-24T22:01:05.407Z"
   },
   {
    "duration": 10408,
    "start_time": "2023-06-24T22:01:05.436Z"
   },
   {
    "duration": 6,
    "start_time": "2023-06-24T22:01:15.846Z"
   },
   {
    "duration": 113,
    "start_time": "2023-06-24T22:01:15.853Z"
   },
   {
    "duration": 67395,
    "start_time": "2023-06-24T22:01:15.968Z"
   },
   {
    "duration": 33,
    "start_time": "2023-06-24T22:02:23.365Z"
   },
   {
    "duration": 142,
    "start_time": "2023-06-24T22:02:23.399Z"
   },
   {
    "duration": 4,
    "start_time": "2023-06-24T22:02:23.543Z"
   },
   {
    "duration": 53,
    "start_time": "2023-06-24T22:02:23.548Z"
   },
   {
    "duration": 11,
    "start_time": "2023-06-24T22:02:23.602Z"
   },
   {
    "duration": 10890,
    "start_time": "2023-06-24T22:02:23.615Z"
   },
   {
    "duration": 107,
    "start_time": "2023-06-24T22:02:34.506Z"
   },
   {
    "duration": 9757,
    "start_time": "2023-06-24T22:02:34.615Z"
   },
   {
    "duration": 132233,
    "start_time": "2023-06-24T22:02:44.375Z"
   },
   {
    "duration": 135,
    "start_time": "2023-06-24T22:04:56.610Z"
   },
   {
    "duration": 4,
    "start_time": "2023-06-24T22:04:56.746Z"
   },
   {
    "duration": 25,
    "start_time": "2023-06-24T22:04:56.751Z"
   },
   {
    "duration": 14,
    "start_time": "2023-06-24T22:04:56.778Z"
   },
   {
    "duration": 7672,
    "start_time": "2023-06-24T22:04:56.795Z"
   },
   {
    "duration": 117,
    "start_time": "2023-06-24T22:05:04.469Z"
   },
   {
    "duration": 44564,
    "start_time": "2023-06-24T22:05:04.588Z"
   },
   {
    "duration": 173,
    "start_time": "2023-06-24T22:05:49.154Z"
   },
   {
    "duration": 211700,
    "start_time": "2023-06-24T22:05:49.329Z"
   },
   {
    "duration": 118157,
    "start_time": "2023-06-24T22:09:21.031Z"
   },
   {
    "duration": 10438,
    "start_time": "2023-06-24T22:11:19.190Z"
   },
   {
    "duration": 3,
    "start_time": "2023-06-24T22:11:29.629Z"
   },
   {
    "duration": 18,
    "start_time": "2023-06-24T22:11:29.633Z"
   },
   {
    "duration": 12,
    "start_time": "2023-06-24T22:11:29.652Z"
   },
   {
    "duration": 130,
    "start_time": "2023-06-24T22:11:29.666Z"
   },
   {
    "duration": 219,
    "start_time": "2023-06-24T22:11:29.797Z"
   },
   {
    "duration": 132,
    "start_time": "2023-06-24T22:11:30.017Z"
   },
   {
    "duration": 143,
    "start_time": "2023-06-24T22:11:30.151Z"
   },
   {
    "duration": 106,
    "start_time": "2023-06-24T22:11:30.296Z"
   },
   {
    "duration": 0,
    "start_time": "2023-06-24T22:11:30.404Z"
   },
   {
    "duration": 0,
    "start_time": "2023-06-24T22:11:30.405Z"
   },
   {
    "duration": 0,
    "start_time": "2023-06-24T22:11:30.406Z"
   },
   {
    "duration": 300,
    "start_time": "2023-06-24T22:24:33.714Z"
   },
   {
    "duration": 1129,
    "start_time": "2023-06-24T22:24:35.698Z"
   },
   {
    "duration": 4,
    "start_time": "2023-06-24T22:24:36.829Z"
   },
   {
    "duration": 61,
    "start_time": "2023-06-24T22:24:36.834Z"
   },
   {
    "duration": 76,
    "start_time": "2023-06-25T08:41:03.082Z"
   },
   {
    "duration": 9,
    "start_time": "2023-06-25T08:41:49.656Z"
   },
   {
    "duration": 8,
    "start_time": "2023-06-25T08:41:59.005Z"
   },
   {
    "duration": 11,
    "start_time": "2023-06-25T08:42:23.296Z"
   },
   {
    "duration": 2044,
    "start_time": "2023-06-25T08:42:29.907Z"
   },
   {
    "duration": 266,
    "start_time": "2023-06-25T08:42:31.954Z"
   },
   {
    "duration": 70,
    "start_time": "2023-06-25T08:42:32.222Z"
   },
   {
    "duration": 234,
    "start_time": "2023-06-25T08:42:32.295Z"
   },
   {
    "duration": 175,
    "start_time": "2023-06-25T08:42:32.532Z"
   },
   {
    "duration": 218,
    "start_time": "2023-06-25T08:42:32.709Z"
   },
   {
    "duration": 150,
    "start_time": "2023-06-25T08:42:32.929Z"
   },
   {
    "duration": 19,
    "start_time": "2023-06-25T08:42:33.082Z"
   },
   {
    "duration": 16,
    "start_time": "2023-06-25T08:42:33.103Z"
   },
   {
    "duration": 56,
    "start_time": "2023-06-25T08:42:33.121Z"
   },
   {
    "duration": 23,
    "start_time": "2023-06-25T08:42:33.179Z"
   },
   {
    "duration": 124,
    "start_time": "2023-06-25T08:42:33.203Z"
   },
   {
    "duration": 44,
    "start_time": "2023-06-25T08:42:33.329Z"
   },
   {
    "duration": 15,
    "start_time": "2023-06-25T08:42:33.378Z"
   },
   {
    "duration": 22,
    "start_time": "2023-06-25T08:42:33.396Z"
   },
   {
    "duration": 22,
    "start_time": "2023-06-25T08:42:33.420Z"
   },
   {
    "duration": 12,
    "start_time": "2023-06-25T08:42:33.444Z"
   },
   {
    "duration": 6,
    "start_time": "2023-06-25T08:42:33.463Z"
   },
   {
    "duration": 13623,
    "start_time": "2023-06-25T08:42:33.471Z"
   },
   {
    "duration": 8,
    "start_time": "2023-06-25T08:42:47.096Z"
   },
   {
    "duration": 103117,
    "start_time": "2023-06-25T08:42:47.106Z"
   },
   {
    "duration": 48,
    "start_time": "2023-06-25T08:44:30.226Z"
   },
   {
    "duration": 17065,
    "start_time": "2023-06-25T08:44:30.276Z"
   },
   {
    "duration": 20,
    "start_time": "2023-06-25T08:44:47.343Z"
   },
   {
    "duration": 206,
    "start_time": "2023-06-25T08:44:47.365Z"
   },
   {
    "duration": 110572,
    "start_time": "2023-06-25T08:44:47.575Z"
   },
   {
    "duration": 60,
    "start_time": "2023-06-25T08:46:38.149Z"
   },
   {
    "duration": 217,
    "start_time": "2023-06-25T08:46:38.211Z"
   },
   {
    "duration": 6,
    "start_time": "2023-06-25T08:46:38.430Z"
   },
   {
    "duration": 32,
    "start_time": "2023-06-25T08:46:38.438Z"
   },
   {
    "duration": 12,
    "start_time": "2023-06-25T08:46:38.473Z"
   },
   {
    "duration": 16172,
    "start_time": "2023-06-25T08:46:38.487Z"
   },
   {
    "duration": 9,
    "start_time": "2023-06-25T08:46:54.661Z"
   },
   {
    "duration": 185,
    "start_time": "2023-06-25T08:46:54.672Z"
   },
   {
    "duration": 198208,
    "start_time": "2023-06-25T08:46:54.859Z"
   },
   {
    "duration": 47,
    "start_time": "2023-06-25T08:50:13.069Z"
   },
   {
    "duration": 202,
    "start_time": "2023-06-25T08:50:13.118Z"
   },
   {
    "duration": 4,
    "start_time": "2023-06-25T08:50:13.323Z"
   },
   {
    "duration": 16,
    "start_time": "2023-06-25T08:50:13.329Z"
   },
   {
    "duration": 20,
    "start_time": "2023-06-25T08:50:13.347Z"
   },
   {
    "duration": 10827,
    "start_time": "2023-06-25T08:50:13.374Z"
   },
   {
    "duration": 10,
    "start_time": "2023-06-25T08:50:24.207Z"
   },
   {
    "duration": 238,
    "start_time": "2023-06-25T08:50:24.219Z"
   },
   {
    "duration": 64477,
    "start_time": "2023-06-25T08:50:24.460Z"
   },
   {
    "duration": 54,
    "start_time": "2023-06-25T08:51:28.939Z"
   },
   {
    "duration": 182,
    "start_time": "2023-06-25T08:51:28.997Z"
   },
   {
    "duration": 280695,
    "start_time": "2023-06-25T08:51:29.182Z"
   },
   {
    "duration": 7,
    "start_time": "2023-06-25T08:56:09.878Z"
   },
   {
    "duration": 30,
    "start_time": "2023-06-25T08:56:09.887Z"
   },
   {
    "duration": 23,
    "start_time": "2023-06-25T08:56:09.919Z"
   },
   {
    "duration": 173,
    "start_time": "2023-06-25T08:56:09.944Z"
   },
   {
    "duration": 184,
    "start_time": "2023-06-25T08:56:10.118Z"
   },
   {
    "duration": 372,
    "start_time": "2023-06-25T08:56:10.304Z"
   },
   {
    "duration": 0,
    "start_time": "2023-06-25T08:56:10.680Z"
   },
   {
    "duration": 0,
    "start_time": "2023-06-25T08:56:10.682Z"
   },
   {
    "duration": 0,
    "start_time": "2023-06-25T08:56:10.683Z"
   },
   {
    "duration": 0,
    "start_time": "2023-06-25T08:56:10.685Z"
   },
   {
    "duration": 0,
    "start_time": "2023-06-25T08:56:10.686Z"
   },
   {
    "duration": 1577,
    "start_time": "2023-06-25T09:43:20.324Z"
   },
   {
    "duration": 53,
    "start_time": "2023-06-25T09:43:21.903Z"
   },
   {
    "duration": 52,
    "start_time": "2023-06-25T09:43:21.958Z"
   },
   {
    "duration": 209,
    "start_time": "2023-06-25T09:43:22.012Z"
   },
   {
    "duration": 131,
    "start_time": "2023-06-25T09:43:22.223Z"
   },
   {
    "duration": 189,
    "start_time": "2023-06-25T09:43:22.357Z"
   },
   {
    "duration": 151,
    "start_time": "2023-06-25T09:43:22.548Z"
   },
   {
    "duration": 15,
    "start_time": "2023-06-25T09:43:22.701Z"
   },
   {
    "duration": 21,
    "start_time": "2023-06-25T09:43:22.717Z"
   },
   {
    "duration": 36,
    "start_time": "2023-06-25T09:43:22.741Z"
   },
   {
    "duration": 26,
    "start_time": "2023-06-25T09:43:22.779Z"
   },
   {
    "duration": 18,
    "start_time": "2023-06-25T09:43:22.807Z"
   },
   {
    "duration": 66,
    "start_time": "2023-06-25T09:43:22.827Z"
   },
   {
    "duration": 12,
    "start_time": "2023-06-25T09:43:22.895Z"
   },
   {
    "duration": 13,
    "start_time": "2023-06-25T09:43:22.909Z"
   },
   {
    "duration": 33,
    "start_time": "2023-06-25T09:43:22.923Z"
   },
   {
    "duration": 8,
    "start_time": "2023-06-25T09:43:22.959Z"
   },
   {
    "duration": 12,
    "start_time": "2023-06-25T09:43:22.970Z"
   },
   {
    "duration": 13036,
    "start_time": "2023-06-25T09:43:22.984Z"
   },
   {
    "duration": 8,
    "start_time": "2023-06-25T09:43:36.022Z"
   },
   {
    "duration": 95316,
    "start_time": "2023-06-25T09:43:36.031Z"
   },
   {
    "duration": 48,
    "start_time": "2023-06-25T09:45:11.349Z"
   },
   {
    "duration": 15312,
    "start_time": "2023-06-25T09:45:11.399Z"
   },
   {
    "duration": 10,
    "start_time": "2023-06-25T09:45:26.713Z"
   },
   {
    "duration": 217,
    "start_time": "2023-06-25T09:45:26.725Z"
   },
   {
    "duration": 97398,
    "start_time": "2023-06-25T09:45:26.945Z"
   },
   {
    "duration": 50,
    "start_time": "2023-06-25T09:47:04.345Z"
   },
   {
    "duration": 216,
    "start_time": "2023-06-25T09:47:04.400Z"
   },
   {
    "duration": 5,
    "start_time": "2023-06-25T09:47:04.618Z"
   },
   {
    "duration": 17,
    "start_time": "2023-06-25T09:47:04.625Z"
   },
   {
    "duration": 8,
    "start_time": "2023-06-25T09:47:04.654Z"
   },
   {
    "duration": 16715,
    "start_time": "2023-06-25T09:47:04.665Z"
   },
   {
    "duration": 12,
    "start_time": "2023-06-25T09:47:21.391Z"
   },
   {
    "duration": 203,
    "start_time": "2023-06-25T09:47:21.405Z"
   },
   {
    "duration": 182890,
    "start_time": "2023-06-25T09:47:21.610Z"
   },
   {
    "duration": 52,
    "start_time": "2023-06-25T09:50:24.502Z"
   },
   {
    "duration": 181,
    "start_time": "2023-06-25T09:50:24.557Z"
   },
   {
    "duration": 5,
    "start_time": "2023-06-25T09:50:24.740Z"
   },
   {
    "duration": 33,
    "start_time": "2023-06-25T09:50:24.755Z"
   },
   {
    "duration": 15,
    "start_time": "2023-06-25T09:50:24.790Z"
   },
   {
    "duration": 10240,
    "start_time": "2023-06-25T09:50:24.807Z"
   },
   {
    "duration": 16,
    "start_time": "2023-06-25T09:50:35.057Z"
   },
   {
    "duration": 155,
    "start_time": "2023-06-25T09:50:35.075Z"
   },
   {
    "duration": 55976,
    "start_time": "2023-06-25T09:50:35.232Z"
   },
   {
    "duration": 44,
    "start_time": "2023-06-25T09:51:31.211Z"
   },
   {
    "duration": 185,
    "start_time": "2023-06-25T09:51:31.258Z"
   },
   {
    "duration": 270646,
    "start_time": "2023-06-25T09:51:31.445Z"
   },
   {
    "duration": 4,
    "start_time": "2023-06-25T09:56:02.094Z"
   },
   {
    "duration": 28,
    "start_time": "2023-06-25T09:56:02.099Z"
   },
   {
    "duration": 18,
    "start_time": "2023-06-25T09:56:02.129Z"
   },
   {
    "duration": 177,
    "start_time": "2023-06-25T09:56:02.149Z"
   },
   {
    "duration": 174,
    "start_time": "2023-06-25T09:56:02.328Z"
   },
   {
    "duration": 281,
    "start_time": "2023-06-25T09:56:02.505Z"
   },
   {
    "duration": 0,
    "start_time": "2023-06-25T09:56:02.788Z"
   },
   {
    "duration": 0,
    "start_time": "2023-06-25T09:56:02.789Z"
   },
   {
    "duration": 0,
    "start_time": "2023-06-25T09:56:02.790Z"
   },
   {
    "duration": 0,
    "start_time": "2023-06-25T09:56:02.791Z"
   },
   {
    "duration": 0,
    "start_time": "2023-06-25T09:56:02.792Z"
   },
   {
    "duration": 256,
    "start_time": "2023-06-25T09:59:12.488Z"
   },
   {
    "duration": 189,
    "start_time": "2023-06-25T09:59:20.180Z"
   },
   {
    "duration": 165,
    "start_time": "2023-06-25T09:59:29.295Z"
   },
   {
    "duration": 222,
    "start_time": "2023-06-25T10:00:23.740Z"
   },
   {
    "duration": 247,
    "start_time": "2023-06-25T10:00:23.966Z"
   },
   {
    "duration": 442,
    "start_time": "2023-06-25T10:00:24.215Z"
   },
   {
    "duration": 1459,
    "start_time": "2023-06-25T10:00:24.660Z"
   },
   {
    "duration": 4,
    "start_time": "2023-06-25T10:00:26.121Z"
   },
   {
    "duration": 72,
    "start_time": "2023-06-25T10:00:26.127Z"
   }
  ],
  "kernelspec": {
   "display_name": "Python 3 (ipykernel)",
   "language": "python",
   "name": "python3"
  },
  "language_info": {
   "codemirror_mode": {
    "name": "ipython",
    "version": 3
   },
   "file_extension": ".py",
   "mimetype": "text/x-python",
   "name": "python",
   "nbconvert_exporter": "python",
   "pygments_lexer": "ipython3",
   "version": "3.9.13"
  },
  "toc": {
   "base_numbering": 1,
   "nav_menu": {},
   "number_sections": true,
   "sideBar": true,
   "skip_h1_title": true,
   "title_cell": "Содержание",
   "title_sidebar": "Contents",
   "toc_cell": true,
   "toc_position": {
    "height": "calc(100% - 180px)",
    "left": "10px",
    "top": "150px",
    "width": "165px"
   },
   "toc_section_display": true,
   "toc_window_display": false
  }
 },
 "nbformat": 4,
 "nbformat_minor": 2
}
